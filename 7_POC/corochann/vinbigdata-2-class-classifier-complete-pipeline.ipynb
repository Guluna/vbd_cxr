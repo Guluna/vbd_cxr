{
 "cells": [
  {
   "cell_type": "markdown",
   "metadata": {
    "papermill": {
     "duration": 0.036932,
     "end_time": "2021-02-17T21:45:57.432627",
     "exception": false,
     "start_time": "2021-02-17T21:45:57.395695",
     "status": "completed"
    },
    "tags": []
   },
   "source": [
    "\n",
    "![](https://www.googleapis.com/download/storage/v1/b/kaggle-forum-message-attachments/o/inbox%2F518134%2F68421364ae2731375c0f59fd1749c845%2Fpexels-ivan-samkov-4989186.jpg?generation=1611197793386796&alt=media)\n",
    "<div style=\"text-align:center;\"><cite>Image from <a href=\"https://www.pexels.com/ja-jp/photo/4989186/\">https://www.pexels.com/ja-jp/photo/4989186/</a></cite></div>\n",
    "\n",
    "<br/>\n",
    "\n",
    "# VinBigData 2-class classifier complete pipeline\n",
    "\n",
    "This competition is object detection task to find a class and location of thoracic abnormalities from chest x-ray image (radiographs).<br/>\n",
    "I explained how to train detection model in the kernel [📸VinBigData detectron2 train](https://www.kaggle.com/corochann/vinbigdata-detectron2-train).\n",
    "\n",
    "However, it is mentioned that training 2 class classifier to understand which is the normal image is important to get high score.\n",
    " - Kernel: [VinBigData 🌟2 Class Filter🌟](https://www.kaggle.com/awsaf49/vinbigdata-2-class-filter)\n",
    " - Discussion: [[LB0.155] baseline solution](https://www.kaggle.com/c/vinbigdata-chest-xray-abnormalities-detection/discussion/208837)\n",
    "\n",
    "Here, I will introduce complete **EDA, Training (with 5-fold cross validation) and Prediction pipeline** for training 2-class classifier.\n",
    "\n",
    "You can learn the usage of following tools to accelerate deep learning tasks in computer vision!\n",
    " - [pytorch](https://github.com/pytorch/pytorch): Deep learning framework, it's popular among researchers for its flexible usage. no need to explain detail!\n",
    " - [albumentations](https://github.com/albumentations-team/albumentations): Image augmentation library, developed by famous kagglers!\n",
    " - [timm](https://github.com/rwightman/pytorch-image-models): pytorch-image-models, it provides a lot of popular SoTA CNN models with pretrained weights.\n",
    " - [pytorch ignite](https://github.com/pytorch/ignite): Traning/Evaluation abstraction framework on top of pytorch.\n",
    " - [pytorch pfn extras](https://github.com/pfnet/pytorch-pfn-extras): It is used to add more feature-rich functionality on Ignite.\n",
    "\n",
    "\n",
    "[UPDATE 2021/2/6] I added submission procedure using 2-class classification prediction result.\n",
    "\n",
    "<div style=\"color:red\">\n",
    "[UPDATE 2021/2/10] I added mixup augmentation and label smoothing explanation.<br/>\n",
    "Also, further improvement using ChExpert dataset is mentioned at \"Next step\" section</div>\n",
    "\n",
    "[Note] Actually, there is on-going discussion [1-step training & prediction](https://www.kaggle.com/c/vinbigdata-chest-xray-abnormalities-detection/discussion/219672), which suggests the way only using detection model while keeping performance almost same with this kernel."
   ]
  },
  {
   "cell_type": "markdown",
   "metadata": {
    "papermill": {
     "duration": 0.034918,
     "end_time": "2021-02-17T21:45:57.502879",
     "exception": false,
     "start_time": "2021-02-17T21:45:57.467961",
     "status": "completed"
    },
    "tags": []
   },
   "source": [
    "# Table of Contents\n",
    "\n",
    "** [Dataset preparation](#dataset)** <br/>\n",
    "** [Installation](#installation)** <br/>\n",
    "** [EDA: distribution between normal & abnormal class](#eda)** <br/>\n",
    "** [Image visualizaion & augmentation with albumentations](#aug)** <br/>\n",
    "** [Defining CNN models](#model)** <br/>\n",
    "** [Training utils](#trainutil)** <br/>\n",
    "** [Training scripts](#trainscript)** <br/>\n",
    "** [Prediction on validation & test dataset](#prediction)** <br/>\n",
    "** [Next step](#nextstep)** <br/>"
   ]
  },
  {
   "cell_type": "markdown",
   "metadata": {
    "papermill": {
     "duration": 0.036099,
     "end_time": "2021-02-17T21:45:57.573899",
     "exception": false,
     "start_time": "2021-02-17T21:45:57.537800",
     "status": "completed"
    },
    "tags": []
   },
   "source": [
    "<a id=\"dataset\"></a>\n",
    "# Dataset preparation\n",
    "\n",
    "Preprocessing x-ray image format (dicom) into normal png image format is already done by @xhlulu in the below discussion:\n",
    " - [Multiple preprocessed datasets: 256/512/1024px, PNG and JPG, modified and original ratio](https://www.kaggle.com/c/vinbigdata-chest-xray-abnormalities-detection/discussion/207955).\n",
    "\n",
    "Here I will just use the dataset [VinBigData Chest X-ray Resized PNG (256x256)](https://www.kaggle.com/xhlulu/vinbigdata-chest-xray-resized-png-256x256) to skip the preprocessing and focus on modeling part. Please upvote the dataset as well!"
   ]
  },
  {
   "cell_type": "code",
   "execution_count": 1,
   "metadata": {
    "_kg_hide-input": true,
    "execution": {
     "iopub.execute_input": "2021-02-17T21:45:57.686164Z",
     "iopub.status.busy": "2021-02-17T21:45:57.685511Z",
     "iopub.status.idle": "2021-02-17T21:46:06.776846Z",
     "shell.execute_reply": "2021-02-17T21:46:06.775842Z"
    },
    "papermill": {
     "duration": 9.136115,
     "end_time": "2021-02-17T21:46:06.776962",
     "exception": false,
     "start_time": "2021-02-17T21:45:57.640847",
     "status": "completed"
    },
    "tags": []
   },
   "outputs": [
    {
     "data": {
      "text/html": [
       "        <script type=\"text/javascript\">\n",
       "        window.PlotlyConfig = {MathJaxConfig: 'local'};\n",
       "        if (window.MathJax) {MathJax.Hub.Config({SVG: {font: \"STIX-Web\"}});}\n",
       "        if (typeof require !== 'undefined') {\n",
       "        require.undef(\"plotly\");\n",
       "        requirejs.config({\n",
       "            paths: {\n",
       "                'plotly': ['https://cdn.plot.ly/plotly-latest.min']\n",
       "            }\n",
       "        });\n",
       "        require(['plotly'], function(Plotly) {\n",
       "            window._Plotly = Plotly;\n",
       "        });\n",
       "        }\n",
       "        </script>\n",
       "        "
      ]
     },
     "metadata": {},
     "output_type": "display_data"
    },
    {
     "data": {
      "text/html": [
       "<style type='text/css'>\n",
       ".datatable table.frame { margin-bottom: 0; }\n",
       ".datatable table.frame thead { border-bottom: none; }\n",
       ".datatable table.frame tr.coltypes td {  color: #FFFFFF;  line-height: 6px;  padding: 0 0.5em;}\n",
       ".datatable .bool    { background: #DDDD99; }\n",
       ".datatable .object  { background: #565656; }\n",
       ".datatable .int     { background: #5D9E5D; }\n",
       ".datatable .float   { background: #4040CC; }\n",
       ".datatable .str     { background: #CC4040; }\n",
       ".datatable .row_index {  background: var(--jp-border-color3);  border-right: 1px solid var(--jp-border-color0);  color: var(--jp-ui-font-color3);  font-size: 9px;}\n",
       ".datatable .frame tr.coltypes .row_index {  background: var(--jp-border-color0);}\n",
       ".datatable th:nth-child(2) { padding-left: 12px; }\n",
       ".datatable .hellipsis {  color: var(--jp-cell-editor-border-color);}\n",
       ".datatable .vellipsis {  background: var(--jp-layout-color0);  color: var(--jp-cell-editor-border-color);}\n",
       ".datatable .na {  color: var(--jp-cell-editor-border-color);  font-size: 80%;}\n",
       ".datatable .footer { font-size: 9px; }\n",
       ".datatable .frame_dimensions {  background: var(--jp-border-color3);  border-top: 1px solid var(--jp-border-color0);  color: var(--jp-ui-font-color3);  display: inline-block;  opacity: 0.6;  padding: 1px 10px 1px 5px;}\n",
       "</style>\n"
      ],
      "text/plain": [
       "<IPython.core.display.HTML object>"
      ]
     },
     "metadata": {},
     "output_type": "display_data"
    }
   ],
   "source": [
    "import gc\n",
    "import os\n",
    "from pathlib import Path\n",
    "import random\n",
    "import sys\n",
    "\n",
    "from tqdm.notebook import tqdm\n",
    "import numpy as np\n",
    "import pandas as pd\n",
    "import scipy as sp\n",
    "\n",
    "\n",
    "import matplotlib.pyplot as plt\n",
    "import seaborn as sns\n",
    "\n",
    "from IPython.core.display import display, HTML\n",
    "\n",
    "# --- plotly ---\n",
    "from plotly import tools, subplots\n",
    "import plotly.offline as py\n",
    "py.init_notebook_mode(connected=True)\n",
    "import plotly.graph_objs as go\n",
    "import plotly.express as px\n",
    "import plotly.figure_factory as ff\n",
    "import plotly.io as pio\n",
    "pio.templates.default = \"plotly_dark\"\n",
    "\n",
    "# --- models ---\n",
    "from sklearn import preprocessing\n",
    "from sklearn.model_selection import KFold\n",
    "import lightgbm as lgb\n",
    "import xgboost as xgb\n",
    "import catboost as cb\n",
    "import torch\n",
    "\n",
    "# --- setup ---\n",
    "pd.set_option('max_columns', 50)\n"
   ]
  },
  {
   "cell_type": "markdown",
   "metadata": {
    "papermill": {
     "duration": 0.03611,
     "end_time": "2021-02-17T21:46:06.850146",
     "exception": false,
     "start_time": "2021-02-17T21:46:06.814036",
     "status": "completed"
    },
    "tags": []
   },
   "source": [
    "<a id=\"installation\"></a>\n",
    "# Installation\n",
    "\n",
    "detectron2 is not pre-installed in this kaggle docker, so let's install it. \n",
    "We can follow [installation instruction](https://github.com/facebookresearch/detectron2/blob/master/INSTALL.md), we need to know CUDA and pytorch version to install correct `detectron2`."
   ]
  },
  {
   "cell_type": "code",
   "execution_count": 2,
   "metadata": {
    "_kg_hide-input": true,
    "_kg_hide-output": true,
    "execution": {
     "iopub.execute_input": "2021-02-17T21:46:06.934634Z",
     "iopub.status.busy": "2021-02-17T21:46:06.933831Z",
     "iopub.status.idle": "2021-02-17T21:46:36.557490Z",
     "shell.execute_reply": "2021-02-17T21:46:36.557938Z"
    },
    "papermill": {
     "duration": 29.671583,
     "end_time": "2021-02-17T21:46:36.558082",
     "exception": false,
     "start_time": "2021-02-17T21:46:06.886499",
     "status": "completed"
    },
    "tags": []
   },
   "outputs": [
    {
     "name": "stdout",
     "output_type": "stream",
     "text": [
      "Looking in links: https://dl.fbaipublicfiles.com/detectron2/wheels/cu102/torch1.7/index.html\r\n",
      "Collecting detectron2\r\n",
      "  Downloading https://dl.fbaipublicfiles.com/detectron2/wheels/cu102/torch1.7/detectron2-0.3%2Bcu102-cp37-cp37m-linux_x86_64.whl (6.8 MB)\r\n",
      "\u001b[K     |████████████████████████████████| 6.8 MB 666 kB/s \r\n",
      "\u001b[?25hRequirement already satisfied: Pillow>=7.1 in /opt/conda/lib/python3.7/site-packages (from detectron2) (8.0.1)\r\n",
      "Requirement already satisfied: matplotlib in /opt/conda/lib/python3.7/site-packages (from detectron2) (3.2.1)\r\n",
      "Requirement already satisfied: termcolor>=1.1 in /opt/conda/lib/python3.7/site-packages (from detectron2) (1.1.0)\r\n",
      "Requirement already satisfied: tensorboard in /opt/conda/lib/python3.7/site-packages (from detectron2) (2.4.0)\r\n",
      "Requirement already satisfied: tabulate in /opt/conda/lib/python3.7/site-packages (from detectron2) (0.8.7)\r\n",
      "Requirement already satisfied: yacs>=0.1.6 in /opt/conda/lib/python3.7/site-packages (from detectron2) (0.1.8)\r\n",
      "Requirement already satisfied: tqdm>4.29.0 in /opt/conda/lib/python3.7/site-packages (from detectron2) (4.45.0)\r\n",
      "Requirement already satisfied: cloudpickle in /opt/conda/lib/python3.7/site-packages (from detectron2) (1.6.0)\r\n",
      "Requirement already satisfied: pydot in /opt/conda/lib/python3.7/site-packages (from detectron2) (1.4.1)\r\n",
      "Requirement already satisfied: future in /opt/conda/lib/python3.7/site-packages (from detectron2) (0.18.2)\r\n",
      "Collecting fvcore>=0.1.2\r\n",
      "  Downloading fvcore-0.1.3.post20210213.tar.gz (35 kB)\r\n",
      "Requirement already satisfied: numpy in /opt/conda/lib/python3.7/site-packages (from fvcore>=0.1.2->detectron2) (1.18.5)\r\n",
      "Requirement already satisfied: yacs>=0.1.6 in /opt/conda/lib/python3.7/site-packages (from detectron2) (0.1.8)\r\n",
      "Requirement already satisfied: pyyaml>=5.1 in /opt/conda/lib/python3.7/site-packages (from fvcore>=0.1.2->detectron2) (5.3.1)\r\n",
      "Requirement already satisfied: tqdm>4.29.0 in /opt/conda/lib/python3.7/site-packages (from detectron2) (4.45.0)\r\n",
      "Requirement already satisfied: termcolor>=1.1 in /opt/conda/lib/python3.7/site-packages (from detectron2) (1.1.0)\r\n",
      "Requirement already satisfied: Pillow>=7.1 in /opt/conda/lib/python3.7/site-packages (from detectron2) (8.0.1)\r\n",
      "Requirement already satisfied: tabulate in /opt/conda/lib/python3.7/site-packages (from detectron2) (0.8.7)\r\n",
      "Collecting iopath>=0.1.2\r\n",
      "  Downloading iopath-0.1.3.tar.gz (10 kB)\r\n",
      "Requirement already satisfied: tqdm>4.29.0 in /opt/conda/lib/python3.7/site-packages (from detectron2) (4.45.0)\r\n",
      "Requirement already satisfied: portalocker in /opt/conda/lib/python3.7/site-packages (from iopath>=0.1.2->fvcore>=0.1.2->detectron2) (2.0.0)\r\n",
      "Requirement already satisfied: python-dateutil>=2.1 in /opt/conda/lib/python3.7/site-packages (from matplotlib->detectron2) (2.8.1)\r\n",
      "Requirement already satisfied: pyparsing!=2.0.4,!=2.1.2,!=2.1.6,>=2.0.1 in /opt/conda/lib/python3.7/site-packages (from matplotlib->detectron2) (2.4.7)\r\n",
      "Requirement already satisfied: cycler>=0.10 in /opt/conda/lib/python3.7/site-packages (from matplotlib->detectron2) (0.10.0)\r\n",
      "Requirement already satisfied: kiwisolver>=1.0.1 in /opt/conda/lib/python3.7/site-packages (from matplotlib->detectron2) (1.2.0)\r\n",
      "Requirement already satisfied: numpy in /opt/conda/lib/python3.7/site-packages (from fvcore>=0.1.2->detectron2) (1.18.5)\r\n",
      "Requirement already satisfied: six in /opt/conda/lib/python3.7/site-packages (from cycler>=0.10->matplotlib->detectron2) (1.14.0)\r\n",
      "Collecting pycocotools>=2.0.2\r\n",
      "  Downloading pycocotools-2.0.2.tar.gz (23 kB)\r\n",
      "Requirement already satisfied: setuptools>=18.0 in /opt/conda/lib/python3.7/site-packages (from pycocotools>=2.0.2->detectron2) (46.1.3.post20200325)\r\n",
      "Requirement already satisfied: cython>=0.27.3 in /opt/conda/lib/python3.7/site-packages (from pycocotools>=2.0.2->detectron2) (0.29.21)\r\n",
      "Requirement already satisfied: matplotlib in /opt/conda/lib/python3.7/site-packages (from detectron2) (3.2.1)\r\n",
      "Requirement already satisfied: pyparsing!=2.0.4,!=2.1.2,!=2.1.6,>=2.0.1 in /opt/conda/lib/python3.7/site-packages (from matplotlib->detectron2) (2.4.7)\r\n",
      "Requirement already satisfied: six in /opt/conda/lib/python3.7/site-packages (from cycler>=0.10->matplotlib->detectron2) (1.14.0)\r\n",
      "Requirement already satisfied: numpy in /opt/conda/lib/python3.7/site-packages (from fvcore>=0.1.2->detectron2) (1.18.5)\r\n",
      "Requirement already satisfied: werkzeug>=0.11.15 in /opt/conda/lib/python3.7/site-packages (from tensorboard->detectron2) (1.0.1)\r\n",
      "Requirement already satisfied: google-auth<2,>=1.6.3 in /opt/conda/lib/python3.7/site-packages (from tensorboard->detectron2) (1.23.0)\r\n",
      "Requirement already satisfied: wheel>=0.26 in /opt/conda/lib/python3.7/site-packages (from tensorboard->detectron2) (0.34.2)\r\n",
      "Requirement already satisfied: grpcio>=1.24.3 in /opt/conda/lib/python3.7/site-packages (from tensorboard->detectron2) (1.34.0)\r\n",
      "Requirement already satisfied: absl-py>=0.4 in /opt/conda/lib/python3.7/site-packages (from tensorboard->detectron2) (0.10.0)\r\n",
      "Requirement already satisfied: requests<3,>=2.21.0 in /opt/conda/lib/python3.7/site-packages (from tensorboard->detectron2) (2.23.0)\r\n",
      "Requirement already satisfied: markdown>=2.6.8 in /opt/conda/lib/python3.7/site-packages (from tensorboard->detectron2) (3.2.1)\r\n",
      "Requirement already satisfied: protobuf>=3.6.0 in /opt/conda/lib/python3.7/site-packages (from tensorboard->detectron2) (3.14.0)\r\n",
      "Requirement already satisfied: six in /opt/conda/lib/python3.7/site-packages (from cycler>=0.10->matplotlib->detectron2) (1.14.0)\r\n",
      "Requirement already satisfied: setuptools>=18.0 in /opt/conda/lib/python3.7/site-packages (from pycocotools>=2.0.2->detectron2) (46.1.3.post20200325)\r\n",
      "Requirement already satisfied: google-auth-oauthlib<0.5,>=0.4.1 in /opt/conda/lib/python3.7/site-packages (from tensorboard->detectron2) (0.4.1)\r\n",
      "Requirement already satisfied: tensorboard-plugin-wit>=1.6.0 in /opt/conda/lib/python3.7/site-packages (from tensorboard->detectron2) (1.7.0)\r\n",
      "Requirement already satisfied: six in /opt/conda/lib/python3.7/site-packages (from cycler>=0.10->matplotlib->detectron2) (1.14.0)\r\n",
      "Requirement already satisfied: six in /opt/conda/lib/python3.7/site-packages (from cycler>=0.10->matplotlib->detectron2) (1.14.0)\r\n",
      "Requirement already satisfied: pyasn1-modules>=0.2.1 in /opt/conda/lib/python3.7/site-packages (from google-auth<2,>=1.6.3->tensorboard->detectron2) (0.2.7)\r\n",
      "Requirement already satisfied: setuptools>=18.0 in /opt/conda/lib/python3.7/site-packages (from pycocotools>=2.0.2->detectron2) (46.1.3.post20200325)\r\n",
      "Requirement already satisfied: rsa<5,>=3.1.4 in /opt/conda/lib/python3.7/site-packages (from google-auth<2,>=1.6.3->tensorboard->detectron2) (4.0)\r\n",
      "Requirement already satisfied: cachetools<5.0,>=2.0.0 in /opt/conda/lib/python3.7/site-packages (from google-auth<2,>=1.6.3->tensorboard->detectron2) (3.1.1)\r\n",
      "Requirement already satisfied: requests-oauthlib>=0.7.0 in /opt/conda/lib/python3.7/site-packages (from google-auth-oauthlib<0.5,>=0.4.1->tensorboard->detectron2) (1.2.0)\r\n",
      "Requirement already satisfied: google-auth<2,>=1.6.3 in /opt/conda/lib/python3.7/site-packages (from tensorboard->detectron2) (1.23.0)\r\n",
      "Requirement already satisfied: six in /opt/conda/lib/python3.7/site-packages (from cycler>=0.10->matplotlib->detectron2) (1.14.0)\r\n",
      "Requirement already satisfied: setuptools>=18.0 in /opt/conda/lib/python3.7/site-packages (from pycocotools>=2.0.2->detectron2) (46.1.3.post20200325)\r\n",
      "Requirement already satisfied: six in /opt/conda/lib/python3.7/site-packages (from cycler>=0.10->matplotlib->detectron2) (1.14.0)\r\n",
      "Requirement already satisfied: pyasn1<0.5.0,>=0.4.6 in /opt/conda/lib/python3.7/site-packages (from pyasn1-modules>=0.2.1->google-auth<2,>=1.6.3->tensorboard->detectron2) (0.4.8)\r\n",
      "Requirement already satisfied: idna<3,>=2.5 in /opt/conda/lib/python3.7/site-packages (from requests<3,>=2.21.0->tensorboard->detectron2) (2.9)\r\n",
      "Requirement already satisfied: certifi>=2017.4.17 in /opt/conda/lib/python3.7/site-packages (from requests<3,>=2.21.0->tensorboard->detectron2) (2020.12.5)\r\n",
      "Requirement already satisfied: chardet<4,>=3.0.2 in /opt/conda/lib/python3.7/site-packages (from requests<3,>=2.21.0->tensorboard->detectron2) (3.0.4)\r\n",
      "Requirement already satisfied: urllib3!=1.25.0,!=1.25.1,<1.26,>=1.21.1 in /opt/conda/lib/python3.7/site-packages (from requests<3,>=2.21.0->tensorboard->detectron2) (1.25.9)\r\n",
      "Requirement already satisfied: oauthlib>=3.0.0 in /opt/conda/lib/python3.7/site-packages (from requests-oauthlib>=0.7.0->google-auth-oauthlib<0.5,>=0.4.1->tensorboard->detectron2) (3.0.1)\r\n",
      "Requirement already satisfied: requests<3,>=2.21.0 in /opt/conda/lib/python3.7/site-packages (from tensorboard->detectron2) (2.23.0)\r\n",
      "Requirement already satisfied: pyasn1<0.5.0,>=0.4.6 in /opt/conda/lib/python3.7/site-packages (from pyasn1-modules>=0.2.1->google-auth<2,>=1.6.3->tensorboard->detectron2) (0.4.8)\r\n",
      "Requirement already satisfied: pyyaml>=5.1 in /opt/conda/lib/python3.7/site-packages (from fvcore>=0.1.2->detectron2) (5.3.1)\r\n",
      "Building wheels for collected packages: fvcore, iopath, pycocotools\r\n",
      "  Building wheel for fvcore (setup.py) ... \u001b[?25l-\b \b\\\b \bdone\r\n",
      "\u001b[?25h  Created wheel for fvcore: filename=fvcore-0.1.3.post20210213-py3-none-any.whl size=44977 sha256=75a8df4dc553a7e9d0352937257c03dc384713b125fde98b9774a78374ac095b\r\n",
      "  Stored in directory: /root/.cache/pip/wheels/68/0f/8e/328269a01b25aae62e953fa7b8586f7858a6d3271840bd4d9e\r\n",
      "  Building wheel for iopath (setup.py) ... \u001b[?25l-\b \bdone\r\n",
      "\u001b[?25h  Created wheel for iopath: filename=iopath-0.1.3-py3-none-any.whl size=11169 sha256=e3c72383268b0d116ad6a5490aabe96e242ffa3c33e2ac25af60ba9507507749\r\n",
      "  Stored in directory: /root/.cache/pip/wheels/33/44/20/06445612ad8cf4ad6250aee85516e9499d5a49151ef5358164\r\n",
      "  Building wheel for pycocotools (setup.py) ... \u001b[?25l-\b \b\\\b \b|\b \b/\b \b-\b \b\\\b \b|\b \b/\b \bdone\r\n",
      "\u001b[?25h  Created wheel for pycocotools: filename=pycocotools-2.0.2-cp37-cp37m-linux_x86_64.whl size=273782 sha256=4e7e704963d7448436867c556f9bd3d674eeea874542cf775e4907c99a3d26a9\r\n",
      "  Stored in directory: /root/.cache/pip/wheels/bc/cf/1b/e95c99c5f9d1648be3f500ca55e7ce55f24818b0f48336adaf\r\n",
      "Successfully built fvcore iopath pycocotools\r\n",
      "Installing collected packages: iopath, pycocotools, fvcore, detectron2\r\n",
      "Successfully installed detectron2-0.3+cu102 fvcore-0.1.3.post20210213 iopath-0.1.3 pycocotools-2.0.2\r\n",
      "\u001b[33mWARNING: You are using pip version 20.3.1; however, version 21.0.1 is available.\r\n",
      "You should consider upgrading via the '/opt/conda/bin/python3.7 -m pip install --upgrade pip' command.\u001b[0m\r\n",
      "Collecting pytorch-pfn-extras\r\n",
      "  Downloading pytorch-pfn-extras-0.3.2.tar.gz (94 kB)\r\n",
      "\u001b[K     |████████████████████████████████| 94 kB 2.0 MB/s \r\n",
      "\u001b[?25hRequirement already satisfied: numpy in /opt/conda/lib/python3.7/site-packages (from pytorch-pfn-extras) (1.18.5)\r\n",
      "Requirement already satisfied: torch in /opt/conda/lib/python3.7/site-packages (from pytorch-pfn-extras) (1.7.0)\r\n",
      "Collecting timm\r\n",
      "  Downloading timm-0.3.4-py3-none-any.whl (244 kB)\r\n",
      "\u001b[K     |████████████████████████████████| 244 kB 28.0 MB/s \r\n",
      "\u001b[?25hRequirement already satisfied: torch in /opt/conda/lib/python3.7/site-packages (from pytorch-pfn-extras) (1.7.0)\r\n",
      "Requirement already satisfied: torchvision in /opt/conda/lib/python3.7/site-packages (from timm) (0.8.1)\r\n",
      "Requirement already satisfied: future in /opt/conda/lib/python3.7/site-packages (from torch->pytorch-pfn-extras) (0.18.2)\r\n",
      "Requirement already satisfied: typing_extensions in /opt/conda/lib/python3.7/site-packages (from torch->pytorch-pfn-extras) (3.7.4.1)\r\n",
      "Requirement already satisfied: dataclasses in /opt/conda/lib/python3.7/site-packages (from torch->pytorch-pfn-extras) (0.6)\r\n",
      "Requirement already satisfied: numpy in /opt/conda/lib/python3.7/site-packages (from pytorch-pfn-extras) (1.18.5)\r\n",
      "Requirement already satisfied: numpy in /opt/conda/lib/python3.7/site-packages (from pytorch-pfn-extras) (1.18.5)\r\n",
      "Requirement already satisfied: torch in /opt/conda/lib/python3.7/site-packages (from pytorch-pfn-extras) (1.7.0)\r\n",
      "Requirement already satisfied: pillow>=4.1.1 in /opt/conda/lib/python3.7/site-packages (from torchvision->timm) (8.0.1)\r\n",
      "Building wheels for collected packages: pytorch-pfn-extras\r\n",
      "  Building wheel for pytorch-pfn-extras (setup.py) ... \u001b[?25l-\b \b\\\b \bdone\r\n",
      "\u001b[?25h  Created wheel for pytorch-pfn-extras: filename=pytorch_pfn_extras-0.3.2-py3-none-any.whl size=104301 sha256=55a904e2f83357ad36fa408eeade81044c35daba253c8449104a71da59e04a20\r\n",
      "  Stored in directory: /root/.cache/pip/wheels/86/97/78/8eff42f17b564da55e7b81ec3f273ff4618ca143b8b646f25d\r\n",
      "Successfully built pytorch-pfn-extras\r\n",
      "Installing collected packages: timm, pytorch-pfn-extras\r\n",
      "Successfully installed pytorch-pfn-extras-0.3.2 timm-0.3.4\r\n",
      "\u001b[33mWARNING: You are using pip version 20.3.1; however, version 21.0.1 is available.\r\n",
      "You should consider upgrading via the '/opt/conda/bin/python3.7 -m pip install --upgrade pip' command.\u001b[0m\r\n"
     ]
    }
   ],
   "source": [
    "!pip install detectron2 -f \\\n",
    "  https://dl.fbaipublicfiles.com/detectron2/wheels/cu102/torch1.7/index.html\n",
    "!pip install pytorch-pfn-extras timm"
   ]
  },
  {
   "cell_type": "markdown",
   "metadata": {
    "papermill": {
     "duration": 0.052405,
     "end_time": "2021-02-17T21:46:36.664525",
     "exception": false,
     "start_time": "2021-02-17T21:46:36.612120",
     "status": "completed"
    },
    "tags": []
   },
   "source": [
    "This `Flags` class summarizes all the configuratoin available during the training.\n",
    "\n",
    "As I will show later, you can change various hyperparameters to experiment improving your models!"
   ]
  },
  {
   "cell_type": "code",
   "execution_count": 3,
   "metadata": {
    "_kg_hide-input": true,
    "execution": {
     "iopub.execute_input": "2021-02-17T21:46:36.777489Z",
     "iopub.status.busy": "2021-02-17T21:46:36.776650Z",
     "iopub.status.idle": "2021-02-17T21:46:36.779380Z",
     "shell.execute_reply": "2021-02-17T21:46:36.778944Z"
    },
    "papermill": {
     "duration": 0.061176,
     "end_time": "2021-02-17T21:46:36.779472",
     "exception": false,
     "start_time": "2021-02-17T21:46:36.718296",
     "status": "completed"
    },
    "tags": []
   },
   "outputs": [],
   "source": [
    "from typing import Any\n",
    "import yaml\n",
    "\n",
    "def save_yaml(filepath: str, content: Any, width: int = 120):\n",
    "    with open(filepath, \"w\") as f:\n",
    "        yaml.dump(content, f, width=width)"
   ]
  },
  {
   "cell_type": "code",
   "execution_count": 4,
   "metadata": {
    "_kg_hide-input": true,
    "execution": {
     "iopub.execute_input": "2021-02-17T21:46:36.899647Z",
     "iopub.status.busy": "2021-02-17T21:46:36.899004Z",
     "iopub.status.idle": "2021-02-17T21:46:36.902191Z",
     "shell.execute_reply": "2021-02-17T21:46:36.901764Z"
    },
    "papermill": {
     "duration": 0.069686,
     "end_time": "2021-02-17T21:46:36.902284",
     "exception": false,
     "start_time": "2021-02-17T21:46:36.832598",
     "status": "completed"
    },
    "tags": []
   },
   "outputs": [],
   "source": [
    "from dataclasses import dataclass, field\n",
    "from typing import Dict, Any, Tuple, Union, List\n",
    "\n",
    "\n",
    "@dataclass\n",
    "class Flags:\n",
    "    # General\n",
    "    debug: bool = True\n",
    "    outdir: str = \"results/det\"\n",
    "    device: str = \"cuda:0\"\n",
    "\n",
    "    # Data config\n",
    "    imgdir_name: str = \"vinbigdata-chest-xray-resized-png-256x256\"\n",
    "    # split_mode: str = \"all_train\"  # all_train or valid20\n",
    "    seed: int = 111\n",
    "    target_fold: int = 0  # 0~4\n",
    "    label_smoothing: float = 0.0\n",
    "    # Model config\n",
    "    model_name: str = \"resnet18\"\n",
    "    model_mode: str = \"normal\"  # normal, cnn_fixed supported\n",
    "    # Training config\n",
    "    epoch: int = 20\n",
    "    batchsize: int = 8\n",
    "    valid_batchsize: int = 16\n",
    "    num_workers: int = 4\n",
    "    snapshot_freq: int = 5\n",
    "    ema_decay: float = 0.999  # negative value is to inactivate ema.\n",
    "    scheduler_type: str = \"\"\n",
    "    scheduler_kwargs: Dict[str, Any] = field(default_factory=lambda: {})\n",
    "    scheduler_trigger: List[Union[int, str]] = field(default_factory=lambda: [1, \"iteration\"])\n",
    "    aug_kwargs: Dict[str, Dict[str, Any]] = field(default_factory=lambda: {})\n",
    "    mixup_prob: float = -1.0  # Apply mixup augmentation when positive value is set.\n",
    "\n",
    "    def update(self, param_dict: Dict) -> \"Flags\":\n",
    "        # Overwrite by `param_dict`\n",
    "        for key, value in param_dict.items():\n",
    "            if not hasattr(self, key):\n",
    "                raise ValueError(f\"[ERROR] Unexpected key for flag = {key}\")\n",
    "            setattr(self, key, value)\n",
    "        return self"
   ]
  },
  {
   "cell_type": "code",
   "execution_count": 5,
   "metadata": {
    "_kg_hide-input": true,
    "execution": {
     "iopub.execute_input": "2021-02-17T21:46:37.016706Z",
     "iopub.status.busy": "2021-02-17T21:46:37.015931Z",
     "iopub.status.idle": "2021-02-17T21:46:37.018235Z",
     "shell.execute_reply": "2021-02-17T21:46:37.018707Z"
    },
    "papermill": {
     "duration": 0.063494,
     "end_time": "2021-02-17T21:46:37.018809",
     "exception": false,
     "start_time": "2021-02-17T21:46:36.955315",
     "status": "completed"
    },
    "tags": []
   },
   "outputs": [],
   "source": [
    "flags_dict = {\n",
    "    \"debug\": False,  # Change to True for fast debug run!\n",
    "    \"outdir\": \"results/tmp_debug\",\n",
    "    # Data\n",
    "    \"imgdir_name\": \"vinbigdata-chest-xray-resized-png-256x256\",\n",
    "    # Model\n",
    "    \"model_name\": \"resnet18\",\n",
    "    # Training\n",
    "    \"num_workers\": 4,\n",
    "    \"epoch\": 15,\n",
    "    \"batchsize\": 8,\n",
    "    \"scheduler_type\": \"CosineAnnealingWarmRestarts\",\n",
    "    \"scheduler_kwargs\": {\"T_0\": 28125},  # 15000 * 15 epoch // (batchsize=8)\n",
    "    \"scheduler_trigger\": [1, \"iteration\"],\n",
    "    \"aug_kwargs\": {\n",
    "        \"HorizontalFlip\": {\"p\": 0.5},\n",
    "        \"ShiftScaleRotate\": {\"scale_limit\": 0.15, \"rotate_limit\": 10, \"p\": 0.5},\n",
    "        \"RandomBrightnessContrast\": {\"p\": 0.5},\n",
    "        \"CoarseDropout\": {\"max_holes\": 8, \"max_height\": 25, \"max_width\": 25, \"p\": 0.5},\n",
    "        \"Blur\": {\"blur_limit\": [3, 7], \"p\": 0.5},\n",
    "        \"Downscale\": {\"scale_min\": 0.25, \"scale_max\": 0.9, \"p\": 0.3},\n",
    "        \"RandomGamma\": {\"gamma_limit\": [80, 120], \"p\": 0.6},\n",
    "    }\n",
    "}"
   ]
  },
  {
   "cell_type": "code",
   "execution_count": 6,
   "metadata": {
    "_kg_hide-input": true,
    "execution": {
     "iopub.execute_input": "2021-02-17T21:46:37.131942Z",
     "iopub.status.busy": "2021-02-17T21:46:37.131118Z",
     "iopub.status.idle": "2021-02-17T21:46:37.305817Z",
     "shell.execute_reply": "2021-02-17T21:46:37.304767Z"
    },
    "papermill": {
     "duration": 0.234439,
     "end_time": "2021-02-17T21:46:37.305923",
     "exception": false,
     "start_time": "2021-02-17T21:46:37.071484",
     "status": "completed"
    },
    "tags": []
   },
   "outputs": [
    {
     "name": "stdout",
     "output_type": "stream",
     "text": [
      "torch 1.7.0\n",
      "flags Flags(debug=False, outdir='results/tmp_debug', device='cuda:0', imgdir_name='vinbigdata-chest-xray-resized-png-256x256', seed=111, target_fold=0, label_smoothing=0.0, model_name='resnet18', model_mode='normal', epoch=15, batchsize=8, valid_batchsize=16, num_workers=4, snapshot_freq=5, ema_decay=0.999, scheduler_type='CosineAnnealingWarmRestarts', scheduler_kwargs={'T_0': 28125}, scheduler_trigger=[1, 'iteration'], aug_kwargs={'HorizontalFlip': {'p': 0.5}, 'ShiftScaleRotate': {'scale_limit': 0.15, 'rotate_limit': 10, 'p': 0.5}, 'RandomBrightnessContrast': {'p': 0.5}, 'CoarseDropout': {'max_holes': 8, 'max_height': 25, 'max_width': 25, 'p': 0.5}, 'Blur': {'blur_limit': [3, 7], 'p': 0.5}, 'Downscale': {'scale_min': 0.25, 'scale_max': 0.9, 'p': 0.3}, 'RandomGamma': {'gamma_limit': [80, 120], 'p': 0.6}}, mixup_prob=-1.0)\n"
     ]
    }
   ],
   "source": [
    "import dataclasses\n",
    "\n",
    "# args = parse()\n",
    "print(\"torch\", torch.__version__)\n",
    "flags = Flags().update(flags_dict)\n",
    "print(\"flags\", flags)\n",
    "debug = flags.debug\n",
    "outdir = Path(flags.outdir)\n",
    "os.makedirs(str(outdir), exist_ok=True)\n",
    "flags_dict = dataclasses.asdict(flags)\n",
    "save_yaml(str(outdir / \"flags.yaml\"), flags_dict)\n",
    "\n",
    "# --- Read data ---\n",
    "inputdir = Path(\"/kaggle/input\")\n",
    "datadir = inputdir / \"vinbigdata-chest-xray-abnormalities-detection\"\n",
    "imgdir = inputdir / flags.imgdir_name\n",
    "\n",
    "# Read in the data CSV files\n",
    "train = pd.read_csv(datadir / \"train.csv\")\n",
    "# sample_submission = pd.read_csv(datadir / 'sample_submission.csv')"
   ]
  },
  {
   "cell_type": "markdown",
   "metadata": {
    "papermill": {
     "duration": 0.053475,
     "end_time": "2021-02-17T21:46:37.414096",
     "exception": false,
     "start_time": "2021-02-17T21:46:37.360621",
     "status": "completed"
    },
    "tags": []
   },
   "source": [
    "<a id=\"eda\"></a>\n",
    "# EDA: distribution between normal & abnormal class\n",
    "\n",
    "At first, let's check how many normal class exist in the training data.\n",
    "It is classified as \"class_name = No finding\" and \"class_id = 14\".\n",
    "\n",
    "However you need to be careful that 3 radiologists annotated for each image, so you can find 3 annotations as you can see below."
   ]
  },
  {
   "cell_type": "code",
   "execution_count": 7,
   "metadata": {
    "execution": {
     "iopub.execute_input": "2021-02-17T21:46:37.537432Z",
     "iopub.status.busy": "2021-02-17T21:46:37.525634Z",
     "iopub.status.idle": "2021-02-17T21:46:37.555251Z",
     "shell.execute_reply": "2021-02-17T21:46:37.554769Z"
    },
    "papermill": {
     "duration": 0.087359,
     "end_time": "2021-02-17T21:46:37.555345",
     "exception": false,
     "start_time": "2021-02-17T21:46:37.467986",
     "status": "completed"
    },
    "tags": []
   },
   "outputs": [
    {
     "data": {
      "text/html": [
       "<div>\n",
       "<style scoped>\n",
       "    .dataframe tbody tr th:only-of-type {\n",
       "        vertical-align: middle;\n",
       "    }\n",
       "\n",
       "    .dataframe tbody tr th {\n",
       "        vertical-align: top;\n",
       "    }\n",
       "\n",
       "    .dataframe thead th {\n",
       "        text-align: right;\n",
       "    }\n",
       "</style>\n",
       "<table border=\"1\" class=\"dataframe\">\n",
       "  <thead>\n",
       "    <tr style=\"text-align: right;\">\n",
       "      <th></th>\n",
       "      <th>image_id</th>\n",
       "      <th>class_name</th>\n",
       "      <th>class_id</th>\n",
       "      <th>rad_id</th>\n",
       "      <th>x_min</th>\n",
       "      <th>y_min</th>\n",
       "      <th>x_max</th>\n",
       "      <th>y_max</th>\n",
       "    </tr>\n",
       "  </thead>\n",
       "  <tbody>\n",
       "    <tr>\n",
       "      <th>0</th>\n",
       "      <td>50a418190bc3fb1ef1633bf9678929b3</td>\n",
       "      <td>No finding</td>\n",
       "      <td>14</td>\n",
       "      <td>R11</td>\n",
       "      <td>NaN</td>\n",
       "      <td>NaN</td>\n",
       "      <td>NaN</td>\n",
       "      <td>NaN</td>\n",
       "    </tr>\n",
       "    <tr>\n",
       "      <th>45863</th>\n",
       "      <td>50a418190bc3fb1ef1633bf9678929b3</td>\n",
       "      <td>No finding</td>\n",
       "      <td>14</td>\n",
       "      <td>R15</td>\n",
       "      <td>NaN</td>\n",
       "      <td>NaN</td>\n",
       "      <td>NaN</td>\n",
       "      <td>NaN</td>\n",
       "    </tr>\n",
       "    <tr>\n",
       "      <th>57424</th>\n",
       "      <td>50a418190bc3fb1ef1633bf9678929b3</td>\n",
       "      <td>No finding</td>\n",
       "      <td>14</td>\n",
       "      <td>R16</td>\n",
       "      <td>NaN</td>\n",
       "      <td>NaN</td>\n",
       "      <td>NaN</td>\n",
       "      <td>NaN</td>\n",
       "    </tr>\n",
       "  </tbody>\n",
       "</table>\n",
       "</div>"
      ],
      "text/plain": [
       "                               image_id  class_name  class_id rad_id  x_min  \\\n",
       "0      50a418190bc3fb1ef1633bf9678929b3  No finding        14    R11    NaN   \n",
       "45863  50a418190bc3fb1ef1633bf9678929b3  No finding        14    R15    NaN   \n",
       "57424  50a418190bc3fb1ef1633bf9678929b3  No finding        14    R16    NaN   \n",
       "\n",
       "       y_min  x_max  y_max  \n",
       "0        NaN    NaN    NaN  \n",
       "45863    NaN    NaN    NaN  \n",
       "57424    NaN    NaN    NaN  "
      ]
     },
     "execution_count": 7,
     "metadata": {},
     "output_type": "execute_result"
    }
   ],
   "source": [
    "train.query(\"image_id == '50a418190bc3fb1ef1633bf9678929b3'\")"
   ]
  },
  {
   "cell_type": "markdown",
   "metadata": {
    "papermill": {
     "duration": 0.053793,
     "end_time": "2021-02-17T21:46:37.663683",
     "exception": false,
     "start_time": "2021-02-17T21:46:37.609890",
     "status": "completed"
    },
    "tags": []
   },
   "source": [
    "So the question arises, is there an image that the 3 radiologists' opinions differ?\n",
    "\n",
    "Let's check number of \"No finding\" annotations for each image, if the opinions are in complete agreement the number of \"No finding\" annotations should be **0 -> Abnormal(all radiologists does not think this is normal)\" or \"1 -> Normal(all radiologists think this is normal)\"**."
   ]
  },
  {
   "cell_type": "code",
   "execution_count": 8,
   "metadata": {
    "execution": {
     "iopub.execute_input": "2021-02-17T21:46:37.782536Z",
     "iopub.status.busy": "2021-02-17T21:46:37.781703Z",
     "iopub.status.idle": "2021-02-17T21:46:40.374211Z",
     "shell.execute_reply": "2021-02-17T21:46:40.374650Z"
    },
    "papermill": {
     "duration": 2.656924,
     "end_time": "2021-02-17T21:46:40.374779",
     "exception": false,
     "start_time": "2021-02-17T21:46:37.717855",
     "status": "completed"
    },
    "tags": []
   },
   "outputs": [
    {
     "data": {
      "text/html": [
       "<div>\n",
       "<style scoped>\n",
       "    .dataframe tbody tr th:only-of-type {\n",
       "        vertical-align: middle;\n",
       "    }\n",
       "\n",
       "    .dataframe tbody tr th {\n",
       "        vertical-align: top;\n",
       "    }\n",
       "\n",
       "    .dataframe thead th {\n",
       "        text-align: right;\n",
       "    }\n",
       "</style>\n",
       "<table border=\"1\" class=\"dataframe\">\n",
       "  <thead>\n",
       "    <tr style=\"text-align: right;\">\n",
       "      <th></th>\n",
       "      <th>image_id</th>\n",
       "      <th>num_normal_annotations</th>\n",
       "    </tr>\n",
       "  </thead>\n",
       "  <tbody>\n",
       "    <tr>\n",
       "      <th>0</th>\n",
       "      <td>000434271f63a053c4128a0ba6352c7f</td>\n",
       "      <td>3</td>\n",
       "    </tr>\n",
       "    <tr>\n",
       "      <th>1</th>\n",
       "      <td>00053190460d56c53cc3e57321387478</td>\n",
       "      <td>3</td>\n",
       "    </tr>\n",
       "    <tr>\n",
       "      <th>2</th>\n",
       "      <td>0005e8e3701dfb1dd93d53e2ff537b6e</td>\n",
       "      <td>0</td>\n",
       "    </tr>\n",
       "    <tr>\n",
       "      <th>3</th>\n",
       "      <td>0006e0a85696f6bb578e84fafa9a5607</td>\n",
       "      <td>3</td>\n",
       "    </tr>\n",
       "    <tr>\n",
       "      <th>4</th>\n",
       "      <td>0007d316f756b3fa0baea2ff514ce945</td>\n",
       "      <td>0</td>\n",
       "    </tr>\n",
       "  </tbody>\n",
       "</table>\n",
       "</div>"
      ],
      "text/plain": [
       "                           image_id  num_normal_annotations\n",
       "0  000434271f63a053c4128a0ba6352c7f                       3\n",
       "1  00053190460d56c53cc3e57321387478                       3\n",
       "2  0005e8e3701dfb1dd93d53e2ff537b6e                       0\n",
       "3  0006e0a85696f6bb578e84fafa9a5607                       3\n",
       "4  0007d316f756b3fa0baea2ff514ce945                       0"
      ]
     },
     "execution_count": 8,
     "metadata": {},
     "output_type": "execute_result"
    }
   ],
   "source": [
    "is_normal_df = train.groupby(\"image_id\")[\"class_id\"].agg(lambda s: (s == 14).sum()).reset_index().rename({\"class_id\": \"num_normal_annotations\"}, axis=1)\n",
    "is_normal_df.head()"
   ]
  },
  {
   "cell_type": "markdown",
   "metadata": {
    "papermill": {
     "duration": 0.054046,
     "end_time": "2021-02-17T21:46:40.483831",
     "exception": false,
     "start_time": "2021-02-17T21:46:40.429785",
     "status": "completed"
    },
    "tags": []
   },
   "source": [
    "We could confirm that **always 3 radiologists opinions match** for normal - abnormal diagnosis.\n",
    "\n",
    "[Note] I noticed that it does not apply for the other classes. i.e., 3 radiologists opinions sometimes do not match for the other class of thoracic abnormalities."
   ]
  },
  {
   "cell_type": "code",
   "execution_count": 9,
   "metadata": {
    "execution": {
     "iopub.execute_input": "2021-02-17T21:46:40.598447Z",
     "iopub.status.busy": "2021-02-17T21:46:40.597690Z",
     "iopub.status.idle": "2021-02-17T21:46:40.743834Z",
     "shell.execute_reply": "2021-02-17T21:46:40.743390Z"
    },
    "papermill": {
     "duration": 0.205628,
     "end_time": "2021-02-17T21:46:40.743922",
     "exception": false,
     "start_time": "2021-02-17T21:46:40.538294",
     "status": "completed"
    },
    "tags": []
   },
   "outputs": [
    {
     "data": {
      "text/plain": [
       "Text(0.5, 1.0, \"The number of 'No finding' annotations in each image\")"
      ]
     },
     "execution_count": 9,
     "metadata": {},
     "output_type": "execute_result"
    },
    {
     "data": {
      "image/png": "[encoded data removed]",
      "text/plain": [
       "<Figure size 432x288 with 1 Axes>"
      ]
     },
     "metadata": {
      "needs_background": "light"
     },
     "output_type": "display_data"
    }
   ],
   "source": [
    "num_normal_anno_counts = is_normal_df[\"num_normal_annotations\"].value_counts()\n",
    "num_normal_anno_counts.plot(kind=\"bar\")\n",
    "plt.title(\"The number of 'No finding' annotations in each image\")"
   ]
  },
  {
   "cell_type": "code",
   "execution_count": 10,
   "metadata": {
    "_kg_hide-input": true,
    "_kg_hide-output": true,
    "execution": {
     "iopub.execute_input": "2021-02-17T21:46:40.866948Z",
     "iopub.status.busy": "2021-02-17T21:46:40.866034Z",
     "iopub.status.idle": "2021-02-17T21:46:40.869583Z",
     "shell.execute_reply": "2021-02-17T21:46:40.870019Z"
    },
    "papermill": {
     "duration": 0.070477,
     "end_time": "2021-02-17T21:46:40.870129",
     "exception": false,
     "start_time": "2021-02-17T21:46:40.799652",
     "status": "completed"
    },
    "tags": []
   },
   "outputs": [
    {
     "data": {
      "text/html": [
       "<div>\n",
       "<style scoped>\n",
       "    .dataframe tbody tr th:only-of-type {\n",
       "        vertical-align: middle;\n",
       "    }\n",
       "\n",
       "    .dataframe tbody tr th {\n",
       "        vertical-align: top;\n",
       "    }\n",
       "\n",
       "    .dataframe thead th {\n",
       "        text-align: right;\n",
       "    }\n",
       "</style>\n",
       "<table border=\"1\" class=\"dataframe\">\n",
       "  <thead>\n",
       "    <tr style=\"text-align: right;\">\n",
       "      <th></th>\n",
       "      <th>index</th>\n",
       "      <th>num_normal_annotations</th>\n",
       "      <th>name</th>\n",
       "    </tr>\n",
       "  </thead>\n",
       "  <tbody>\n",
       "    <tr>\n",
       "      <th>0</th>\n",
       "      <td>3</td>\n",
       "      <td>10606</td>\n",
       "      <td>Normal</td>\n",
       "    </tr>\n",
       "    <tr>\n",
       "      <th>1</th>\n",
       "      <td>0</td>\n",
       "      <td>4394</td>\n",
       "      <td>Abnormal</td>\n",
       "    </tr>\n",
       "  </tbody>\n",
       "</table>\n",
       "</div>"
      ],
      "text/plain": [
       "   index  num_normal_annotations      name\n",
       "0      3                   10606    Normal\n",
       "1      0                    4394  Abnormal"
      ]
     },
     "execution_count": 10,
     "metadata": {},
     "output_type": "execute_result"
    }
   ],
   "source": [
    "num_normal_anno_counts_df = num_normal_anno_counts.reset_index()\n",
    "num_normal_anno_counts_df[\"name\"] = num_normal_anno_counts_df[\"index\"].map({0: \"Abnormal\", 3: \"Normal\"})\n",
    "num_normal_anno_counts_df"
   ]
  },
  {
   "cell_type": "markdown",
   "metadata": {
    "papermill": {
     "duration": 0.056173,
     "end_time": "2021-02-17T21:46:40.982761",
     "exception": false,
     "start_time": "2021-02-17T21:46:40.926588",
     "status": "completed"
    },
    "tags": []
   },
   "source": [
    "So almost 70% of the data is actually \"Normal\" X-ray images.\n",
    "\n",
    "Only 30% of the images need thoracic abnormality location detection."
   ]
  },
  {
   "cell_type": "code",
   "execution_count": 11,
   "metadata": {
    "execution": {
     "iopub.execute_input": "2021-02-17T21:46:41.103589Z",
     "iopub.status.busy": "2021-02-17T21:46:41.102958Z",
     "iopub.status.idle": "2021-02-17T21:46:41.245968Z",
     "shell.execute_reply": "2021-02-17T21:46:41.246406Z"
    },
    "papermill": {
     "duration": 0.207261,
     "end_time": "2021-02-17T21:46:41.246519",
     "exception": false,
     "start_time": "2021-02-17T21:46:41.039258",
     "status": "completed"
    },
    "tags": []
   },
   "outputs": [
    {
     "data": {
      "application/vnd.plotly.v1+json": {
       "config": {
        "plotlyServerURL": "https://plot.ly"
       },
       "data": [
        {
         "domain": {
          "x": [
           0.0,
           1.0
          ],
          "y": [
           0.0,
           1.0
          ]
         },
         "hovertemplate": "name=%{label}<br>num_normal_annotations=%{value}<extra></extra>",
         "labels": [
          "Normal",
          "Abnormal"
         ],
         "legendgroup": "",
         "name": "",
         "showlegend": true,
         "type": "pie",
         "values": [
          10606,
          4394
         ]
        }
       ],
       "layout": {
        "legend": {
         "tracegroupgap": 0
        },
        "template": {
         "data": {
          "bar": [
           {
            "error_x": {
             "color": "#f2f5fa"
            },
            "error_y": {
             "color": "#f2f5fa"
            },
            "marker": {
             "line": {
              "color": "rgb(17,17,17)",
              "width": 0.5
             }
            },
            "type": "bar"
           }
          ],
          "barpolar": [
           {
            "marker": {
             "line": {
              "color": "rgb(17,17,17)",
              "width": 0.5
             }
            },
            "type": "barpolar"
           }
          ],
          "carpet": [
           {
            "aaxis": {
             "endlinecolor": "#A2B1C6",
             "gridcolor": "#506784",
             "linecolor": "#506784",
             "minorgridcolor": "#506784",
             "startlinecolor": "#A2B1C6"
            },
            "baxis": {
             "endlinecolor": "#A2B1C6",
             "gridcolor": "#506784",
             "linecolor": "#506784",
             "minorgridcolor": "#506784",
             "startlinecolor": "#A2B1C6"
            },
            "type": "carpet"
           }
          ],
          "choropleth": [
           {
            "colorbar": {
             "outlinewidth": 0,
             "ticks": ""
            },
            "type": "choropleth"
           }
          ],
          "contour": [
           {
            "colorbar": {
             "outlinewidth": 0,
             "ticks": ""
            },
            "colorscale": [
             [
              0.0,
              "#0d0887"
             ],
             [
              0.1111111111111111,
              "#46039f"
             ],
             [
              0.2222222222222222,
              "#7201a8"
             ],
             [
              0.3333333333333333,
              "#9c179e"
             ],
             [
              0.4444444444444444,
              "#bd3786"
             ],
             [
              0.5555555555555556,
              "#d8576b"
             ],
             [
              0.6666666666666666,
              "#ed7953"
             ],
             [
              0.7777777777777778,
              "#fb9f3a"
             ],
             [
              0.8888888888888888,
              "#fdca26"
             ],
             [
              1.0,
              "#f0f921"
             ]
            ],
            "type": "contour"
           }
          ],
          "contourcarpet": [
           {
            "colorbar": {
             "outlinewidth": 0,
             "ticks": ""
            },
            "type": "contourcarpet"
           }
          ],
          "heatmap": [
           {
            "colorbar": {
             "outlinewidth": 0,
             "ticks": ""
            },
            "colorscale": [
             [
              0.0,
              "#0d0887"
             ],
             [
              0.1111111111111111,
              "#46039f"
             ],
             [
              0.2222222222222222,
              "#7201a8"
             ],
             [
              0.3333333333333333,
              "#9c179e"
             ],
             [
              0.4444444444444444,
              "#bd3786"
             ],
             [
              0.5555555555555556,
              "#d8576b"
             ],
             [
              0.6666666666666666,
              "#ed7953"
             ],
             [
              0.7777777777777778,
              "#fb9f3a"
             ],
             [
              0.8888888888888888,
              "#fdca26"
             ],
             [
              1.0,
              "#f0f921"
             ]
            ],
            "type": "heatmap"
           }
          ],
          "heatmapgl": [
           {
            "colorbar": {
             "outlinewidth": 0,
             "ticks": ""
            },
            "colorscale": [
             [
              0.0,
              "#0d0887"
             ],
             [
              0.1111111111111111,
              "#46039f"
             ],
             [
              0.2222222222222222,
              "#7201a8"
             ],
             [
              0.3333333333333333,
              "#9c179e"
             ],
             [
              0.4444444444444444,
              "#bd3786"
             ],
             [
              0.5555555555555556,
              "#d8576b"
             ],
             [
              0.6666666666666666,
              "#ed7953"
             ],
             [
              0.7777777777777778,
              "#fb9f3a"
             ],
             [
              0.8888888888888888,
              "#fdca26"
             ],
             [
              1.0,
              "#f0f921"
             ]
            ],
            "type": "heatmapgl"
           }
          ],
          "histogram": [
           {
            "marker": {
             "colorbar": {
              "outlinewidth": 0,
              "ticks": ""
             }
            },
            "type": "histogram"
           }
          ],
          "histogram2d": [
           {
            "colorbar": {
             "outlinewidth": 0,
             "ticks": ""
            },
            "colorscale": [
             [
              0.0,
              "#0d0887"
             ],
             [
              0.1111111111111111,
              "#46039f"
             ],
             [
              0.2222222222222222,
              "#7201a8"
             ],
             [
              0.3333333333333333,
              "#9c179e"
             ],
             [
              0.4444444444444444,
              "#bd3786"
             ],
             [
              0.5555555555555556,
              "#d8576b"
             ],
             [
              0.6666666666666666,
              "#ed7953"
             ],
             [
              0.7777777777777778,
              "#fb9f3a"
             ],
             [
              0.8888888888888888,
              "#fdca26"
             ],
             [
              1.0,
              "#f0f921"
             ]
            ],
            "type": "histogram2d"
           }
          ],
          "histogram2dcontour": [
           {
            "colorbar": {
             "outlinewidth": 0,
             "ticks": ""
            },
            "colorscale": [
             [
              0.0,
              "#0d0887"
             ],
             [
              0.1111111111111111,
              "#46039f"
             ],
             [
              0.2222222222222222,
              "#7201a8"
             ],
             [
              0.3333333333333333,
              "#9c179e"
             ],
             [
              0.4444444444444444,
              "#bd3786"
             ],
             [
              0.5555555555555556,
              "#d8576b"
             ],
             [
              0.6666666666666666,
              "#ed7953"
             ],
             [
              0.7777777777777778,
              "#fb9f3a"
             ],
             [
              0.8888888888888888,
              "#fdca26"
             ],
             [
              1.0,
              "#f0f921"
             ]
            ],
            "type": "histogram2dcontour"
           }
          ],
          "mesh3d": [
           {
            "colorbar": {
             "outlinewidth": 0,
             "ticks": ""
            },
            "type": "mesh3d"
           }
          ],
          "parcoords": [
           {
            "line": {
             "colorbar": {
              "outlinewidth": 0,
              "ticks": ""
             }
            },
            "type": "parcoords"
           }
          ],
          "pie": [
           {
            "automargin": true,
            "type": "pie"
           }
          ],
          "scatter": [
           {
            "marker": {
             "line": {
              "color": "#283442"
             }
            },
            "type": "scatter"
           }
          ],
          "scatter3d": [
           {
            "line": {
             "colorbar": {
              "outlinewidth": 0,
              "ticks": ""
             }
            },
            "marker": {
             "colorbar": {
              "outlinewidth": 0,
              "ticks": ""
             }
            },
            "type": "scatter3d"
           }
          ],
          "scattercarpet": [
           {
            "marker": {
             "colorbar": {
              "outlinewidth": 0,
              "ticks": ""
             }
            },
            "type": "scattercarpet"
           }
          ],
          "scattergeo": [
           {
            "marker": {
             "colorbar": {
              "outlinewidth": 0,
              "ticks": ""
             }
            },
            "type": "scattergeo"
           }
          ],
          "scattergl": [
           {
            "marker": {
             "line": {
              "color": "#283442"
             }
            },
            "type": "scattergl"
           }
          ],
          "scattermapbox": [
           {
            "marker": {
             "colorbar": {
              "outlinewidth": 0,
              "ticks": ""
             }
            },
            "type": "scattermapbox"
           }
          ],
          "scatterpolar": [
           {
            "marker": {
             "colorbar": {
              "outlinewidth": 0,
              "ticks": ""
             }
            },
            "type": "scatterpolar"
           }
          ],
          "scatterpolargl": [
           {
            "marker": {
             "colorbar": {
              "outlinewidth": 0,
              "ticks": ""
             }
            },
            "type": "scatterpolargl"
           }
          ],
          "scatterternary": [
           {
            "marker": {
             "colorbar": {
              "outlinewidth": 0,
              "ticks": ""
             }
            },
            "type": "scatterternary"
           }
          ],
          "surface": [
           {
            "colorbar": {
             "outlinewidth": 0,
             "ticks": ""
            },
            "colorscale": [
             [
              0.0,
              "#0d0887"
             ],
             [
              0.1111111111111111,
              "#46039f"
             ],
             [
              0.2222222222222222,
              "#7201a8"
             ],
             [
              0.3333333333333333,
              "#9c179e"
             ],
             [
              0.4444444444444444,
              "#bd3786"
             ],
             [
              0.5555555555555556,
              "#d8576b"
             ],
             [
              0.6666666666666666,
              "#ed7953"
             ],
             [
              0.7777777777777778,
              "#fb9f3a"
             ],
             [
              0.8888888888888888,
              "#fdca26"
             ],
             [
              1.0,
              "#f0f921"
             ]
            ],
            "type": "surface"
           }
          ],
          "table": [
           {
            "cells": {
             "fill": {
              "color": "#506784"
             },
             "line": {
              "color": "rgb(17,17,17)"
             }
            },
            "header": {
             "fill": {
              "color": "#2a3f5f"
             },
             "line": {
              "color": "rgb(17,17,17)"
             }
            },
            "type": "table"
           }
          ]
         },
         "layout": {
          "annotationdefaults": {
           "arrowcolor": "#f2f5fa",
           "arrowhead": 0,
           "arrowwidth": 1
          },
          "autotypenumbers": "strict",
          "coloraxis": {
           "colorbar": {
            "outlinewidth": 0,
            "ticks": ""
           }
          },
          "colorscale": {
           "diverging": [
            [
             0,
             "#8e0152"
            ],
            [
             0.1,
             "#c51b7d"
            ],
            [
             0.2,
             "#de77ae"
            ],
            [
             0.3,
             "#f1b6da"
            ],
            [
             0.4,
             "#fde0ef"
            ],
            [
             0.5,
             "#f7f7f7"
            ],
            [
             0.6,
             "#e6f5d0"
            ],
            [
             0.7,
             "#b8e186"
            ],
            [
             0.8,
             "#7fbc41"
            ],
            [
             0.9,
             "#4d9221"
            ],
            [
             1,
             "#276419"
            ]
           ],
           "sequential": [
            [
             0.0,
             "#0d0887"
            ],
            [
             0.1111111111111111,
             "#46039f"
            ],
            [
             0.2222222222222222,
             "#7201a8"
            ],
            [
             0.3333333333333333,
             "#9c179e"
            ],
            [
             0.4444444444444444,
             "#bd3786"
            ],
            [
             0.5555555555555556,
             "#d8576b"
            ],
            [
             0.6666666666666666,
             "#ed7953"
            ],
            [
             0.7777777777777778,
             "#fb9f3a"
            ],
            [
             0.8888888888888888,
             "#fdca26"
            ],
            [
             1.0,
             "#f0f921"
            ]
           ],
           "sequentialminus": [
            [
             0.0,
             "#0d0887"
            ],
            [
             0.1111111111111111,
             "#46039f"
            ],
            [
             0.2222222222222222,
             "#7201a8"
            ],
            [
             0.3333333333333333,
             "#9c179e"
            ],
            [
             0.4444444444444444,
             "#bd3786"
            ],
            [
             0.5555555555555556,
             "#d8576b"
            ],
            [
             0.6666666666666666,
             "#ed7953"
            ],
            [
             0.7777777777777778,
             "#fb9f3a"
            ],
            [
             0.8888888888888888,
             "#fdca26"
            ],
            [
             1.0,
             "#f0f921"
            ]
           ]
          },
          "colorway": [
           "#636efa",
           "#EF553B",
           "#00cc96",
           "#ab63fa",
           "#FFA15A",
           "#19d3f3",
           "#FF6692",
           "#B6E880",
           "#FF97FF",
           "#FECB52"
          ],
          "font": {
           "color": "#f2f5fa"
          },
          "geo": {
           "bgcolor": "rgb(17,17,17)",
           "lakecolor": "rgb(17,17,17)",
           "landcolor": "rgb(17,17,17)",
           "showlakes": true,
           "showland": true,
           "subunitcolor": "#506784"
          },
          "hoverlabel": {
           "align": "left"
          },
          "hovermode": "closest",
          "mapbox": {
           "style": "dark"
          },
          "paper_bgcolor": "rgb(17,17,17)",
          "plot_bgcolor": "rgb(17,17,17)",
          "polar": {
           "angularaxis": {
            "gridcolor": "#506784",
            "linecolor": "#506784",
            "ticks": ""
           },
           "bgcolor": "rgb(17,17,17)",
           "radialaxis": {
            "gridcolor": "#506784",
            "linecolor": "#506784",
            "ticks": ""
           }
          },
          "scene": {
           "xaxis": {
            "backgroundcolor": "rgb(17,17,17)",
            "gridcolor": "#506784",
            "gridwidth": 2,
            "linecolor": "#506784",
            "showbackground": true,
            "ticks": "",
            "zerolinecolor": "#C8D4E3"
           },
           "yaxis": {
            "backgroundcolor": "rgb(17,17,17)",
            "gridcolor": "#506784",
            "gridwidth": 2,
            "linecolor": "#506784",
            "showbackground": true,
            "ticks": "",
            "zerolinecolor": "#C8D4E3"
           },
           "zaxis": {
            "backgroundcolor": "rgb(17,17,17)",
            "gridcolor": "#506784",
            "gridwidth": 2,
            "linecolor": "#506784",
            "showbackground": true,
            "ticks": "",
            "zerolinecolor": "#C8D4E3"
           }
          },
          "shapedefaults": {
           "line": {
            "color": "#f2f5fa"
           }
          },
          "sliderdefaults": {
           "bgcolor": "#C8D4E3",
           "bordercolor": "rgb(17,17,17)",
           "borderwidth": 1,
           "tickwidth": 0
          },
          "ternary": {
           "aaxis": {
            "gridcolor": "#506784",
            "linecolor": "#506784",
            "ticks": ""
           },
           "baxis": {
            "gridcolor": "#506784",
            "linecolor": "#506784",
            "ticks": ""
           },
           "bgcolor": "rgb(17,17,17)",
           "caxis": {
            "gridcolor": "#506784",
            "linecolor": "#506784",
            "ticks": ""
           }
          },
          "title": {
           "x": 0.05
          },
          "updatemenudefaults": {
           "bgcolor": "#506784",
           "borderwidth": 0
          },
          "xaxis": {
           "automargin": true,
           "gridcolor": "#283442",
           "linecolor": "#506784",
           "ticks": "",
           "title": {
            "standoff": 15
           },
           "zerolinecolor": "#283442",
           "zerolinewidth": 2
          },
          "yaxis": {
           "automargin": true,
           "gridcolor": "#283442",
           "linecolor": "#506784",
           "ticks": "",
           "title": {
            "standoff": 15
           },
           "zerolinecolor": "#283442",
           "zerolinewidth": 2
          }
         }
        },
        "title": {
         "text": "Normal/Abnormal ratio"
        }
       }
      },
      "text/html": [
       "<div>                            <div id=\"e442a573-6957-4fb8-8eb1-44665cc07be7\" class=\"plotly-graph-div\" style=\"height:525px; width:100%;\"></div>            <script type=\"text/javascript\">                require([\"plotly\"], function(Plotly) {                    window.PLOTLYENV=window.PLOTLYENV || {};                                    if (document.getElementById(\"e442a573-6957-4fb8-8eb1-44665cc07be7\")) {                    Plotly.newPlot(                        \"e442a573-6957-4fb8-8eb1-44665cc07be7\",                        [{\"domain\": {\"x\": [0.0, 1.0], \"y\": [0.0, 1.0]}, \"hovertemplate\": \"name=%{label}<br>num_normal_annotations=%{value}<extra></extra>\", \"labels\": [\"Normal\", \"Abnormal\"], \"legendgroup\": \"\", \"name\": \"\", \"showlegend\": true, \"type\": \"pie\", \"values\": [10606, 4394]}],                        {\"legend\": {\"tracegroupgap\": 0}, \"template\": {\"data\": {\"bar\": [{\"error_x\": {\"color\": \"#f2f5fa\"}, \"error_y\": {\"color\": \"#f2f5fa\"}, \"marker\": {\"line\": {\"color\": \"rgb(17,17,17)\", \"width\": 0.5}}, \"type\": \"bar\"}], \"barpolar\": [{\"marker\": {\"line\": {\"color\": \"rgb(17,17,17)\", \"width\": 0.5}}, \"type\": \"barpolar\"}], \"carpet\": [{\"aaxis\": {\"endlinecolor\": \"#A2B1C6\", \"gridcolor\": \"#506784\", \"linecolor\": \"#506784\", \"minorgridcolor\": \"#506784\", \"startlinecolor\": \"#A2B1C6\"}, \"baxis\": {\"endlinecolor\": \"#A2B1C6\", \"gridcolor\": \"#506784\", \"linecolor\": \"#506784\", \"minorgridcolor\": \"#506784\", \"startlinecolor\": \"#A2B1C6\"}, \"type\": \"carpet\"}], \"choropleth\": [{\"colorbar\": {\"outlinewidth\": 0, \"ticks\": \"\"}, \"type\": \"choropleth\"}], \"contour\": [{\"colorbar\": {\"outlinewidth\": 0, \"ticks\": \"\"}, \"colorscale\": [[0.0, \"#0d0887\"], [0.1111111111111111, \"#46039f\"], [0.2222222222222222, \"#7201a8\"], [0.3333333333333333, \"#9c179e\"], [0.4444444444444444, \"#bd3786\"], [0.5555555555555556, \"#d8576b\"], [0.6666666666666666, \"#ed7953\"], [0.7777777777777778, \"#fb9f3a\"], [0.8888888888888888, \"#fdca26\"], [1.0, \"#f0f921\"]], \"type\": \"contour\"}], \"contourcarpet\": [{\"colorbar\": {\"outlinewidth\": 0, \"ticks\": \"\"}, \"type\": \"contourcarpet\"}], \"heatmap\": [{\"colorbar\": {\"outlinewidth\": 0, \"ticks\": \"\"}, \"colorscale\": [[0.0, \"#0d0887\"], [0.1111111111111111, \"#46039f\"], [0.2222222222222222, \"#7201a8\"], [0.3333333333333333, \"#9c179e\"], [0.4444444444444444, \"#bd3786\"], [0.5555555555555556, \"#d8576b\"], [0.6666666666666666, \"#ed7953\"], [0.7777777777777778, \"#fb9f3a\"], [0.8888888888888888, \"#fdca26\"], [1.0, \"#f0f921\"]], \"type\": \"heatmap\"}], \"heatmapgl\": [{\"colorbar\": {\"outlinewidth\": 0, \"ticks\": \"\"}, \"colorscale\": [[0.0, \"#0d0887\"], [0.1111111111111111, \"#46039f\"], [0.2222222222222222, \"#7201a8\"], [0.3333333333333333, \"#9c179e\"], [0.4444444444444444, \"#bd3786\"], [0.5555555555555556, \"#d8576b\"], [0.6666666666666666, \"#ed7953\"], [0.7777777777777778, \"#fb9f3a\"], [0.8888888888888888, \"#fdca26\"], [1.0, \"#f0f921\"]], \"type\": \"heatmapgl\"}], \"histogram\": [{\"marker\": {\"colorbar\": {\"outlinewidth\": 0, \"ticks\": \"\"}}, \"type\": \"histogram\"}], \"histogram2d\": [{\"colorbar\": {\"outlinewidth\": 0, \"ticks\": \"\"}, \"colorscale\": [[0.0, \"#0d0887\"], [0.1111111111111111, \"#46039f\"], [0.2222222222222222, \"#7201a8\"], [0.3333333333333333, \"#9c179e\"], [0.4444444444444444, \"#bd3786\"], [0.5555555555555556, \"#d8576b\"], [0.6666666666666666, \"#ed7953\"], [0.7777777777777778, \"#fb9f3a\"], [0.8888888888888888, \"#fdca26\"], [1.0, \"#f0f921\"]], \"type\": \"histogram2d\"}], \"histogram2dcontour\": [{\"colorbar\": {\"outlinewidth\": 0, \"ticks\": \"\"}, \"colorscale\": [[0.0, \"#0d0887\"], [0.1111111111111111, \"#46039f\"], [0.2222222222222222, \"#7201a8\"], [0.3333333333333333, \"#9c179e\"], [0.4444444444444444, \"#bd3786\"], [0.5555555555555556, \"#d8576b\"], [0.6666666666666666, \"#ed7953\"], [0.7777777777777778, \"#fb9f3a\"], [0.8888888888888888, \"#fdca26\"], [1.0, \"#f0f921\"]], \"type\": \"histogram2dcontour\"}], \"mesh3d\": [{\"colorbar\": {\"outlinewidth\": 0, \"ticks\": \"\"}, \"type\": \"mesh3d\"}], \"parcoords\": [{\"line\": {\"colorbar\": {\"outlinewidth\": 0, \"ticks\": \"\"}}, \"type\": \"parcoords\"}], \"pie\": [{\"automargin\": true, \"type\": \"pie\"}], \"scatter\": [{\"marker\": {\"line\": {\"color\": \"#283442\"}}, \"type\": \"scatter\"}], \"scatter3d\": [{\"line\": {\"colorbar\": {\"outlinewidth\": 0, \"ticks\": \"\"}}, \"marker\": {\"colorbar\": {\"outlinewidth\": 0, \"ticks\": \"\"}}, \"type\": \"scatter3d\"}], \"scattercarpet\": [{\"marker\": {\"colorbar\": {\"outlinewidth\": 0, \"ticks\": \"\"}}, \"type\": \"scattercarpet\"}], \"scattergeo\": [{\"marker\": {\"colorbar\": {\"outlinewidth\": 0, \"ticks\": \"\"}}, \"type\": \"scattergeo\"}], \"scattergl\": [{\"marker\": {\"line\": {\"color\": \"#283442\"}}, \"type\": \"scattergl\"}], \"scattermapbox\": [{\"marker\": {\"colorbar\": {\"outlinewidth\": 0, \"ticks\": \"\"}}, \"type\": \"scattermapbox\"}], \"scatterpolar\": [{\"marker\": {\"colorbar\": {\"outlinewidth\": 0, \"ticks\": \"\"}}, \"type\": \"scatterpolar\"}], \"scatterpolargl\": [{\"marker\": {\"colorbar\": {\"outlinewidth\": 0, \"ticks\": \"\"}}, \"type\": \"scatterpolargl\"}], \"scatterternary\": [{\"marker\": {\"colorbar\": {\"outlinewidth\": 0, \"ticks\": \"\"}}, \"type\": \"scatterternary\"}], \"surface\": [{\"colorbar\": {\"outlinewidth\": 0, \"ticks\": \"\"}, \"colorscale\": [[0.0, \"#0d0887\"], [0.1111111111111111, \"#46039f\"], [0.2222222222222222, \"#7201a8\"], [0.3333333333333333, \"#9c179e\"], [0.4444444444444444, \"#bd3786\"], [0.5555555555555556, \"#d8576b\"], [0.6666666666666666, \"#ed7953\"], [0.7777777777777778, \"#fb9f3a\"], [0.8888888888888888, \"#fdca26\"], [1.0, \"#f0f921\"]], \"type\": \"surface\"}], \"table\": [{\"cells\": {\"fill\": {\"color\": \"#506784\"}, \"line\": {\"color\": \"rgb(17,17,17)\"}}, \"header\": {\"fill\": {\"color\": \"#2a3f5f\"}, \"line\": {\"color\": \"rgb(17,17,17)\"}}, \"type\": \"table\"}]}, \"layout\": {\"annotationdefaults\": {\"arrowcolor\": \"#f2f5fa\", \"arrowhead\": 0, \"arrowwidth\": 1}, \"autotypenumbers\": \"strict\", \"coloraxis\": {\"colorbar\": {\"outlinewidth\": 0, \"ticks\": \"\"}}, \"colorscale\": {\"diverging\": [[0, \"#8e0152\"], [0.1, \"#c51b7d\"], [0.2, \"#de77ae\"], [0.3, \"#f1b6da\"], [0.4, \"#fde0ef\"], [0.5, \"#f7f7f7\"], [0.6, \"#e6f5d0\"], [0.7, \"#b8e186\"], [0.8, \"#7fbc41\"], [0.9, \"#4d9221\"], [1, \"#276419\"]], \"sequential\": [[0.0, \"#0d0887\"], [0.1111111111111111, \"#46039f\"], [0.2222222222222222, \"#7201a8\"], [0.3333333333333333, \"#9c179e\"], [0.4444444444444444, \"#bd3786\"], [0.5555555555555556, \"#d8576b\"], [0.6666666666666666, \"#ed7953\"], [0.7777777777777778, \"#fb9f3a\"], [0.8888888888888888, \"#fdca26\"], [1.0, \"#f0f921\"]], \"sequentialminus\": [[0.0, \"#0d0887\"], [0.1111111111111111, \"#46039f\"], [0.2222222222222222, \"#7201a8\"], [0.3333333333333333, \"#9c179e\"], [0.4444444444444444, \"#bd3786\"], [0.5555555555555556, \"#d8576b\"], [0.6666666666666666, \"#ed7953\"], [0.7777777777777778, \"#fb9f3a\"], [0.8888888888888888, \"#fdca26\"], [1.0, \"#f0f921\"]]}, \"colorway\": [\"#636efa\", \"#EF553B\", \"#00cc96\", \"#ab63fa\", \"#FFA15A\", \"#19d3f3\", \"#FF6692\", \"#B6E880\", \"#FF97FF\", \"#FECB52\"], \"font\": {\"color\": \"#f2f5fa\"}, \"geo\": {\"bgcolor\": \"rgb(17,17,17)\", \"lakecolor\": \"rgb(17,17,17)\", \"landcolor\": \"rgb(17,17,17)\", \"showlakes\": true, \"showland\": true, \"subunitcolor\": \"#506784\"}, \"hoverlabel\": {\"align\": \"left\"}, \"hovermode\": \"closest\", \"mapbox\": {\"style\": \"dark\"}, \"paper_bgcolor\": \"rgb(17,17,17)\", \"plot_bgcolor\": \"rgb(17,17,17)\", \"polar\": {\"angularaxis\": {\"gridcolor\": \"#506784\", \"linecolor\": \"#506784\", \"ticks\": \"\"}, \"bgcolor\": \"rgb(17,17,17)\", \"radialaxis\": {\"gridcolor\": \"#506784\", \"linecolor\": \"#506784\", \"ticks\": \"\"}}, \"scene\": {\"xaxis\": {\"backgroundcolor\": \"rgb(17,17,17)\", \"gridcolor\": \"#506784\", \"gridwidth\": 2, \"linecolor\": \"#506784\", \"showbackground\": true, \"ticks\": \"\", \"zerolinecolor\": \"#C8D4E3\"}, \"yaxis\": {\"backgroundcolor\": \"rgb(17,17,17)\", \"gridcolor\": \"#506784\", \"gridwidth\": 2, \"linecolor\": \"#506784\", \"showbackground\": true, \"ticks\": \"\", \"zerolinecolor\": \"#C8D4E3\"}, \"zaxis\": {\"backgroundcolor\": \"rgb(17,17,17)\", \"gridcolor\": \"#506784\", \"gridwidth\": 2, \"linecolor\": \"#506784\", \"showbackground\": true, \"ticks\": \"\", \"zerolinecolor\": \"#C8D4E3\"}}, \"shapedefaults\": {\"line\": {\"color\": \"#f2f5fa\"}}, \"sliderdefaults\": {\"bgcolor\": \"#C8D4E3\", \"bordercolor\": \"rgb(17,17,17)\", \"borderwidth\": 1, \"tickwidth\": 0}, \"ternary\": {\"aaxis\": {\"gridcolor\": \"#506784\", \"linecolor\": \"#506784\", \"ticks\": \"\"}, \"baxis\": {\"gridcolor\": \"#506784\", \"linecolor\": \"#506784\", \"ticks\": \"\"}, \"bgcolor\": \"rgb(17,17,17)\", \"caxis\": {\"gridcolor\": \"#506784\", \"linecolor\": \"#506784\", \"ticks\": \"\"}}, \"title\": {\"x\": 0.05}, \"updatemenudefaults\": {\"bgcolor\": \"#506784\", \"borderwidth\": 0}, \"xaxis\": {\"automargin\": true, \"gridcolor\": \"#283442\", \"linecolor\": \"#506784\", \"ticks\": \"\", \"title\": {\"standoff\": 15}, \"zerolinecolor\": \"#283442\", \"zerolinewidth\": 2}, \"yaxis\": {\"automargin\": true, \"gridcolor\": \"#283442\", \"linecolor\": \"#506784\", \"ticks\": \"\", \"title\": {\"standoff\": 15}, \"zerolinecolor\": \"#283442\", \"zerolinewidth\": 2}}}, \"title\": {\"text\": \"Normal/Abnormal ratio\"}},                        {\"responsive\": true}                    ).then(function(){\n",
       "                            \n",
       "var gd = document.getElementById('e442a573-6957-4fb8-8eb1-44665cc07be7');\n",
       "var x = new MutationObserver(function (mutations, observer) {{\n",
       "        var display = window.getComputedStyle(gd).display;\n",
       "        if (!display || display === 'none') {{\n",
       "            console.log([gd, 'removed!']);\n",
       "            Plotly.purge(gd);\n",
       "            observer.disconnect();\n",
       "        }}\n",
       "}});\n",
       "\n",
       "// Listen for the removal of the full notebook cells\n",
       "var notebookContainer = gd.closest('#notebook-container');\n",
       "if (notebookContainer) {{\n",
       "    x.observe(notebookContainer, {childList: true});\n",
       "}}\n",
       "\n",
       "// Listen for the clearing of the current output cell\n",
       "var outputEl = gd.closest('.output');\n",
       "if (outputEl) {{\n",
       "    x.observe(outputEl, {childList: true});\n",
       "}}\n",
       "\n",
       "                        })                };                });            </script>        </div>"
      ]
     },
     "metadata": {},
     "output_type": "display_data"
    }
   ],
   "source": [
    "px.pie(num_normal_anno_counts_df, values=\"num_normal_annotations\", names=\"name\", title=\"Normal/Abnormal ratio\")"
   ]
  },
  {
   "cell_type": "markdown",
   "metadata": {
    "papermill": {
     "duration": 0.062022,
     "end_time": "2021-02-17T21:46:41.371080",
     "exception": false,
     "start_time": "2021-02-17T21:46:41.309058",
     "status": "completed"
    },
    "tags": []
   },
   "source": [
    "<a id=\"aug\"></a>\n",
    "# Image visualizaion & augmentation with albumentations\n",
    "\n",
    "When you train CNN models, image augmentation is important to avoid model to overfit.<br/>\n",
    "I'll show examples to use Albumentations to run image augmentation very easily.<br/>\n",
    "At first, I will define pytorch Dataset class for this competition, which can be also used later in the training."
   ]
  },
  {
   "cell_type": "code",
   "execution_count": 12,
   "metadata": {
    "_kg_hide-input": true,
    "execution": {
     "iopub.execute_input": "2021-02-17T21:46:41.674927Z",
     "iopub.status.busy": "2021-02-17T21:46:41.670416Z",
     "iopub.status.idle": "2021-02-17T21:46:42.028286Z",
     "shell.execute_reply": "2021-02-17T21:46:42.027758Z"
    },
    "papermill": {
     "duration": 0.594728,
     "end_time": "2021-02-17T21:46:42.028422",
     "exception": false,
     "start_time": "2021-02-17T21:46:41.433694",
     "status": "completed"
    },
    "tags": []
   },
   "outputs": [],
   "source": [
    "import pickle\n",
    "from pathlib import Path\n",
    "from typing import Optional\n",
    "\n",
    "import cv2\n",
    "import numpy as np\n",
    "import pandas as pd\n",
    "from detectron2.structures import BoxMode\n",
    "from tqdm import tqdm\n",
    "\n",
    "\n",
    "def get_vinbigdata_dicts(\n",
    "    imgdir: Path,\n",
    "    train_df: pd.DataFrame,\n",
    "    train_data_type: str = \"original\",\n",
    "    use_cache: bool = True,\n",
    "    debug: bool = True,\n",
    "    target_indices: Optional[np.ndarray] = None,\n",
    "):\n",
    "    debug_str = f\"_debug{int(debug)}\"\n",
    "    train_data_type_str = f\"_{train_data_type}\"\n",
    "    cache_path = Path(\".\") / f\"dataset_dicts_cache{train_data_type_str}{debug_str}.pkl\"\n",
    "    if not use_cache or not cache_path.exists():\n",
    "        print(\"Creating data...\")\n",
    "        train_meta = pd.read_csv(imgdir / \"train_meta.csv\")\n",
    "        if debug:\n",
    "            train_meta = train_meta.iloc[:500]  # For debug....\n",
    "\n",
    "        # Load 1 image to get image size.\n",
    "        image_id = train_meta.loc[0, \"image_id\"]\n",
    "        image_path = str(imgdir / \"train\" / f\"{image_id}.png\")\n",
    "        image = cv2.imread(image_path)\n",
    "        resized_height, resized_width, ch = image.shape\n",
    "        print(f\"image shape: {image.shape}\")\n",
    "\n",
    "        dataset_dicts = []\n",
    "        for index, train_meta_row in tqdm(train_meta.iterrows(), total=len(train_meta)):\n",
    "            record = {}\n",
    "\n",
    "            image_id, height, width = train_meta_row.values\n",
    "            filename = str(imgdir / \"train\" / f\"{image_id}.png\")\n",
    "            record[\"file_name\"] = filename\n",
    "            record[\"image_id\"] = image_id\n",
    "            record[\"height\"] = resized_height\n",
    "            record[\"width\"] = resized_width\n",
    "            objs = []\n",
    "            for index2, row in train_df.query(\"image_id == @image_id\").iterrows():\n",
    "                # print(row)\n",
    "                # print(row[\"class_name\"])\n",
    "                # class_name = row[\"class_name\"]\n",
    "                class_id = row[\"class_id\"]\n",
    "                if class_id == 14:\n",
    "                    # It is \"No finding\"\n",
    "                    # This annotator does not find anything, skip.\n",
    "                    pass\n",
    "                else:\n",
    "                    # bbox_original = [int(row[\"x_min\"]), int(row[\"y_min\"]), int(row[\"x_max\"]), int(row[\"y_max\"])]\n",
    "                    h_ratio = resized_height / height\n",
    "                    w_ratio = resized_width / width\n",
    "                    bbox_resized = [\n",
    "                        int(row[\"x_min\"]) * w_ratio,\n",
    "                        int(row[\"y_min\"]) * h_ratio,\n",
    "                        int(row[\"x_max\"]) * w_ratio,\n",
    "                        int(row[\"y_max\"]) * h_ratio,\n",
    "                    ]\n",
    "                    obj = {\n",
    "                        \"bbox\": bbox_resized,\n",
    "                        \"bbox_mode\": BoxMode.XYXY_ABS,\n",
    "                        \"category_id\": class_id,\n",
    "                    }\n",
    "                    objs.append(obj)\n",
    "            record[\"annotations\"] = objs\n",
    "            dataset_dicts.append(record)\n",
    "        with open(cache_path, mode=\"wb\") as f:\n",
    "            pickle.dump(dataset_dicts, f)\n",
    "\n",
    "    print(f\"Load from cache {cache_path}\")\n",
    "    with open(cache_path, mode=\"rb\") as f:\n",
    "        dataset_dicts = pickle.load(f)\n",
    "    if target_indices is not None:\n",
    "        dataset_dicts = [dataset_dicts[i] for i in target_indices]\n",
    "    return dataset_dicts\n",
    "\n",
    "\n",
    "def get_vinbigdata_dicts_test(\n",
    "    imgdir: Path, test_meta: pd.DataFrame, use_cache: bool = True, debug: bool = True,\n",
    "):\n",
    "    debug_str = f\"_debug{int(debug)}\"\n",
    "    cache_path = Path(\".\") / f\"dataset_dicts_cache_test{debug_str}.pkl\"\n",
    "    if not use_cache or not cache_path.exists():\n",
    "        print(\"Creating data...\")\n",
    "        # test_meta = pd.read_csv(imgdir / \"test_meta.csv\")\n",
    "        if debug:\n",
    "            test_meta = test_meta.iloc[:500]  # For debug....\n",
    "\n",
    "        # Load 1 image to get image size.\n",
    "        image_id = test_meta.loc[0, \"image_id\"]\n",
    "        image_path = str(imgdir / \"test\" / f\"{image_id}.png\")\n",
    "        image = cv2.imread(image_path)\n",
    "        resized_height, resized_width, ch = image.shape\n",
    "        print(f\"image shape: {image.shape}\")\n",
    "\n",
    "        dataset_dicts = []\n",
    "        for index, test_meta_row in tqdm(test_meta.iterrows(), total=len(test_meta)):\n",
    "            record = {}\n",
    "\n",
    "            image_id, height, width = test_meta_row.values\n",
    "            filename = str(imgdir / \"test\" / f\"{image_id}.png\")\n",
    "            record[\"file_name\"] = filename\n",
    "            # record[\"image_id\"] = index\n",
    "            record[\"image_id\"] = image_id\n",
    "            record[\"height\"] = resized_height\n",
    "            record[\"width\"] = resized_width\n",
    "            # objs = []\n",
    "            # record[\"annotations\"] = objs\n",
    "            dataset_dicts.append(record)\n",
    "        with open(cache_path, mode=\"wb\") as f:\n",
    "            pickle.dump(dataset_dicts, f)\n",
    "\n",
    "    print(f\"Load from cache {cache_path}\")\n",
    "    with open(cache_path, mode=\"rb\") as f:\n",
    "        dataset_dicts = pickle.load(f)\n",
    "    return dataset_dicts\n"
   ]
  },
  {
   "cell_type": "code",
   "execution_count": 13,
   "metadata": {
    "_kg_hide-input": true,
    "execution": {
     "iopub.execute_input": "2021-02-17T21:46:42.168978Z",
     "iopub.status.busy": "2021-02-17T21:46:42.168188Z",
     "iopub.status.idle": "2021-02-17T21:46:42.171088Z",
     "shell.execute_reply": "2021-02-17T21:46:42.170671Z"
    },
    "papermill": {
     "duration": 0.079143,
     "end_time": "2021-02-17T21:46:42.171180",
     "exception": false,
     "start_time": "2021-02-17T21:46:42.092037",
     "status": "completed"
    },
    "tags": []
   },
   "outputs": [],
   "source": [
    "\"\"\"\n",
    "Referenced `chainer.dataset.DatasetMixin` to work with pytorch Dataset.\n",
    "\"\"\"\n",
    "import numpy\n",
    "import six\n",
    "import torch\n",
    "from torch.utils.data.dataset import Dataset\n",
    "\n",
    "\n",
    "class DatasetMixin(Dataset):\n",
    "\n",
    "    def __init__(self, transform=None):\n",
    "        self.transform = transform\n",
    "\n",
    "    def __getitem__(self, index):\n",
    "        \"\"\"Returns an example or a sequence of examples.\"\"\"\n",
    "        if torch.is_tensor(index):\n",
    "            index = index.tolist()\n",
    "        if isinstance(index, slice):\n",
    "            current, stop, step = index.indices(len(self))\n",
    "            return [self.get_example_wrapper(i) for i in\n",
    "                    six.moves.range(current, stop, step)]\n",
    "        elif isinstance(index, list) or isinstance(index, numpy.ndarray):\n",
    "            return [self.get_example_wrapper(i) for i in index]\n",
    "        else:\n",
    "            return self.get_example_wrapper(index)\n",
    "\n",
    "    def __len__(self):\n",
    "        \"\"\"Returns the number of data points.\"\"\"\n",
    "        raise NotImplementedError\n",
    "\n",
    "    def get_example_wrapper(self, i):\n",
    "        \"\"\"Wrapper of `get_example`, to apply `transform` if necessary\"\"\"\n",
    "        example = self.get_example(i)\n",
    "        if self.transform:\n",
    "            example = self.transform(example)\n",
    "        return example\n",
    "\n",
    "    def get_example(self, i):\n",
    "        \"\"\"Returns the i-th example.\n",
    "\n",
    "        Implementations should override it. It should raise :class:`IndexError`\n",
    "        if the index is invalid.\n",
    "\n",
    "        Args:\n",
    "            i (int): The index of the example.\n",
    "\n",
    "        Returns:\n",
    "            The i-th example.\n",
    "\n",
    "        \"\"\"\n",
    "        raise NotImplementedError\n"
   ]
  },
  {
   "cell_type": "markdown",
   "metadata": {
    "papermill": {
     "duration": 0.061858,
     "end_time": "2021-02-17T21:46:42.295270",
     "exception": false,
     "start_time": "2021-02-17T21:46:42.233412",
     "status": "completed"
    },
    "tags": []
   },
   "source": [
    "[Update] \n",
    "Here I mixup augmentation in the dataset. It makes interpolation of 2 images, with the label is also modified according to the mix ratio. \n",
    "mixup augmentation is expecially useful when the number of data is limited.\n",
    "Because it can make **combination of any 2 images**, instead of just using 1 image.\n",
    "\n",
    "I also added label smoothing feature. Sometimes it is difficult to learn label is 0, 1. \n",
    "Label smoothing changes its label 0 -> 0.01 & 1 -> 0.99. By smoothing the label the loss surface becomes more \"soft\", and sometimes model can learn well."
   ]
  },
  {
   "cell_type": "code",
   "execution_count": 14,
   "metadata": {
    "execution": {
     "iopub.execute_input": "2021-02-17T21:46:42.439480Z",
     "iopub.status.busy": "2021-02-17T21:46:42.438796Z",
     "iopub.status.idle": "2021-02-17T21:46:42.441491Z",
     "shell.execute_reply": "2021-02-17T21:46:42.441956Z"
    },
    "papermill": {
     "duration": 0.084332,
     "end_time": "2021-02-17T21:46:42.442066",
     "exception": false,
     "start_time": "2021-02-17T21:46:42.357734",
     "status": "completed"
    },
    "tags": []
   },
   "outputs": [],
   "source": [
    "import cv2\n",
    "import numpy as np\n",
    "\n",
    "\n",
    "class VinbigdataTwoClassDataset(DatasetMixin):\n",
    "    def __init__(self, dataset_dicts, image_transform=None, transform=None, train: bool = True,\n",
    "                 mixup_prob: float = -1.0, label_smoothing: float = 0.0):\n",
    "        super(VinbigdataTwoClassDataset, self).__init__(transform=transform)\n",
    "        self.dataset_dicts = dataset_dicts\n",
    "        self.image_transform = image_transform\n",
    "        self.train = train\n",
    "        self.mixup_prob = mixup_prob\n",
    "        self.label_smoothing = label_smoothing\n",
    "\n",
    "    def _get_single_example(self, i):\n",
    "        d = self.dataset_dicts[i]\n",
    "        filename = d[\"file_name\"]\n",
    "\n",
    "        img = cv2.imread(filename)\n",
    "        if self.image_transform:\n",
    "            img = self.image_transform(img)\n",
    "        img = torch.tensor(np.transpose(img, (2, 0, 1)).astype(np.float32))\n",
    "\n",
    "        if self.train:\n",
    "            label = int(len(d[\"annotations\"]) > 0)  # 0 normal, 1 abnormal\n",
    "            if self.label_smoothing > 0:\n",
    "                if label == 0:\n",
    "                    return img, float(label) + self.label_smoothing\n",
    "                else:\n",
    "                    return img, float(label) - self.label_smoothing\n",
    "            else:\n",
    "                return img, float(label)\n",
    "        else:\n",
    "            # Only return img\n",
    "            return img, None\n",
    "\n",
    "    def get_example(self, i):\n",
    "        img, label = self._get_single_example(i)\n",
    "        if self.mixup_prob > 0. and np.random.uniform() < self.mixup_prob:\n",
    "            j = np.random.randint(0, len(self.dataset_dicts))\n",
    "            p = np.random.uniform()\n",
    "            img2, label2 = self._get_single_example(j)\n",
    "            img = img * p + img2 * (1 - p)\n",
    "            if self.train:\n",
    "                label = label * p + label2 * (1 - p)\n",
    "\n",
    "        if self.train:\n",
    "            label_logit = torch.tensor([1 - label, label], dtype=torch.float32)\n",
    "            return img, label_logit\n",
    "        else:\n",
    "            # Only return img\n",
    "            return img\n",
    "\n",
    "    def __len__(self):\n",
    "        return len(self.dataset_dicts)"
   ]
  },
  {
   "cell_type": "markdown",
   "metadata": {
    "papermill": {
     "duration": 0.0619,
     "end_time": "2021-02-17T21:46:42.570849",
     "exception": false,
     "start_time": "2021-02-17T21:46:42.508949",
     "status": "completed"
    },
    "tags": []
   },
   "source": [
    "Now creating the dataset is just easy as following:"
   ]
  },
  {
   "cell_type": "code",
   "execution_count": 15,
   "metadata": {
    "_kg_hide-output": true,
    "execution": {
     "iopub.execute_input": "2021-02-17T21:46:42.705843Z",
     "iopub.status.busy": "2021-02-17T21:46:42.705269Z",
     "iopub.status.idle": "2021-02-17T21:47:57.812464Z",
     "shell.execute_reply": "2021-02-17T21:47:57.811946Z"
    },
    "papermill": {
     "duration": 75.178981,
     "end_time": "2021-02-17T21:47:57.812584",
     "exception": false,
     "start_time": "2021-02-17T21:46:42.633603",
     "status": "completed"
    },
    "tags": []
   },
   "outputs": [
    {
     "name": "stderr",
     "output_type": "stream",
     "text": [
      "  0%|          | 20/15000 [00:00<01:15, 199.26it/s]"
     ]
    },
    {
     "name": "stdout",
     "output_type": "stream",
     "text": [
      "Creating data...\n",
      "image shape: (256, 256, 3)\n"
     ]
    },
    {
     "name": "stderr",
     "output_type": "stream",
     "text": [
      "100%|██████████| 15000/15000 [01:14<00:00, 200.74it/s]\n"
     ]
    },
    {
     "name": "stdout",
     "output_type": "stream",
     "text": [
      "Load from cache dataset_dicts_cache_original_debug0.pkl\n"
     ]
    }
   ],
   "source": [
    "dataset_dicts = get_vinbigdata_dicts(imgdir, train, debug=debug)\n",
    "dataset = VinbigdataTwoClassDataset(dataset_dicts)"
   ]
  },
  {
   "cell_type": "markdown",
   "metadata": {
    "papermill": {
     "duration": 0.255738,
     "end_time": "2021-02-17T21:47:58.326815",
     "exception": false,
     "start_time": "2021-02-17T21:47:58.071077",
     "status": "completed"
    },
    "tags": []
   },
   "source": [
    "You can access each image and its label (0=Normal, 1=Abnormal) by just access `dataset` with index."
   ]
  },
  {
   "cell_type": "code",
   "execution_count": 16,
   "metadata": {
    "execution": {
     "iopub.execute_input": "2021-02-17T21:47:58.850110Z",
     "iopub.status.busy": "2021-02-17T21:47:58.849527Z",
     "iopub.status.idle": "2021-02-17T21:47:59.077166Z",
     "shell.execute_reply": "2021-02-17T21:47:59.076741Z"
    },
    "papermill": {
     "duration": 0.489165,
     "end_time": "2021-02-17T21:47:59.077261",
     "exception": false,
     "start_time": "2021-02-17T21:47:58.588096",
     "status": "completed"
    },
    "tags": []
   },
   "outputs": [
    {
     "data": {
      "text/plain": [
       "Text(0.5, 1.0, '0-th image: label tensor([1., 0.])')"
      ]
     },
     "execution_count": 16,
     "metadata": {},
     "output_type": "execute_result"
    },
    {
     "data": {
      "image/png": "[encoded data removed]",
      "text/plain": [
       "<Figure size 432x288 with 1 Axes>"
      ]
     },
     "metadata": {
      "needs_background": "light"
     },
     "output_type": "display_data"
    }
   ],
   "source": [
    "index = 0\n",
    "img, label = dataset[index]\n",
    "plt.imshow(img.cpu().numpy().transpose((1, 2, 0)) / 255.)\n",
    "plt.title(f\"{index}-th image: label {label}\")"
   ]
  },
  {
   "cell_type": "markdown",
   "metadata": {
    "papermill": {
     "duration": 0.258913,
     "end_time": "2021-02-17T21:47:59.598184",
     "exception": false,
     "start_time": "2021-02-17T21:47:59.339271",
     "status": "completed"
    },
    "tags": []
   },
   "source": [
    "To run augmentation on this image, I will define `Transform` class which is applied each time the data is accessed.\n",
    "\n",
    "You can refer [albumentations](https://github.com/albumentations-team/albumentations) page, that various kinds of augmentation is already implemented and can be used very easily!"
   ]
  },
  {
   "cell_type": "code",
   "execution_count": 17,
   "metadata": {
    "execution": {
     "iopub.execute_input": "2021-02-17T21:48:00.123217Z",
     "iopub.status.busy": "2021-02-17T21:48:00.122654Z",
     "iopub.status.idle": "2021-02-17T21:48:00.497037Z",
     "shell.execute_reply": "2021-02-17T21:48:00.496547Z"
    },
    "papermill": {
     "duration": 0.641247,
     "end_time": "2021-02-17T21:48:00.497145",
     "exception": false,
     "start_time": "2021-02-17T21:47:59.855898",
     "status": "completed"
    },
    "tags": []
   },
   "outputs": [],
   "source": [
    "import albumentations as A\n",
    "\n",
    "\n",
    "class Transform:\n",
    "    def __init__(\n",
    "        self, hflip_prob: float = 0.5, ssr_prob: float = 0.5, random_bc_prob: float = 0.5\n",
    "    ):\n",
    "        self.transform = A.Compose(\n",
    "            [\n",
    "                A.HorizontalFlip(p=hflip_prob),\n",
    "                A.ShiftScaleRotate(\n",
    "                    shift_limit=0.0625, scale_limit=0.1, rotate_limit=10, p=ssr_prob\n",
    "                ),\n",
    "                A.RandomBrightnessContrast(p=random_bc_prob),\n",
    "            ]\n",
    "        )\n",
    "\n",
    "    def __call__(self, image):\n",
    "        image = self.transform(image=image)[\"image\"]\n",
    "        return image\n"
   ]
  },
  {
   "cell_type": "markdown",
   "metadata": {
    "papermill": {
     "duration": 0.261496,
     "end_time": "2021-02-17T21:48:01.020729",
     "exception": false,
     "start_time": "2021-02-17T21:48:00.759233",
     "status": "completed"
    },
    "tags": []
   },
   "source": [
    "To use augmentation, you can just define dataset with the `Transform` function."
   ]
  },
  {
   "cell_type": "code",
   "execution_count": 18,
   "metadata": {
    "execution": {
     "iopub.execute_input": "2021-02-17T21:48:01.549729Z",
     "iopub.status.busy": "2021-02-17T21:48:01.549040Z",
     "iopub.status.idle": "2021-02-17T21:48:01.553114Z",
     "shell.execute_reply": "2021-02-17T21:48:01.552666Z"
    },
    "papermill": {
     "duration": 0.269682,
     "end_time": "2021-02-17T21:48:01.553200",
     "exception": false,
     "start_time": "2021-02-17T21:48:01.283518",
     "status": "completed"
    },
    "tags": []
   },
   "outputs": [],
   "source": [
    "aug_dataset = VinbigdataTwoClassDataset(dataset_dicts, image_transform=Transform())"
   ]
  },
  {
   "cell_type": "markdown",
   "metadata": {
    "papermill": {
     "duration": 0.264415,
     "end_time": "2021-02-17T21:48:02.080813",
     "exception": false,
     "start_time": "2021-02-17T21:48:01.816398",
     "status": "completed"
    },
    "tags": []
   },
   "source": [
    "Let's visualize, looks good. <br/>\n",
    "You can see each image looks different (rotated, brightness is different etc...) even if it is generated from the same image :)"
   ]
  },
  {
   "cell_type": "code",
   "execution_count": 19,
   "metadata": {
    "_kg_hide-input": true,
    "execution": {
     "iopub.execute_input": "2021-02-17T21:48:02.635320Z",
     "iopub.status.busy": "2021-02-17T21:48:02.633639Z",
     "iopub.status.idle": "2021-02-17T21:48:03.148254Z",
     "shell.execute_reply": "2021-02-17T21:48:03.147446Z"
    },
    "papermill": {
     "duration": 0.788107,
     "end_time": "2021-02-17T21:48:03.148359",
     "exception": false,
     "start_time": "2021-02-17T21:48:02.360252",
     "status": "completed"
    },
    "tags": []
   },
   "outputs": [
    {
     "data": {
      "image/png": "[encoded data removed]",
      "text/plain": [
       "<Figure size 1152x360 with 4 Axes>"
      ]
     },
     "metadata": {
      "needs_background": "light"
     },
     "output_type": "display_data"
    }
   ],
   "source": [
    "index = 0\n",
    "\n",
    "n_images = 4\n",
    "\n",
    "fig, axes = plt.subplots(1, n_images, figsize=(16, 5))\n",
    "for i in range(n_images):\n",
    "    # Each time the data is accessed, the result is different due to random augmentation!\n",
    "    img, label = aug_dataset[index]\n",
    "    ax = axes[i]\n",
    "    ax.imshow(img.cpu().numpy().transpose((1, 2, 0)) / 255.)\n",
    "    ax.set_title(f\"{index}-th image: label {label}\")\n",
    "plt.show()"
   ]
  },
  {
   "cell_type": "markdown",
   "metadata": {
    "papermill": {
     "duration": 0.30356,
     "end_time": "2021-02-17T21:48:03.970134",
     "exception": false,
     "start_time": "2021-02-17T21:48:03.666574",
     "status": "completed"
    },
    "tags": []
   },
   "source": [
    "**Extend to more general form**\n",
    "\n",
    "Augmentation is very important hyperparameter to improve model's performance, and you want to experiment with various configurations.<br/>\n",
    "Below updated `Transform` function is written to **support all the augmentations implemented in albumentations**.<br/>\n",
    "You can specify `aug_kwargs` from external configuration inside `flag` as follows:\n",
    "\n",
    "```\n",
    "aug_kwargs:\n",
    "  HorizontalFlip: {\"p\": 0.5}\n",
    "  ShiftScaleRotate: {\"scale_limit\": 0.15, \"rotate_limit\": 10, \"p\": 0.5}\n",
    "  RandomBrightnessContrast: {\"p\": 0.5}\n",
    "  CoarseDropout: {\"max_holes\": 8, \"max_height\": 25, \"max_width\": 25, \"p\": 0.5}\n",
    "  Blur: {\"blur_limit\": [3, 7], \"p\": 0.5}\n",
    "  Downscale: {\"scale_min\": 0.25, \"scale_max\": 0.9, \"p\": 0.3}\n",
    "  RandomGamma: {\"gamma_limit\": [80, 120], \"p\": 0.6}\n",
    "```"
   ]
  },
  {
   "cell_type": "code",
   "execution_count": 20,
   "metadata": {
    "execution": {
     "iopub.execute_input": "2021-02-17T21:48:04.505088Z",
     "iopub.status.busy": "2021-02-17T21:48:04.503360Z",
     "iopub.status.idle": "2021-02-17T21:48:04.505812Z",
     "shell.execute_reply": "2021-02-17T21:48:04.506229Z"
    },
    "papermill": {
     "duration": 0.272641,
     "end_time": "2021-02-17T21:48:04.506340",
     "exception": false,
     "start_time": "2021-02-17T21:48:04.233699",
     "status": "completed"
    },
    "tags": []
   },
   "outputs": [],
   "source": [
    "from typing import Dict\n",
    "\n",
    "import albumentations as A\n",
    "\n",
    "\n",
    "class Transform:\n",
    "    def __init__(self, aug_kwargs: Dict):\n",
    "        self.transform = A.Compose(\n",
    "            [getattr(A, name)(**kwargs) for name, kwargs in aug_kwargs.items()]\n",
    "        )\n",
    "\n",
    "    def __call__(self, image):\n",
    "        image = self.transform(image=image)[\"image\"]\n",
    "        return image"
   ]
  },
  {
   "cell_type": "markdown",
   "metadata": {
    "papermill": {
     "duration": 0.262749,
     "end_time": "2021-02-17T21:48:05.030201",
     "exception": false,
     "start_time": "2021-02-17T21:48:04.767452",
     "status": "completed"
    },
    "tags": []
   },
   "source": [
    "<a id=\"model\"></a>\n",
    "# Defining CNN models\n",
    "\n",
    "Recently, several libraries of CNN-collection are available on public.\n",
    "\n",
    "I will use `timm` this time. You don't need to impelment deep CNN models by yourself, you can just re-use latest research results without hustle.<br/>\n",
    "You can focus on more about looking data and try experiment now."
   ]
  },
  {
   "cell_type": "code",
   "execution_count": 21,
   "metadata": {
    "_kg_hide-input": true,
    "_kg_hide-output": true,
    "execution": {
     "iopub.execute_input": "2021-02-17T21:48:05.575642Z",
     "iopub.status.busy": "2021-02-17T21:48:05.574975Z",
     "iopub.status.idle": "2021-02-17T21:48:05.579129Z",
     "shell.execute_reply": "2021-02-17T21:48:05.578688Z"
    },
    "papermill": {
     "duration": 0.273325,
     "end_time": "2021-02-17T21:48:05.579219",
     "exception": false,
     "start_time": "2021-02-17T21:48:05.305894",
     "status": "completed"
    },
    "tags": []
   },
   "outputs": [],
   "source": [
    "from torch import nn\n",
    "from torch.nn import Linear\n",
    "\n",
    "\n",
    "class CNNFixedPredictor(nn.Module):\n",
    "    def __init__(self, cnn: nn.Module, num_classes: int = 2):\n",
    "        super(CNNFixedPredictor, self).__init__()\n",
    "        self.cnn = cnn\n",
    "        self.lin = Linear(cnn.num_features, num_classes)\n",
    "        print(\"cnn.num_features\", cnn.num_features)\n",
    "\n",
    "        # We do not learn CNN parameters.\n",
    "        # https://pytorch.org/tutorials/beginner/finetuning_torchvision_models_tutorial.html\n",
    "        for param in self.cnn.parameters():\n",
    "            param.requires_grad = False\n",
    "\n",
    "    def forward(self, x):\n",
    "        feat = self.cnn(x)\n",
    "        return self.lin(feat)\n"
   ]
  },
  {
   "cell_type": "code",
   "execution_count": 22,
   "metadata": {
    "execution": {
     "iopub.execute_input": "2021-02-17T21:48:06.110188Z",
     "iopub.status.busy": "2021-02-17T21:48:06.109293Z",
     "iopub.status.idle": "2021-02-17T21:48:06.203053Z",
     "shell.execute_reply": "2021-02-17T21:48:06.202551Z"
    },
    "papermill": {
     "duration": 0.362691,
     "end_time": "2021-02-17T21:48:06.203144",
     "exception": false,
     "start_time": "2021-02-17T21:48:05.840453",
     "status": "completed"
    },
    "tags": []
   },
   "outputs": [],
   "source": [
    "import timm\n",
    "\n",
    "\n",
    "def build_predictor(model_name: str, model_mode: str = \"normal\"):\n",
    "    if model_mode == \"normal\":\n",
    "        # normal configuration. train all parameters.\n",
    "        return timm.create_model(model_name, pretrained=True, num_classes=2, in_chans=3)\n",
    "    elif model_mode == \"cnn_fixed\":\n",
    "        # normal configuration. train all parameters.\n",
    "        # https://rwightman.github.io/pytorch-image-models/feature_extraction/\n",
    "        timm_model = timm.create_model(model_name, pretrained=True, num_classes=0, in_chans=3)\n",
    "        return CNNFixedPredictor(timm_model, num_classes=2)\n",
    "    else:\n",
    "        raise ValueError(f\"[ERROR] Unexpected value model_mode={model_mode}\")\n"
   ]
  },
  {
   "cell_type": "code",
   "execution_count": 23,
   "metadata": {
    "_kg_hide-input": true,
    "execution": {
     "iopub.execute_input": "2021-02-17T21:48:06.735839Z",
     "iopub.status.busy": "2021-02-17T21:48:06.735108Z",
     "iopub.status.idle": "2021-02-17T21:48:06.739043Z",
     "shell.execute_reply": "2021-02-17T21:48:06.738599Z"
    },
    "papermill": {
     "duration": 0.274867,
     "end_time": "2021-02-17T21:48:06.739132",
     "exception": false,
     "start_time": "2021-02-17T21:48:06.464265",
     "status": "completed"
    },
    "tags": []
   },
   "outputs": [],
   "source": [
    "import torch\n",
    "\n",
    "\n",
    "def accuracy(y: torch.Tensor, t: torch.Tensor) -> torch.Tensor:\n",
    "    \"\"\"Computes multi-class classification accuracy\"\"\"\n",
    "    assert y.shape[:-1] == t.shape, f\"y {y.shape}, t {t.shape} is inconsistent.\"\n",
    "    pred_label = torch.max(y.detach(), dim=-1)[1]\n",
    "    count = t.nelement()\n",
    "    correct = (pred_label == t).sum().float()\n",
    "    acc = correct / count\n",
    "    return acc\n",
    "\n",
    "\n",
    "def accuracy_with_logits(y: torch.Tensor, t: torch.Tensor) -> torch.Tensor:\n",
    "    \"\"\"Computes multi-class classification accuracy\"\"\"\n",
    "    assert y.shape == t.shape\n",
    "    gt_label = torch.max(t.detach(), dim=-1)[1]\n",
    "    return accuracy(y, gt_label)"
   ]
  },
  {
   "cell_type": "code",
   "execution_count": 24,
   "metadata": {
    "execution": {
     "iopub.execute_input": "2021-02-17T21:48:07.268077Z",
     "iopub.status.busy": "2021-02-17T21:48:07.267285Z",
     "iopub.status.idle": "2021-02-17T21:48:07.270326Z",
     "shell.execute_reply": "2021-02-17T21:48:07.269772Z"
    },
    "papermill": {
     "duration": 0.270145,
     "end_time": "2021-02-17T21:48:07.270432",
     "exception": false,
     "start_time": "2021-02-17T21:48:07.000287",
     "status": "completed"
    },
    "tags": []
   },
   "outputs": [],
   "source": [
    "import torch\n",
    "import torch.nn.functional as F\n",
    "\n",
    "\n",
    "def cross_entropy_with_logits(input, target, dim=-1):\n",
    "    loss = torch.sum(- target * F.log_softmax(input, dim), dim)\n",
    "    return loss.mean()\n"
   ]
  },
  {
   "cell_type": "code",
   "execution_count": 25,
   "metadata": {
    "_kg_hide-input": true,
    "execution": {
     "iopub.execute_input": "2021-02-17T21:48:07.808048Z",
     "iopub.status.busy": "2021-02-17T21:48:07.807157Z",
     "iopub.status.idle": "2021-02-17T21:48:07.828743Z",
     "shell.execute_reply": "2021-02-17T21:48:07.828252Z"
    },
    "papermill": {
     "duration": 0.297132,
     "end_time": "2021-02-17T21:48:07.828847",
     "exception": false,
     "start_time": "2021-02-17T21:48:07.531715",
     "status": "completed"
    },
    "tags": []
   },
   "outputs": [],
   "source": [
    "import torch\n",
    "import torch.nn.functional as F\n",
    "from torch import nn\n",
    "import pytorch_pfn_extras as ppe\n",
    "\n",
    "\n",
    "class Classifier(nn.Module):\n",
    "    \"\"\"two class classfication\"\"\"\n",
    "\n",
    "    def __init__(self, predictor, lossfun=cross_entropy_with_logits):\n",
    "        super().__init__()\n",
    "        self.predictor = predictor\n",
    "        self.lossfun = lossfun\n",
    "        self.prefix = \"\"\n",
    "\n",
    "    def forward(self, image, targets):\n",
    "        outputs = self.predictor(image)\n",
    "        loss = self.lossfun(outputs, targets)\n",
    "        metrics = {\n",
    "            f\"{self.prefix}loss\": loss.item(),\n",
    "            f\"{self.prefix}acc\": accuracy_with_logits(outputs, targets).item()\n",
    "        }\n",
    "        ppe.reporting.report(metrics, self)\n",
    "        return loss, metrics\n",
    "\n",
    "    def predict(self, data_loader):\n",
    "        pred = self.predict_proba(data_loader)\n",
    "        label = torch.argmax(pred, dim=1)\n",
    "        return label\n",
    "\n",
    "    def predict_proba(self, data_loader):\n",
    "        device: torch.device = next(self.parameters()).device\n",
    "        y_list = []\n",
    "        self.eval()\n",
    "        with torch.no_grad():\n",
    "            for batch in data_loader:\n",
    "                if isinstance(batch, (tuple, list)):\n",
    "                    # Assumes first argument is \"image\"\n",
    "                    batch = batch[0].to(device)\n",
    "                else:\n",
    "                    batch = batch.to(device)\n",
    "                y = self.predictor(batch)\n",
    "                y = torch.softmax(y, dim=-1)\n",
    "                y_list.append(y)\n",
    "        pred = torch.cat(y_list)\n",
    "        return pred\n"
   ]
  },
  {
   "cell_type": "markdown",
   "metadata": {
    "papermill": {
     "duration": 0.430302,
     "end_time": "2021-02-17T21:48:08.682483",
     "exception": false,
     "start_time": "2021-02-17T21:48:08.252181",
     "status": "completed"
    },
    "tags": []
   },
   "source": [
    "What kind of models are supported in the `timm` library?"
   ]
  },
  {
   "cell_type": "code",
   "execution_count": 26,
   "metadata": {
    "execution": {
     "iopub.execute_input": "2021-02-17T21:48:09.344623Z",
     "iopub.status.busy": "2021-02-17T21:48:09.343800Z",
     "iopub.status.idle": "2021-02-17T21:48:09.347235Z",
     "shell.execute_reply": "2021-02-17T21:48:09.347771Z"
    },
    "papermill": {
     "duration": 0.273098,
     "end_time": "2021-02-17T21:48:09.347884",
     "exception": false,
     "start_time": "2021-02-17T21:48:09.074786",
     "status": "completed"
    },
    "tags": []
   },
   "outputs": [
    {
     "name": "stdout",
     "output_type": "stream",
     "text": [
      "347 models are supported in timm.\n",
      "['adv_inception_v3', 'cspdarknet53', 'cspdarknet53_iabn', 'cspresnet50', 'cspresnet50d', 'cspresnet50w', 'cspresnext50', 'cspresnext50_iabn', 'darknet53', 'densenet121', 'densenet121d', 'densenet161', 'densenet169', 'densenet201', 'densenet264', 'densenet264d_iabn', 'densenetblur121d', 'dla34', 'dla46_c', 'dla46x_c', 'dla60', 'dla60_res2net', 'dla60_res2next', 'dla60x', 'dla60x_c', 'dla102', 'dla102x', 'dla102x2', 'dla169', 'dpn68', 'dpn68b', 'dpn92', 'dpn98', 'dpn107', 'dpn131', 'eca_vovnet39b', 'ecaresnet18', 'ecaresnet50', 'ecaresnet50d', 'ecaresnet50d_pruned', 'ecaresnet101d', 'ecaresnet101d_pruned', 'ecaresnetlight', 'ecaresnext26tn_32x4d', 'efficientnet_b0', 'efficientnet_b1', 'efficientnet_b1_pruned', 'efficientnet_b2', 'efficientnet_b2_pruned', 'efficientnet_b2a', 'efficientnet_b3', 'efficientnet_b3_pruned', 'efficientnet_b3a', 'efficientnet_b4', 'efficientnet_b5', 'efficientnet_b6', 'efficientnet_b7', 'efficientnet_b8', 'efficientnet_cc_b0_4e', 'efficientnet_cc_b0_8e', 'efficientnet_cc_b1_8e', 'efficientnet_el', 'efficientnet_em', 'efficientnet_es', 'efficientnet_l2', 'efficientnet_lite0', 'efficientnet_lite1', 'efficientnet_lite2', 'efficientnet_lite3', 'efficientnet_lite4', 'ens_adv_inception_resnet_v2', 'ese_vovnet19b_dw', 'ese_vovnet19b_slim', 'ese_vovnet19b_slim_dw', 'ese_vovnet39b', 'ese_vovnet39b_evos', 'ese_vovnet57b', 'ese_vovnet99b', 'ese_vovnet99b_iabn', 'fbnetc_100', 'gluon_inception_v3', 'gluon_resnet18_v1b', 'gluon_resnet34_v1b', 'gluon_resnet50_v1b', 'gluon_resnet50_v1c', 'gluon_resnet50_v1d', 'gluon_resnet50_v1s', 'gluon_resnet101_v1b', 'gluon_resnet101_v1c', 'gluon_resnet101_v1d', 'gluon_resnet101_v1s', 'gluon_resnet152_v1b', 'gluon_resnet152_v1c', 'gluon_resnet152_v1d', 'gluon_resnet152_v1s', 'gluon_resnext50_32x4d', 'gluon_resnext101_32x4d', 'gluon_resnext101_64x4d', 'gluon_senet154', 'gluon_seresnext50_32x4d', 'gluon_seresnext101_32x4d', 'gluon_seresnext101_64x4d', 'gluon_xception65', 'hrnet_w18', 'hrnet_w18_small', 'hrnet_w18_small_v2', 'hrnet_w30', 'hrnet_w32', 'hrnet_w40', 'hrnet_w44', 'hrnet_w48', 'hrnet_w64', 'ig_resnext101_32x8d', 'ig_resnext101_32x16d', 'ig_resnext101_32x32d', 'ig_resnext101_32x48d', 'inception_resnet_v2', 'inception_v3', 'inception_v4', 'legacy_senet154', 'legacy_seresnet18', 'legacy_seresnet34', 'legacy_seresnet50', 'legacy_seresnet101', 'legacy_seresnet152', 'legacy_seresnext26_32x4d', 'legacy_seresnext50_32x4d', 'legacy_seresnext101_32x4d', 'mixnet_l', 'mixnet_m', 'mixnet_s', 'mixnet_xl', 'mixnet_xxl', 'mnasnet_050', 'mnasnet_075', 'mnasnet_100', 'mnasnet_140', 'mnasnet_a1', 'mnasnet_b1', 'mnasnet_small', 'mobilenetv2_100', 'mobilenetv2_110d', 'mobilenetv2_120d', 'mobilenetv2_140', 'mobilenetv3_large_075', 'mobilenetv3_large_100', 'mobilenetv3_rw', 'mobilenetv3_small_075', 'mobilenetv3_small_100', 'nasnetalarge', 'pnasnet5large', 'regnetx_002', 'regnetx_004', 'regnetx_006', 'regnetx_008', 'regnetx_016', 'regnetx_032', 'regnetx_040', 'regnetx_064', 'regnetx_080', 'regnetx_120', 'regnetx_160', 'regnetx_320', 'regnety_002', 'regnety_004', 'regnety_006', 'regnety_008', 'regnety_016', 'regnety_032', 'regnety_040', 'regnety_064', 'regnety_080', 'regnety_120', 'regnety_160', 'regnety_320', 'res2net50_14w_8s', 'res2net50_26w_4s', 'res2net50_26w_6s', 'res2net50_26w_8s', 'res2net50_48w_2s', 'res2net101_26w_4s', 'res2next50', 'resnest14d', 'resnest26d', 'resnest50d', 'resnest50d_1s4x24d', 'resnest50d_4s2x40d', 'resnest101e', 'resnest200e', 'resnest269e', 'resnet18', 'resnet18d', 'resnet26', 'resnet26d', 'resnet34', 'resnet34d', 'resnet50', 'resnet50d', 'resnet101', 'resnet101d', 'resnet101d_320', 'resnet152', 'resnet152d', 'resnet152d_320', 'resnet200', 'resnet200d', 'resnet200d_320', 'resnetblur18', 'resnetblur50', 'resnext50_32x4d', 'resnext50d_32x4d', 'resnext101_32x4d', 'resnext101_32x8d', 'resnext101_64x4d', 'rexnet_100', 'rexnet_130', 'rexnet_150', 'rexnet_200', 'rexnetr_100', 'rexnetr_130', 'rexnetr_150', 'rexnetr_200', 'selecsls42', 'selecsls42b', 'selecsls60', 'selecsls60b', 'selecsls84', 'semnasnet_050', 'semnasnet_075', 'semnasnet_100', 'semnasnet_140', 'senet154', 'seresnet18', 'seresnet34', 'seresnet50', 'seresnet50tn', 'seresnet101', 'seresnet152', 'seresnet152d', 'seresnet152d_320', 'seresnext26_32x4d', 'seresnext26d_32x4d', 'seresnext26t_32x4d', 'seresnext26tn_32x4d', 'seresnext50_32x4d', 'seresnext101_32x4d', 'seresnext101_32x8d', 'skresnet18', 'skresnet34', 'skresnet50', 'skresnet50d', 'skresnext50_32x4d', 'spnasnet_100', 'ssl_resnet18', 'ssl_resnet50', 'ssl_resnext50_32x4d', 'ssl_resnext101_32x4d', 'ssl_resnext101_32x8d', 'ssl_resnext101_32x16d', 'swsl_resnet18', 'swsl_resnet50', 'swsl_resnext50_32x4d', 'swsl_resnext101_32x4d', 'swsl_resnext101_32x8d', 'swsl_resnext101_32x16d', 'tf_efficientnet_b0', 'tf_efficientnet_b0_ap', 'tf_efficientnet_b0_ns', 'tf_efficientnet_b1', 'tf_efficientnet_b1_ap', 'tf_efficientnet_b1_ns', 'tf_efficientnet_b2', 'tf_efficientnet_b2_ap', 'tf_efficientnet_b2_ns', 'tf_efficientnet_b3', 'tf_efficientnet_b3_ap', 'tf_efficientnet_b3_ns', 'tf_efficientnet_b4', 'tf_efficientnet_b4_ap', 'tf_efficientnet_b4_ns', 'tf_efficientnet_b5', 'tf_efficientnet_b5_ap', 'tf_efficientnet_b5_ns', 'tf_efficientnet_b6', 'tf_efficientnet_b6_ap', 'tf_efficientnet_b6_ns', 'tf_efficientnet_b7', 'tf_efficientnet_b7_ap', 'tf_efficientnet_b7_ns', 'tf_efficientnet_b8', 'tf_efficientnet_b8_ap', 'tf_efficientnet_cc_b0_4e', 'tf_efficientnet_cc_b0_8e', 'tf_efficientnet_cc_b1_8e', 'tf_efficientnet_el', 'tf_efficientnet_em', 'tf_efficientnet_es', 'tf_efficientnet_l2_ns', 'tf_efficientnet_l2_ns_475', 'tf_efficientnet_lite0', 'tf_efficientnet_lite1', 'tf_efficientnet_lite2', 'tf_efficientnet_lite3', 'tf_efficientnet_lite4', 'tf_inception_v3', 'tf_mixnet_l', 'tf_mixnet_m', 'tf_mixnet_s', 'tf_mobilenetv3_large_075', 'tf_mobilenetv3_large_100', 'tf_mobilenetv3_large_minimal_100', 'tf_mobilenetv3_small_075', 'tf_mobilenetv3_small_100', 'tf_mobilenetv3_small_minimal_100', 'tresnet_l', 'tresnet_l_448', 'tresnet_m', 'tresnet_m_448', 'tresnet_xl', 'tresnet_xl_448', 'tv_densenet121', 'tv_resnet34', 'tv_resnet50', 'tv_resnet101', 'tv_resnet152', 'tv_resnext50_32x4d', 'vit_base_patch16_224', 'vit_base_patch16_384', 'vit_base_patch32_384', 'vit_base_resnet26d_224', 'vit_base_resnet50d_224', 'vit_huge_patch16_224', 'vit_huge_patch32_384', 'vit_large_patch16_224', 'vit_large_patch16_384', 'vit_large_patch32_384', 'vit_small_patch16_224', 'vit_small_resnet26d_224', 'vit_small_resnet50d_s3_224', 'vovnet39a', 'vovnet57a', 'wide_resnet50_2', 'wide_resnet101_2', 'xception', 'xception41', 'xception65', 'xception71']\n"
     ]
    }
   ],
   "source": [
    "supported_models = timm.list_models()\n",
    "print(f\"{len(supported_models)} models are supported in timm.\")\n",
    "print(supported_models)"
   ]
  },
  {
   "cell_type": "markdown",
   "metadata": {
    "papermill": {
     "duration": 0.261865,
     "end_time": "2021-02-17T21:48:09.872562",
     "exception": false,
     "start_time": "2021-02-17T21:48:09.610697",
     "status": "completed"
    },
    "tags": []
   },
   "source": [
    "Wow more than 300 models are supported!<br/>\n",
    "It of course includes **resnet** related models, **efficientnet**, etc.<br/>\n",
    "You may wonder which model should be used?<br/>\n",
    "I will go with `resnet18` as a baseline at first, and try using more deeper/latest models in the experiment."
   ]
  },
  {
   "cell_type": "markdown",
   "metadata": {
    "papermill": {
     "duration": 0.275512,
     "end_time": "2021-02-17T21:48:10.412027",
     "exception": false,
     "start_time": "2021-02-17T21:48:10.136515",
     "status": "completed"
    },
    "tags": []
   },
   "source": [
    "<a id=\"trainutil\"></a>\n",
    "# Training utils\n",
    "\n",
    "Here are training util methods. You can just copy these to use in other projects."
   ]
  },
  {
   "cell_type": "code",
   "execution_count": 27,
   "metadata": {
    "_kg_hide-input": true,
    "execution": {
     "iopub.execute_input": "2021-02-17T21:48:10.960359Z",
     "iopub.status.busy": "2021-02-17T21:48:10.959602Z",
     "iopub.status.idle": "2021-02-17T21:48:10.962618Z",
     "shell.execute_reply": "2021-02-17T21:48:10.962169Z"
    },
    "papermill": {
     "duration": 0.287512,
     "end_time": "2021-02-17T21:48:10.962713",
     "exception": false,
     "start_time": "2021-02-17T21:48:10.675201",
     "status": "completed"
    },
    "tags": []
   },
   "outputs": [],
   "source": [
    "\"\"\"\n",
    "From https://github.com/pfnet-research/kaggle-lyft-motion-prediction-4th-place-solution\n",
    "\"\"\"\n",
    "from logging import getLogger\n",
    "\n",
    "from torch import nn\n",
    "\n",
    "\n",
    "class EMA(object):\n",
    "    \"\"\"Exponential moving average of model parameters.\n",
    "\n",
    "    Ref\n",
    "     - https://github.com/tensorflow/addons/blob/v0.10.0/tensorflow_addons/optimizers/moving_average.py#L26-L103\n",
    "     - https://anmoljoshi.com/Pytorch-Dicussions/\n",
    "\n",
    "    Args:\n",
    "        model (nn.Module): Model with parameters whose EMA will be kept.\n",
    "        decay (float): Decay rate for exponential moving average.\n",
    "        strict (bool): Apply strict check for `assign` & `resume`.\n",
    "        use_dynamic_decay (bool): Dynamically change decay rate. If `True`, small decay rate is\n",
    "            used at the beginning of training to move moving average faster.\n",
    "    \"\"\"  # NOQA\n",
    "\n",
    "    def __init__(\n",
    "        self,\n",
    "        model: nn.Module,\n",
    "        decay: float,\n",
    "        strict: bool = True,\n",
    "        use_dynamic_decay: bool = True,\n",
    "    ):\n",
    "        self.decay = decay\n",
    "        self.model = model\n",
    "        self.strict = strict\n",
    "        self.use_dynamic_decay = use_dynamic_decay\n",
    "        self.logger = getLogger(__name__)\n",
    "        self.n_step = 0\n",
    "\n",
    "        self.shadow = {}\n",
    "        self.original = {}\n",
    "\n",
    "        # Flag to manage which parameter is assigned.\n",
    "        # When `False`, original model's parameter is used.\n",
    "        # When `True` (`assign` method is called), `shadow` parameter (ema param) is used.\n",
    "        self._assigned = False\n",
    "\n",
    "        # Register model parameters\n",
    "        for name, param in model.named_parameters():\n",
    "            if param.requires_grad:\n",
    "                self.shadow[name] = param.data.clone()\n",
    "\n",
    "    def step(self):\n",
    "        self.n_step += 1\n",
    "        if self.use_dynamic_decay:\n",
    "            _n_step = float(self.n_step)\n",
    "            decay = min(self.decay, (1.0 + _n_step) / (10.0 + _n_step))\n",
    "        else:\n",
    "            decay = self.decay\n",
    "\n",
    "        for name, param in self.model.named_parameters():\n",
    "            if param.requires_grad:\n",
    "                assert name in self.shadow\n",
    "                new_average = (1.0 - decay) * param.data + decay * self.shadow[name]\n",
    "                self.shadow[name] = new_average.clone()\n",
    "\n",
    "    # alias\n",
    "    __call__ = step\n",
    "\n",
    "    def assign(self):\n",
    "        \"\"\"Assign exponential moving average of parameter values to the respective parameters.\"\"\"\n",
    "        if self._assigned:\n",
    "            if self.strict:\n",
    "                raise ValueError(\"[ERROR] `assign` is called again before `resume`.\")\n",
    "            else:\n",
    "                self.logger.warning(\n",
    "                    \"`assign` is called again before `resume`.\"\n",
    "                    \"shadow parameter is already assigned, skip.\"\n",
    "                )\n",
    "                return\n",
    "\n",
    "        for name, param in self.model.named_parameters():\n",
    "            if param.requires_grad:\n",
    "                assert name in self.shadow\n",
    "                self.original[name] = param.data.clone()\n",
    "                param.data = self.shadow[name]\n",
    "        self._assigned = True\n",
    "\n",
    "    def resume(self):\n",
    "        \"\"\"Restore original parameters to a model.\n",
    "\n",
    "        That is, put back the values that were in each parameter at the last call to `assign`.\n",
    "        \"\"\"\n",
    "        if not self._assigned:\n",
    "            if self.strict:\n",
    "                raise ValueError(\"[ERROR] `resume` is called before `assign`.\")\n",
    "            else:\n",
    "                self.logger.warning(\"`resume` is called before `assign`, skip.\")\n",
    "                return\n",
    "\n",
    "        for name, param in self.model.named_parameters():\n",
    "            if param.requires_grad:\n",
    "                assert name in self.shadow\n",
    "                param.data = self.original[name]\n",
    "        self._assigned = False\n"
   ]
  },
  {
   "cell_type": "code",
   "execution_count": 28,
   "metadata": {
    "_kg_hide-input": true,
    "execution": {
     "iopub.execute_input": "2021-02-17T21:48:11.497092Z",
     "iopub.status.busy": "2021-02-17T21:48:11.496301Z",
     "iopub.status.idle": "2021-02-17T21:48:11.499286Z",
     "shell.execute_reply": "2021-02-17T21:48:11.498876Z"
    },
    "papermill": {
     "duration": 0.273877,
     "end_time": "2021-02-17T21:48:11.499394",
     "exception": false,
     "start_time": "2021-02-17T21:48:11.225517",
     "status": "completed"
    },
    "tags": []
   },
   "outputs": [],
   "source": [
    "\"\"\"\n",
    "From https://github.com/pfnet-research/kaggle-lyft-motion-prediction-4th-place-solution\n",
    "\"\"\"\n",
    "from typing import Mapping, Any\n",
    "\n",
    "from torch import optim\n",
    "\n",
    "from pytorch_pfn_extras.training.extension import Extension, PRIORITY_READER\n",
    "from pytorch_pfn_extras.training.manager import ExtensionsManager\n",
    "\n",
    "\n",
    "class LRScheduler(Extension):\n",
    "    \"\"\"A thin wrapper to resume the lr_scheduler\"\"\"\n",
    "\n",
    "    trigger = 1, 'iteration'\n",
    "    priority = PRIORITY_READER\n",
    "    name = None\n",
    "\n",
    "    def __init__(self, optimizer: optim.Optimizer, scheduler_type: str, scheduler_kwargs: Mapping[str, Any]) -> None:\n",
    "        super().__init__()\n",
    "        self.scheduler = getattr(optim.lr_scheduler, scheduler_type)(optimizer, **scheduler_kwargs)\n",
    "\n",
    "    def __call__(self, manager: ExtensionsManager) -> None:\n",
    "        self.scheduler.step()\n",
    "\n",
    "    def state_dict(self) -> None:\n",
    "        return self.scheduler.state_dict()\n",
    "\n",
    "    def load_state_dict(self, to_load) -> None:\n",
    "        self.scheduler.load_state_dict(to_load)\n"
   ]
  },
  {
   "cell_type": "code",
   "execution_count": 29,
   "metadata": {
    "_kg_hide-input": true,
    "execution": {
     "iopub.execute_input": "2021-02-17T21:48:12.032671Z",
     "iopub.status.busy": "2021-02-17T21:48:12.032091Z",
     "iopub.status.idle": "2021-02-17T21:48:12.088143Z",
     "shell.execute_reply": "2021-02-17T21:48:12.087295Z"
    },
    "papermill": {
     "duration": 0.324862,
     "end_time": "2021-02-17T21:48:12.088299",
     "exception": false,
     "start_time": "2021-02-17T21:48:11.763437",
     "status": "completed"
    },
    "tags": []
   },
   "outputs": [],
   "source": [
    "from ignite.engine import Engine\n",
    "\n",
    "\n",
    "def create_trainer(model, optimizer, device) -> Engine:\n",
    "    model.to(device)\n",
    "\n",
    "    def update_fn(engine, batch):\n",
    "        model.train()\n",
    "        optimizer.zero_grad()\n",
    "        loss, metrics = model(*[elem.to(device) for elem in batch])\n",
    "        loss.backward()\n",
    "        optimizer.step()\n",
    "        return metrics\n",
    "    trainer = Engine(update_fn)\n",
    "    return trainer\n"
   ]
  },
  {
   "cell_type": "markdown",
   "metadata": {
    "papermill": {
     "duration": 0.261542,
     "end_time": "2021-02-17T21:48:12.613305",
     "exception": false,
     "start_time": "2021-02-17T21:48:12.351763",
     "status": "completed"
    },
    "tags": []
   },
   "source": [
    "<a id=\"trainscript\"></a>\n",
    "# Training scripts"
   ]
  },
  {
   "cell_type": "code",
   "execution_count": 30,
   "metadata": {
    "_kg_hide-input": true,
    "execution": {
     "iopub.execute_input": "2021-02-17T21:48:13.178776Z",
     "iopub.status.busy": "2021-02-17T21:48:13.177938Z",
     "iopub.status.idle": "2021-02-17T21:48:13.180241Z",
     "shell.execute_reply": "2021-02-17T21:48:13.180712Z"
    },
    "papermill": {
     "duration": 0.302604,
     "end_time": "2021-02-17T21:48:13.180820",
     "exception": false,
     "start_time": "2021-02-17T21:48:12.878216",
     "status": "completed"
    },
    "tags": []
   },
   "outputs": [],
   "source": [
    "import dataclasses\n",
    "import os\n",
    "import sys\n",
    "from pathlib import Path\n",
    "\n",
    "import numpy as np\n",
    "import pandas as pd\n",
    "import pytorch_pfn_extras.training.extensions as E\n",
    "import torch\n",
    "from ignite.engine import Events\n",
    "from pytorch_pfn_extras.training import IgniteExtensionsManager\n",
    "from sklearn.model_selection import StratifiedKFold\n",
    "from torch import nn, optim\n",
    "from torch.utils.data.dataloader import DataLoader"
   ]
  },
  {
   "cell_type": "markdown",
   "metadata": {
    "papermill": {
     "duration": 0.262059,
     "end_time": "2021-02-17T21:48:13.705455",
     "exception": false,
     "start_time": "2021-02-17T21:48:13.443396",
     "status": "completed"
    },
    "tags": []
   },
   "source": [
    "## Preparing data by 5-fold cross validation\n",
    "\n",
    "When we have few data, running stable evaluation is very important. \n",
    "We can use cross validation to reduce validation error standard deviation.\n",
    "\n",
    "Here, I will use **[`StratifiedKFold`](https://scikit-learn.org/stable/modules/generated/sklearn.model_selection.StratifiedKFold.html)** to keep the balance between normal/abnormal ratio same for the train & validation dataset.\n",
    "\n",
    "According to [this discussion](https://www.kaggle.com/c/vinbigdata-chest-xray-abnormalities-detection/discussion/208837#1139712), using multi label stratified kfold https://github.com/trent-b/iterative-stratification may be more stable."
   ]
  },
  {
   "cell_type": "code",
   "execution_count": 31,
   "metadata": {
    "execution": {
     "iopub.execute_input": "2021-02-17T21:48:14.291310Z",
     "iopub.status.busy": "2021-02-17T21:48:14.289459Z",
     "iopub.status.idle": "2021-02-17T21:48:14.334692Z",
     "shell.execute_reply": "2021-02-17T21:48:14.334088Z"
    },
    "papermill": {
     "duration": 0.365045,
     "end_time": "2021-02-17T21:48:14.334805",
     "exception": false,
     "start_time": "2021-02-17T21:48:13.969760",
     "status": "completed"
    },
    "tags": []
   },
   "outputs": [],
   "source": [
    "skf = StratifiedKFold(n_splits=5, shuffle=True, random_state=flags.seed)\n",
    "# skf.get_n_splits(None, None)\n",
    "y = np.array([int(len(d[\"annotations\"]) > 0) for d in dataset_dicts])\n",
    "split_inds = list(skf.split(dataset_dicts, y))\n",
    "train_inds, valid_inds = split_inds[flags.target_fold]  # 0th fold\n",
    "train_dataset = VinbigdataTwoClassDataset(\n",
    "    [dataset_dicts[i] for i in train_inds],\n",
    "    image_transform=Transform(flags.aug_kwargs),\n",
    "    mixup_prob=flags.mixup_prob,\n",
    "    label_smoothing=flags.label_smoothing,\n",
    ")\n",
    "valid_dataset = VinbigdataTwoClassDataset([dataset_dicts[i] for i in valid_inds])\n"
   ]
  },
  {
   "cell_type": "markdown",
   "metadata": {
    "papermill": {
     "duration": 0.268025,
     "end_time": "2021-02-17T21:48:15.041167",
     "exception": false,
     "start_time": "2021-02-17T21:48:14.773142",
     "status": "completed"
    },
    "tags": []
   },
   "source": [
    "## Write training code\n",
    "\n",
    "pytorch-ignite & pytorch-pfn-extras are used here.\n",
    "\n",
    " - [pytorch/ignite](https://github.com/pytorch/ignite): It provides abstraction for writing training loop.\n",
    " - [pfnet/pytorch-pfn-extras](https://github.com/pfnet/pytorch-pfn-extras): It provides several \"extensions\" useful for training. Useful for **logging, printing, evaluating, saving the model, scheduling the learning rate** during training.\n",
    " \n",
    "**[Note] Why training abstraction library is used?**\n",
    "\n",
    "You may feel understanding training abstraction code below is a bit unintuitive compared to writing \"raw\" training loop.<br/>\n",
    "The advantage of abstracting the code is that we can re-use implemented handler class for other training, other competition.<br/>\n",
    "You don't need to write code for saving models, logging training loss/metric, show progressbar etc.\n",
    "These are done by provided util classes in `pytorch-pfn-extras` library!\n",
    "\n",
    "You may refer my other kernel in previous competition too:\n",
    " - [Bengali: SEResNeXt training with pytorch](https://www.kaggle.com/corochann/bengali-seresnext-training-with-pytorch)\n",
    " - [Lyft: Training with multi-mode confidence](https://www.kaggle.com/corochann/lyft-training-with-multi-mode-confidence)"
   ]
  },
  {
   "cell_type": "code",
   "execution_count": 32,
   "metadata": {
    "execution": {
     "iopub.execute_input": "2021-02-17T21:48:15.591904Z",
     "iopub.status.busy": "2021-02-17T21:48:15.590678Z",
     "iopub.status.idle": "2021-02-17T22:16:09.177212Z",
     "shell.execute_reply": "2021-02-17T22:16:09.176720Z"
    },
    "papermill": {
     "duration": 1673.867537,
     "end_time": "2021-02-17T22:16:09.177329",
     "exception": false,
     "start_time": "2021-02-17T21:48:15.309792",
     "status": "completed"
    },
    "tags": []
   },
   "outputs": [
    {
     "name": "stderr",
     "output_type": "stream",
     "text": [
      "Downloading: \"https://download.pytorch.org/models/resnet18-5c106cde.pth\" to /root/.cache/torch/hub/checkpoints/resnet18-5c106cde.pth\n"
     ]
    },
    {
     "name": "stdout",
     "output_type": "stream",
     "text": [
      "using CosineAnnealingWarmRestarts scheduler with kwargs {'T_0': 28125}\n"
     ]
    },
    {
     "data": {
      "application/vnd.jupyter.widget-view+json": {
       "model_id": "b9e953b087274f109d5276f819dee1d0",
       "version_major": 2,
       "version_minor": 0
      },
      "text/plain": [
       "VBox(children=(HBox(children=(FloatProgress(value=0.0, bar_style='info', description='total', max=1.0), HTML(v…"
      ]
     },
     "metadata": {},
     "output_type": "display_data"
    },
    {
     "data": {
      "application/vnd.jupyter.widget-view+json": {
       "model_id": "f8e646b1cd0b49d4b8532ebb585ceccc",
       "version_major": 2,
       "version_minor": 0
      },
      "text/plain": [
       "HTML(value='')"
      ]
     },
     "metadata": {},
     "output_type": "display_data"
    }
   ],
   "source": [
    "train_loader = DataLoader(\n",
    "    train_dataset,\n",
    "    batch_size=flags.batchsize,\n",
    "    num_workers=flags.num_workers,\n",
    "    shuffle=True,\n",
    "    pin_memory=True,\n",
    ")\n",
    "valid_loader = DataLoader(\n",
    "    valid_dataset,\n",
    "    batch_size=flags.valid_batchsize,\n",
    "    num_workers=flags.num_workers,\n",
    "    shuffle=False,\n",
    "    pin_memory=True,\n",
    ")\n",
    "\n",
    "device = torch.device(flags.device)\n",
    "\n",
    "predictor = build_predictor(model_name=flags.model_name, model_mode=flags.model_mode)\n",
    "classifier = Classifier(predictor)\n",
    "model = classifier\n",
    "# optimizer = optim.Adam(model.parameters(), lr=1e-3)\n",
    "optimizer = optim.Adam([param for param in model.parameters() if param.requires_grad], lr=1e-3)\n",
    "\n",
    "# Train setup\n",
    "trainer = create_trainer(model, optimizer, device)\n",
    "\n",
    "ema = EMA(predictor, decay=flags.ema_decay)\n",
    "\n",
    "def eval_func(*batch):\n",
    "    loss, metrics = model(*[elem.to(device) for elem in batch])\n",
    "    # HACKING: report ema value with prefix.\n",
    "    if flags.ema_decay > 0:\n",
    "        classifier.prefix = \"ema_\"\n",
    "        ema.assign()\n",
    "        loss, metrics = model(*[elem.to(device) for elem in batch])\n",
    "        ema.resume()\n",
    "        classifier.prefix = \"\"\n",
    "\n",
    "valid_evaluator = E.Evaluator(\n",
    "    valid_loader, model, progress_bar=False, eval_func=eval_func, device=device\n",
    ")\n",
    "\n",
    "# log_trigger = (10 if debug else 1000, \"iteration\")\n",
    "log_trigger = (1, \"epoch\")\n",
    "log_report = E.LogReport(trigger=log_trigger)\n",
    "extensions = [\n",
    "    log_report,\n",
    "    E.ProgressBarNotebook(update_interval=10 if debug else 100),  # Show progress bar during training\n",
    "    E.PrintReportNotebook(),  # Show \"log\" on jupyter notebook  \n",
    "    # E.ProgressBar(update_interval=10 if debug else 100),  # Show progress bar during training\n",
    "    # E.PrintReport(),  # Print \"log\" to terminal\n",
    "    E.FailOnNonNumber(),  # Stop training when nan is detected.\n",
    "]\n",
    "epoch = flags.epoch\n",
    "models = {\"main\": model}\n",
    "optimizers = {\"main\": optimizer}\n",
    "manager = IgniteExtensionsManager(\n",
    "    trainer, models, optimizers, epoch, extensions=extensions, out_dir=str(outdir),\n",
    ")\n",
    "# Run evaluation for valid dataset in each epoch.\n",
    "manager.extend(valid_evaluator)\n",
    "\n",
    "# Save predictor.pt every epoch\n",
    "manager.extend(\n",
    "    E.snapshot_object(predictor, \"predictor.pt\"), trigger=(flags.snapshot_freq, \"epoch\")\n",
    ")\n",
    "# Check & Save best validation predictor.pt every epoch\n",
    "# manager.extend(E.snapshot_object(predictor, \"best_predictor.pt\"),\n",
    "#                trigger=MinValueTrigger(\"validation/module/nll\",\n",
    "#                trigger=(flags.snapshot_freq, \"iteration\")))\n",
    "\n",
    "# --- lr scheduler ---\n",
    "if flags.scheduler_type != \"\":\n",
    "    scheduler_type = flags.scheduler_type\n",
    "    print(f\"using {scheduler_type} scheduler with kwargs {flags.scheduler_kwargs}\")\n",
    "    manager.extend(\n",
    "        LRScheduler(optimizer, scheduler_type, flags.scheduler_kwargs),\n",
    "        trigger=flags.scheduler_trigger,\n",
    "    )\n",
    "\n",
    "manager.extend(E.observe_lr(optimizer=optimizer), trigger=log_trigger)\n",
    "\n",
    "if flags.ema_decay > 0:\n",
    "    # Exponential moving average\n",
    "    manager.extend(lambda manager: ema(), trigger=(1, \"iteration\"))\n",
    "\n",
    "    def save_ema_model(manager):\n",
    "        ema.assign()\n",
    "        torch.save(predictor.state_dict(), outdir / \"predictor_ema.pt\")\n",
    "        ema.resume()\n",
    "\n",
    "    manager.extend(save_ema_model, trigger=(flags.snapshot_freq, \"epoch\"))\n",
    "\n",
    "_ = trainer.run(train_loader, max_epochs=epoch)"
   ]
  },
  {
   "cell_type": "markdown",
   "metadata": {
    "papermill": {
     "duration": 0.266428,
     "end_time": "2021-02-17T22:16:09.710208",
     "exception": false,
     "start_time": "2021-02-17T22:16:09.443780",
     "status": "completed"
    },
    "tags": []
   },
   "source": [
    "So what is happening in above training abstraction? Let's understand what each extension did.\n",
    "\n",
    "**Extensions** - Each role:\n",
    " - **`ProgressBar` (`ProgressBarNotebook`)**: Shows training progress in formatted style.\n",
    " - **`LogReport`**: Logging metrics reported by `ppe.reporter.report` (see `LyftMultiRegressor` for reporting point) method and save to **log** file. It automatically collects reported value in each iteration and saves the \"mean\" of reported value for regular frequency (for example every 1 epoch).\n",
    " - **`PrintReport` (`PrintReportNotebook`)**: Prints the value which `LogReport` collected in formatted style.\n",
    " - **`Evaluator`**: Evaluate on validation dataset.\n",
    " - **`snapshot_object`**: Saves the object. Here the `model` is saved in regular interval `flags.snapshot_freq`. Even you quit training using Ctrl+C without finishing all the epoch, the intermediate trained model is saved and you can use it for inference.\n",
    " - **`LRScheduler`**: You can insert learning rate scheduling with this extension, together with the regular interval call specified by `trigger`. Here cosine annealing is applied (configured by Flags) by calling `scheduler.step()` every iteration.\n",
    " - **`observe_lr`**: `LogReport` will check optimizer's learning rate using this extension. So you can follow how the learning rate changed through the training.\n",
    "\n",
    "\n",
    "Such many functionalities can be \"added\" easily using extensions!"
   ]
  },
  {
   "cell_type": "markdown",
   "metadata": {
    "papermill": {
     "duration": 0.273231,
     "end_time": "2021-02-17T22:16:10.250914",
     "exception": false,
     "start_time": "2021-02-17T22:16:09.977683",
     "status": "completed"
    },
    "tags": []
   },
   "source": [
    "Also **Exponential Moving Average of model weights** is calculated by `EMA` class during training, together with showing its validation loss. We can usually obtrain more stable models with EMA."
   ]
  },
  {
   "cell_type": "markdown",
   "metadata": {
    "papermill": {
     "duration": 0.295529,
     "end_time": "2021-02-17T22:16:10.812468",
     "exception": false,
     "start_time": "2021-02-17T22:16:10.516939",
     "status": "completed"
    },
    "tags": []
   },
   "source": [
    "You can obtrain training history results really easily by just accessing `LogReport` class, which is useful for managing a lot of experiments during kaggle competitions."
   ]
  },
  {
   "cell_type": "code",
   "execution_count": 33,
   "metadata": {
    "execution": {
     "iopub.execute_input": "2021-02-17T22:16:11.353822Z",
     "iopub.status.busy": "2021-02-17T22:16:11.352985Z",
     "iopub.status.idle": "2021-02-17T22:16:11.698153Z",
     "shell.execute_reply": "2021-02-17T22:16:11.697277Z"
    },
    "papermill": {
     "duration": 0.618642,
     "end_time": "2021-02-17T22:16:11.698253",
     "exception": false,
     "start_time": "2021-02-17T22:16:11.079611",
     "status": "completed"
    },
    "tags": []
   },
   "outputs": [
    {
     "data": {
      "text/html": [
       "<div>\n",
       "<style scoped>\n",
       "    .dataframe tbody tr th:only-of-type {\n",
       "        vertical-align: middle;\n",
       "    }\n",
       "\n",
       "    .dataframe tbody tr th {\n",
       "        vertical-align: top;\n",
       "    }\n",
       "\n",
       "    .dataframe thead th {\n",
       "        text-align: right;\n",
       "    }\n",
       "</style>\n",
       "<table border=\"1\" class=\"dataframe\">\n",
       "  <thead>\n",
       "    <tr style=\"text-align: right;\">\n",
       "      <th></th>\n",
       "      <th>main/loss</th>\n",
       "      <th>main/acc</th>\n",
       "      <th>validation/main/loss</th>\n",
       "      <th>validation/main/acc</th>\n",
       "      <th>validation/main/ema_loss</th>\n",
       "      <th>validation/main/ema_acc</th>\n",
       "      <th>lr</th>\n",
       "      <th>epoch</th>\n",
       "      <th>iteration</th>\n",
       "      <th>elapsed_time</th>\n",
       "    </tr>\n",
       "  </thead>\n",
       "  <tbody>\n",
       "    <tr>\n",
       "      <th>0</th>\n",
       "      <td>0.565279</td>\n",
       "      <td>0.716583</td>\n",
       "      <td>0.526520</td>\n",
       "      <td>0.741024</td>\n",
       "      <td>0.576380</td>\n",
       "      <td>0.740027</td>\n",
       "      <td>0.000993</td>\n",
       "      <td>1</td>\n",
       "      <td>1500</td>\n",
       "      <td>114.157948</td>\n",
       "    </tr>\n",
       "    <tr>\n",
       "      <th>1</th>\n",
       "      <td>0.440392</td>\n",
       "      <td>0.798417</td>\n",
       "      <td>0.371827</td>\n",
       "      <td>0.846077</td>\n",
       "      <td>0.759136</td>\n",
       "      <td>0.409242</td>\n",
       "      <td>0.000972</td>\n",
       "      <td>2</td>\n",
       "      <td>3000</td>\n",
       "      <td>222.150948</td>\n",
       "    </tr>\n",
       "    <tr>\n",
       "      <th>2</th>\n",
       "      <td>0.396254</td>\n",
       "      <td>0.826750</td>\n",
       "      <td>0.284032</td>\n",
       "      <td>0.877660</td>\n",
       "      <td>0.576368</td>\n",
       "      <td>0.686835</td>\n",
       "      <td>0.000938</td>\n",
       "      <td>3</td>\n",
       "      <td>4500</td>\n",
       "      <td>330.501614</td>\n",
       "    </tr>\n",
       "    <tr>\n",
       "      <th>3</th>\n",
       "      <td>0.370035</td>\n",
       "      <td>0.838417</td>\n",
       "      <td>0.269385</td>\n",
       "      <td>0.903590</td>\n",
       "      <td>0.295983</td>\n",
       "      <td>0.871011</td>\n",
       "      <td>0.000892</td>\n",
       "      <td>4</td>\n",
       "      <td>6000</td>\n",
       "      <td>439.686884</td>\n",
       "    </tr>\n",
       "    <tr>\n",
       "      <th>4</th>\n",
       "      <td>0.337223</td>\n",
       "      <td>0.857083</td>\n",
       "      <td>0.265033</td>\n",
       "      <td>0.895612</td>\n",
       "      <td>0.300898</td>\n",
       "      <td>0.895612</td>\n",
       "      <td>0.000835</td>\n",
       "      <td>5</td>\n",
       "      <td>7500</td>\n",
       "      <td>549.781976</td>\n",
       "    </tr>\n",
       "    <tr>\n",
       "      <th>5</th>\n",
       "      <td>0.317146</td>\n",
       "      <td>0.868500</td>\n",
       "      <td>0.243154</td>\n",
       "      <td>0.900598</td>\n",
       "      <td>0.375096</td>\n",
       "      <td>0.838763</td>\n",
       "      <td>0.000768</td>\n",
       "      <td>6</td>\n",
       "      <td>9000</td>\n",
       "      <td>659.766492</td>\n",
       "    </tr>\n",
       "    <tr>\n",
       "      <th>6</th>\n",
       "      <td>0.298288</td>\n",
       "      <td>0.877167</td>\n",
       "      <td>0.218226</td>\n",
       "      <td>0.915559</td>\n",
       "      <td>0.238841</td>\n",
       "      <td>0.905918</td>\n",
       "      <td>0.000694</td>\n",
       "      <td>7</td>\n",
       "      <td>10500</td>\n",
       "      <td>769.807405</td>\n",
       "    </tr>\n",
       "    <tr>\n",
       "      <th>7</th>\n",
       "      <td>0.276359</td>\n",
       "      <td>0.885833</td>\n",
       "      <td>0.226506</td>\n",
       "      <td>0.908577</td>\n",
       "      <td>0.285819</td>\n",
       "      <td>0.871676</td>\n",
       "      <td>0.000614</td>\n",
       "      <td>8</td>\n",
       "      <td>12000</td>\n",
       "      <td>880.522941</td>\n",
       "    </tr>\n",
       "    <tr>\n",
       "      <th>8</th>\n",
       "      <td>0.257657</td>\n",
       "      <td>0.893750</td>\n",
       "      <td>0.196456</td>\n",
       "      <td>0.922872</td>\n",
       "      <td>0.209874</td>\n",
       "      <td>0.918218</td>\n",
       "      <td>0.000531</td>\n",
       "      <td>9</td>\n",
       "      <td>13500</td>\n",
       "      <td>991.473602</td>\n",
       "    </tr>\n",
       "    <tr>\n",
       "      <th>9</th>\n",
       "      <td>0.239293</td>\n",
       "      <td>0.902250</td>\n",
       "      <td>0.197728</td>\n",
       "      <td>0.925532</td>\n",
       "      <td>0.207492</td>\n",
       "      <td>0.917886</td>\n",
       "      <td>0.000448</td>\n",
       "      <td>10</td>\n",
       "      <td>15000</td>\n",
       "      <td>1103.328916</td>\n",
       "    </tr>\n",
       "    <tr>\n",
       "      <th>10</th>\n",
       "      <td>0.225066</td>\n",
       "      <td>0.909250</td>\n",
       "      <td>0.188287</td>\n",
       "      <td>0.927527</td>\n",
       "      <td>0.184218</td>\n",
       "      <td>0.932846</td>\n",
       "      <td>0.000366</td>\n",
       "      <td>11</td>\n",
       "      <td>16500</td>\n",
       "      <td>1214.626799</td>\n",
       "    </tr>\n",
       "    <tr>\n",
       "      <th>11</th>\n",
       "      <td>0.216231</td>\n",
       "      <td>0.910667</td>\n",
       "      <td>0.180714</td>\n",
       "      <td>0.926862</td>\n",
       "      <td>0.193061</td>\n",
       "      <td>0.927194</td>\n",
       "      <td>0.000287</td>\n",
       "      <td>12</td>\n",
       "      <td>18000</td>\n",
       "      <td>1327.175515</td>\n",
       "    </tr>\n",
       "    <tr>\n",
       "      <th>12</th>\n",
       "      <td>0.207916</td>\n",
       "      <td>0.917417</td>\n",
       "      <td>0.174853</td>\n",
       "      <td>0.929854</td>\n",
       "      <td>0.205479</td>\n",
       "      <td>0.920545</td>\n",
       "      <td>0.000215</td>\n",
       "      <td>13</td>\n",
       "      <td>19500</td>\n",
       "      <td>1439.476595</td>\n",
       "    </tr>\n",
       "    <tr>\n",
       "      <th>13</th>\n",
       "      <td>0.194511</td>\n",
       "      <td>0.921083</td>\n",
       "      <td>0.179155</td>\n",
       "      <td>0.929521</td>\n",
       "      <td>0.173827</td>\n",
       "      <td>0.933511</td>\n",
       "      <td>0.000150</td>\n",
       "      <td>14</td>\n",
       "      <td>21000</td>\n",
       "      <td>1551.908295</td>\n",
       "    </tr>\n",
       "    <tr>\n",
       "      <th>14</th>\n",
       "      <td>0.185735</td>\n",
       "      <td>0.927250</td>\n",
       "      <td>0.179265</td>\n",
       "      <td>0.929854</td>\n",
       "      <td>0.174517</td>\n",
       "      <td>0.934840</td>\n",
       "      <td>0.000096</td>\n",
       "      <td>15</td>\n",
       "      <td>22500</td>\n",
       "      <td>1665.131041</td>\n",
       "    </tr>\n",
       "  </tbody>\n",
       "</table>\n",
       "</div>"
      ],
      "text/plain": [
       "    main/loss  main/acc  validation/main/loss  validation/main/acc  \\\n",
       "0    0.565279  0.716583              0.526520             0.741024   \n",
       "1    0.440392  0.798417              0.371827             0.846077   \n",
       "2    0.396254  0.826750              0.284032             0.877660   \n",
       "3    0.370035  0.838417              0.269385             0.903590   \n",
       "4    0.337223  0.857083              0.265033             0.895612   \n",
       "5    0.317146  0.868500              0.243154             0.900598   \n",
       "6    0.298288  0.877167              0.218226             0.915559   \n",
       "7    0.276359  0.885833              0.226506             0.908577   \n",
       "8    0.257657  0.893750              0.196456             0.922872   \n",
       "9    0.239293  0.902250              0.197728             0.925532   \n",
       "10   0.225066  0.909250              0.188287             0.927527   \n",
       "11   0.216231  0.910667              0.180714             0.926862   \n",
       "12   0.207916  0.917417              0.174853             0.929854   \n",
       "13   0.194511  0.921083              0.179155             0.929521   \n",
       "14   0.185735  0.927250              0.179265             0.929854   \n",
       "\n",
       "    validation/main/ema_loss  validation/main/ema_acc        lr  epoch  \\\n",
       "0                   0.576380                 0.740027  0.000993      1   \n",
       "1                   0.759136                 0.409242  0.000972      2   \n",
       "2                   0.576368                 0.686835  0.000938      3   \n",
       "3                   0.295983                 0.871011  0.000892      4   \n",
       "4                   0.300898                 0.895612  0.000835      5   \n",
       "5                   0.375096                 0.838763  0.000768      6   \n",
       "6                   0.238841                 0.905918  0.000694      7   \n",
       "7                   0.285819                 0.871676  0.000614      8   \n",
       "8                   0.209874                 0.918218  0.000531      9   \n",
       "9                   0.207492                 0.917886  0.000448     10   \n",
       "10                  0.184218                 0.932846  0.000366     11   \n",
       "11                  0.193061                 0.927194  0.000287     12   \n",
       "12                  0.205479                 0.920545  0.000215     13   \n",
       "13                  0.173827                 0.933511  0.000150     14   \n",
       "14                  0.174517                 0.934840  0.000096     15   \n",
       "\n",
       "    iteration  elapsed_time  \n",
       "0        1500    114.157948  \n",
       "1        3000    222.150948  \n",
       "2        4500    330.501614  \n",
       "3        6000    439.686884  \n",
       "4        7500    549.781976  \n",
       "5        9000    659.766492  \n",
       "6       10500    769.807405  \n",
       "7       12000    880.522941  \n",
       "8       13500    991.473602  \n",
       "9       15000   1103.328916  \n",
       "10      16500   1214.626799  \n",
       "11      18000   1327.175515  \n",
       "12      19500   1439.476595  \n",
       "13      21000   1551.908295  \n",
       "14      22500   1665.131041  "
      ]
     },
     "execution_count": 33,
     "metadata": {},
     "output_type": "execute_result"
    }
   ],
   "source": [
    "torch.save(predictor.state_dict(), outdir / \"predictor_last.pt\")\n",
    "df = log_report.to_dataframe()\n",
    "df.to_csv(outdir / \"log.csv\", index=False)\n",
    "df"
   ]
  },
  {
   "cell_type": "markdown",
   "metadata": {
    "papermill": {
     "duration": 0.265518,
     "end_time": "2021-02-17T22:16:12.230515",
     "exception": false,
     "start_time": "2021-02-17T22:16:11.964997",
     "status": "completed"
    },
    "tags": []
   },
   "source": [
    "<a id=\"prediction\"></a>\n",
    "# Prediction on validation & test dataset"
   ]
  },
  {
   "cell_type": "code",
   "execution_count": 34,
   "metadata": {
    "execution": {
     "iopub.execute_input": "2021-02-17T22:16:12.775218Z",
     "iopub.status.busy": "2021-02-17T22:16:12.774299Z",
     "iopub.status.idle": "2021-02-17T22:16:33.832506Z",
     "shell.execute_reply": "2021-02-17T22:16:33.831083Z"
    },
    "papermill": {
     "duration": 21.336725,
     "end_time": "2021-02-17T22:16:33.832623",
     "exception": false,
     "start_time": "2021-02-17T22:16:12.495898",
     "status": "completed"
    },
    "tags": []
   },
   "outputs": [
    {
     "name": "stdout",
     "output_type": "stream",
     "text": [
      "Training done! Start prediction...\n"
     ]
    },
    {
     "name": "stderr",
     "output_type": "stream",
     "text": [
      " 36%|███▋      | 1088/3000 [00:00<00:00, 10874.07it/s]"
     ]
    },
    {
     "name": "stdout",
     "output_type": "stream",
     "text": [
      "Creating data...\n",
      "image shape: (256, 256, 3)\n"
     ]
    },
    {
     "name": "stderr",
     "output_type": "stream",
     "text": [
      "100%|██████████| 3000/3000 [00:00<00:00, 10873.97it/s]"
     ]
    },
    {
     "name": "stdout",
     "output_type": "stream",
     "text": [
      "Load from cache dataset_dicts_cache_test_debug0.pkl\n"
     ]
    },
    {
     "name": "stderr",
     "output_type": "stream",
     "text": [
      "\n"
     ]
    }
   ],
   "source": [
    "# --- Prediction ---\n",
    "print(\"Training done! Start prediction...\")\n",
    "# valid data\n",
    "valid_pred = classifier.predict_proba(valid_loader).cpu().numpy()\n",
    "valid_pred_df = pd.DataFrame({\n",
    "    \"image_id\": [dataset_dicts[i][\"image_id\"] for i in valid_inds],\n",
    "    \"class0\": valid_pred[:, 0],\n",
    "    \"class1\": valid_pred[:, 1]\n",
    "})\n",
    "valid_pred_df.to_csv(outdir/\"valid_pred.csv\", index=False)\n",
    "\n",
    "# test data\n",
    "test_meta = pd.read_csv(inputdir / \"vinbigdata-testmeta\" / \"test_meta.csv\")\n",
    "dataset_dicts_test = get_vinbigdata_dicts_test(imgdir, test_meta, debug=debug)\n",
    "test_dataset = VinbigdataTwoClassDataset(dataset_dicts_test, train=False)\n",
    "test_loader = DataLoader(\n",
    "    test_dataset,\n",
    "    batch_size=flags.valid_batchsize,\n",
    "    num_workers=flags.num_workers,\n",
    "    shuffle=False,\n",
    "    pin_memory=True,\n",
    ")\n",
    "test_pred = classifier.predict_proba(test_loader).cpu().numpy()\n",
    "test_pred_df = pd.DataFrame({\n",
    "    \"image_id\": [d[\"image_id\"] for d in dataset_dicts_test],\n",
    "    \"class0\": test_pred[:, 0],\n",
    "    \"class1\": test_pred[:, 1]\n",
    "})\n",
    "test_pred_df.to_csv(outdir/\"test_pred.csv\", index=False)"
   ]
  },
  {
   "cell_type": "code",
   "execution_count": 35,
   "metadata": {
    "execution": {
     "iopub.execute_input": "2021-02-17T22:16:34.390289Z",
     "iopub.status.busy": "2021-02-17T22:16:34.389266Z",
     "iopub.status.idle": "2021-02-17T22:16:34.394840Z",
     "shell.execute_reply": "2021-02-17T22:16:34.394394Z"
    },
    "papermill": {
     "duration": 0.289321,
     "end_time": "2021-02-17T22:16:34.394933",
     "exception": false,
     "start_time": "2021-02-17T22:16:34.105612",
     "status": "completed"
    },
    "tags": []
   },
   "outputs": [
    {
     "data": {
      "text/html": [
       "<div>\n",
       "<style scoped>\n",
       "    .dataframe tbody tr th:only-of-type {\n",
       "        vertical-align: middle;\n",
       "    }\n",
       "\n",
       "    .dataframe tbody tr th {\n",
       "        vertical-align: top;\n",
       "    }\n",
       "\n",
       "    .dataframe thead th {\n",
       "        text-align: right;\n",
       "    }\n",
       "</style>\n",
       "<table border=\"1\" class=\"dataframe\">\n",
       "  <thead>\n",
       "    <tr style=\"text-align: right;\">\n",
       "      <th></th>\n",
       "      <th>image_id</th>\n",
       "      <th>class0</th>\n",
       "      <th>class1</th>\n",
       "    </tr>\n",
       "  </thead>\n",
       "  <tbody>\n",
       "    <tr>\n",
       "      <th>0</th>\n",
       "      <td>8dec5497ecc246766acfba5a4be4e619</td>\n",
       "      <td>0.999987</td>\n",
       "      <td>0.000013</td>\n",
       "    </tr>\n",
       "    <tr>\n",
       "      <th>1</th>\n",
       "      <td>287422bed1d9d153387361889619abed</td>\n",
       "      <td>0.524394</td>\n",
       "      <td>0.475606</td>\n",
       "    </tr>\n",
       "    <tr>\n",
       "      <th>2</th>\n",
       "      <td>1d12b94b7acbeadef7d7700b50aa90d4</td>\n",
       "      <td>0.997622</td>\n",
       "      <td>0.002378</td>\n",
       "    </tr>\n",
       "    <tr>\n",
       "      <th>3</th>\n",
       "      <td>6b872791e23742f6c33a08fc24f77365</td>\n",
       "      <td>0.854495</td>\n",
       "      <td>0.145505</td>\n",
       "    </tr>\n",
       "    <tr>\n",
       "      <th>4</th>\n",
       "      <td>d0d2addff91ad7beb1d92126ff74d621</td>\n",
       "      <td>0.999689</td>\n",
       "      <td>0.000311</td>\n",
       "    </tr>\n",
       "    <tr>\n",
       "      <th>...</th>\n",
       "      <td>...</td>\n",
       "      <td>...</td>\n",
       "      <td>...</td>\n",
       "    </tr>\n",
       "    <tr>\n",
       "      <th>2995</th>\n",
       "      <td>78b44b96b121d6075d7ae27135278e03</td>\n",
       "      <td>0.999965</td>\n",
       "      <td>0.000035</td>\n",
       "    </tr>\n",
       "    <tr>\n",
       "      <th>2996</th>\n",
       "      <td>afee8ff90f29b8827d0eb78774d25324</td>\n",
       "      <td>0.999971</td>\n",
       "      <td>0.000029</td>\n",
       "    </tr>\n",
       "    <tr>\n",
       "      <th>2997</th>\n",
       "      <td>6e07fab2014be723250f7897ab6e3df2</td>\n",
       "      <td>0.987022</td>\n",
       "      <td>0.012978</td>\n",
       "    </tr>\n",
       "    <tr>\n",
       "      <th>2998</th>\n",
       "      <td>690bb572300ef08bbbb7ebf4196099cf</td>\n",
       "      <td>0.971368</td>\n",
       "      <td>0.028632</td>\n",
       "    </tr>\n",
       "    <tr>\n",
       "      <th>2999</th>\n",
       "      <td>0a08191a658edb1327e7282045ec71cf</td>\n",
       "      <td>0.880988</td>\n",
       "      <td>0.119012</td>\n",
       "    </tr>\n",
       "  </tbody>\n",
       "</table>\n",
       "<p>3000 rows × 3 columns</p>\n",
       "</div>"
      ],
      "text/plain": [
       "                              image_id    class0    class1\n",
       "0     8dec5497ecc246766acfba5a4be4e619  0.999987  0.000013\n",
       "1     287422bed1d9d153387361889619abed  0.524394  0.475606\n",
       "2     1d12b94b7acbeadef7d7700b50aa90d4  0.997622  0.002378\n",
       "3     6b872791e23742f6c33a08fc24f77365  0.854495  0.145505\n",
       "4     d0d2addff91ad7beb1d92126ff74d621  0.999689  0.000311\n",
       "...                                ...       ...       ...\n",
       "2995  78b44b96b121d6075d7ae27135278e03  0.999965  0.000035\n",
       "2996  afee8ff90f29b8827d0eb78774d25324  0.999971  0.000029\n",
       "2997  6e07fab2014be723250f7897ab6e3df2  0.987022  0.012978\n",
       "2998  690bb572300ef08bbbb7ebf4196099cf  0.971368  0.028632\n",
       "2999  0a08191a658edb1327e7282045ec71cf  0.880988  0.119012\n",
       "\n",
       "[3000 rows x 3 columns]"
      ]
     },
     "execution_count": 35,
     "metadata": {},
     "output_type": "execute_result"
    }
   ],
   "source": [
    "# --- Test dataset prediction result ---\n",
    "test_pred_df"
   ]
  },
  {
   "cell_type": "code",
   "execution_count": 36,
   "metadata": {
    "execution": {
     "iopub.execute_input": "2021-02-17T22:16:34.952618Z",
     "iopub.status.busy": "2021-02-17T22:16:34.951640Z",
     "iopub.status.idle": "2021-02-17T22:16:35.218516Z",
     "shell.execute_reply": "2021-02-17T22:16:35.218980Z"
    },
    "papermill": {
     "duration": 0.54479,
     "end_time": "2021-02-17T22:16:35.219098",
     "exception": false,
     "start_time": "2021-02-17T22:16:34.674308",
     "status": "completed"
    },
    "tags": []
   },
   "outputs": [
    {
     "data": {
      "text/plain": [
       "<matplotlib.legend.Legend at 0x7fc9b596f910>"
      ]
     },
     "execution_count": 36,
     "metadata": {},
     "output_type": "execute_result"
    },
    {
     "data": {
      "image/png": "[encoded data removed]",
      "text/plain": [
       "<Figure size 432x288 with 1 Axes>"
      ]
     },
     "metadata": {
      "needs_background": "light"
     },
     "output_type": "display_data"
    }
   ],
   "source": [
    "sns.distplot(valid_pred_df[\"class0\"].values, color='green', label='valid pred')\n",
    "sns.distplot(test_pred_df[\"class0\"].values, color='orange', label='test pred')\n",
    "plt.title(\"Prediction results histogram\")\n",
    "plt.xlim([0., 1.])\n",
    "plt.legend()"
   ]
  },
  {
   "cell_type": "markdown",
   "metadata": {
    "papermill": {
     "duration": 0.271773,
     "end_time": "2021-02-17T22:16:35.781569",
     "exception": false,
     "start_time": "2021-02-17T22:16:35.509796",
     "status": "completed"
    },
    "tags": []
   },
   "source": [
    "# Apply 2 class filter on detection prediction\n",
    "\n",
    "I will use detection prediction from the kernel:\n",
    " - [📸VinBigData detectron2 train](https://www.kaggle.com/corochann/vinbigdata-detectron2-train)\n",
    " - [📸VinBigData detectron2 prediction](https://www.kaggle.com/corochann/vinbigdata-detectron2-prediction)\n",
    "\n",
    "And 2class prediction is updated as dataset: [vinbigdata-2class-pred](https://www.kaggle.com/corochann/vinbigdata2classpred).\n",
    "\n",
    "As mentioned in [VinBigData 🌟2 Class Filter🌟](https://www.kaggle.com/awsaf49/vinbigdata-2-class-filter) by @awsaf49, applying 2-class filter improves LB score significantly. (Please upvote his kernel as well!)<br/>\n",
    "Also, it is mentioned that we can submit **14 prob 1 1 0 0** where the `prob` is the normal probability in the discussion [[Scoring bug] Improve your LB score by 0.053, just adding \"14 1 0 0 1 1\"](https://www.kaggle.com/c/vinbigdata-chest-xray-abnormalities-detection/discussion/211971)!\n",
    "\n",
    "Here, I will propose new post processing (similar to [this](https://www.kaggle.com/c/vinbigdata-chest-xray-abnormalities-detection/discussion/211971#1157809) by @pestipeti):\n",
    "\n",
    "Here `p` is the **normal probability**.\n",
    "\n",
    "1. `p < low_threshold`                   -> Do nothing, Keep det prediction.\n",
    "2. `low_threshold <= p < high_threshold` -> Just \"Add\" Normal prediction, **keep** detection prediction.\n",
    "3. `high_threshold <= p`                 -> Replace with Normal prediction with normal score 1.0, **remove** all detection predictoin.\n",
    "\n",
    "\n",
    "[Note] I also wrote another kernel to train 2-class model: [📸VinBigData 2-class classifier complete pipeline](https://www.kaggle.com/corochann/vinbigdata-2-class-classifier-complete-pipeline) to train these 2-class classifier model!"
   ]
  },
  {
   "cell_type": "code",
   "execution_count": 37,
   "metadata": {
    "execution": {
     "iopub.execute_input": "2021-02-17T22:16:36.336875Z",
     "iopub.status.busy": "2021-02-17T22:16:36.336278Z",
     "iopub.status.idle": "2021-02-17T22:16:36.359405Z",
     "shell.execute_reply": "2021-02-17T22:16:36.359811Z"
    },
    "papermill": {
     "duration": 0.303469,
     "end_time": "2021-02-17T22:16:36.359934",
     "exception": false,
     "start_time": "2021-02-17T22:16:36.056465",
     "status": "completed"
    },
    "tags": []
   },
   "outputs": [
    {
     "data": {
      "text/html": [
       "<div>\n",
       "<style scoped>\n",
       "    .dataframe tbody tr th:only-of-type {\n",
       "        vertical-align: middle;\n",
       "    }\n",
       "\n",
       "    .dataframe tbody tr th {\n",
       "        vertical-align: top;\n",
       "    }\n",
       "\n",
       "    .dataframe thead th {\n",
       "        text-align: right;\n",
       "    }\n",
       "</style>\n",
       "<table border=\"1\" class=\"dataframe\">\n",
       "  <thead>\n",
       "    <tr style=\"text-align: right;\">\n",
       "      <th></th>\n",
       "      <th>image_id</th>\n",
       "      <th>class0</th>\n",
       "      <th>class1</th>\n",
       "    </tr>\n",
       "  </thead>\n",
       "  <tbody>\n",
       "    <tr>\n",
       "      <th>0</th>\n",
       "      <td>8dec5497ecc246766acfba5a4be4e619</td>\n",
       "      <td>0.976988</td>\n",
       "      <td>0.023012</td>\n",
       "    </tr>\n",
       "    <tr>\n",
       "      <th>1</th>\n",
       "      <td>287422bed1d9d153387361889619abed</td>\n",
       "      <td>0.950402</td>\n",
       "      <td>0.049598</td>\n",
       "    </tr>\n",
       "    <tr>\n",
       "      <th>2</th>\n",
       "      <td>1d12b94b7acbeadef7d7700b50aa90d4</td>\n",
       "      <td>0.995952</td>\n",
       "      <td>0.004048</td>\n",
       "    </tr>\n",
       "    <tr>\n",
       "      <th>3</th>\n",
       "      <td>6b872791e23742f6c33a08fc24f77365</td>\n",
       "      <td>0.874948</td>\n",
       "      <td>0.125052</td>\n",
       "    </tr>\n",
       "    <tr>\n",
       "      <th>4</th>\n",
       "      <td>d0d2addff91ad7beb1d92126ff74d621</td>\n",
       "      <td>0.997519</td>\n",
       "      <td>0.002481</td>\n",
       "    </tr>\n",
       "    <tr>\n",
       "      <th>...</th>\n",
       "      <td>...</td>\n",
       "      <td>...</td>\n",
       "      <td>...</td>\n",
       "    </tr>\n",
       "    <tr>\n",
       "      <th>2995</th>\n",
       "      <td>78b44b96b121d6075d7ae27135278e03</td>\n",
       "      <td>0.991775</td>\n",
       "      <td>0.008225</td>\n",
       "    </tr>\n",
       "    <tr>\n",
       "      <th>2996</th>\n",
       "      <td>afee8ff90f29b8827d0eb78774d25324</td>\n",
       "      <td>0.998331</td>\n",
       "      <td>0.001669</td>\n",
       "    </tr>\n",
       "    <tr>\n",
       "      <th>2997</th>\n",
       "      <td>6e07fab2014be723250f7897ab6e3df2</td>\n",
       "      <td>0.990037</td>\n",
       "      <td>0.009963</td>\n",
       "    </tr>\n",
       "    <tr>\n",
       "      <th>2998</th>\n",
       "      <td>690bb572300ef08bbbb7ebf4196099cf</td>\n",
       "      <td>0.975643</td>\n",
       "      <td>0.024356</td>\n",
       "    </tr>\n",
       "    <tr>\n",
       "      <th>2999</th>\n",
       "      <td>0a08191a658edb1327e7282045ec71cf</td>\n",
       "      <td>0.993029</td>\n",
       "      <td>0.006971</td>\n",
       "    </tr>\n",
       "  </tbody>\n",
       "</table>\n",
       "<p>3000 rows × 3 columns</p>\n",
       "</div>"
      ],
      "text/plain": [
       "                              image_id    class0    class1\n",
       "0     8dec5497ecc246766acfba5a4be4e619  0.976988  0.023012\n",
       "1     287422bed1d9d153387361889619abed  0.950402  0.049598\n",
       "2     1d12b94b7acbeadef7d7700b50aa90d4  0.995952  0.004048\n",
       "3     6b872791e23742f6c33a08fc24f77365  0.874948  0.125052\n",
       "4     d0d2addff91ad7beb1d92126ff74d621  0.997519  0.002481\n",
       "...                                ...       ...       ...\n",
       "2995  78b44b96b121d6075d7ae27135278e03  0.991775  0.008225\n",
       "2996  afee8ff90f29b8827d0eb78774d25324  0.998331  0.001669\n",
       "2997  6e07fab2014be723250f7897ab6e3df2  0.990037  0.009963\n",
       "2998  690bb572300ef08bbbb7ebf4196099cf  0.975643  0.024356\n",
       "2999  0a08191a658edb1327e7282045ec71cf  0.993029  0.006971\n",
       "\n",
       "[3000 rows x 3 columns]"
      ]
     },
     "execution_count": 37,
     "metadata": {},
     "output_type": "execute_result"
    }
   ],
   "source": [
    "# pred_2class = pd.read_csv(inputdir/\"vinbigdata-2class-prediction/2-cls test pred.csv\")  # LB 0.230\n",
    "# low_threshold = 0.0\n",
    "# high_threshold = 0.95\n",
    "\n",
    "pred_2class = pd.read_csv(inputdir/\"vinbigdata2classpred/test_pred.csv\")\n",
    "low_threshold = 0.0\n",
    "high_threshold = 0.976\n",
    "pred_2class"
   ]
  },
  {
   "cell_type": "code",
   "execution_count": 38,
   "metadata": {
    "_kg_hide-input": true,
    "execution": {
     "iopub.execute_input": "2021-02-17T22:16:36.920544Z",
     "iopub.status.busy": "2021-02-17T22:16:36.919921Z",
     "iopub.status.idle": "2021-02-17T22:16:38.683514Z",
     "shell.execute_reply": "2021-02-17T22:16:38.683047Z"
    },
    "papermill": {
     "duration": 2.051364,
     "end_time": "2021-02-17T22:16:38.683617",
     "exception": false,
     "start_time": "2021-02-17T22:16:36.632253",
     "status": "completed"
    },
    "tags": []
   },
   "outputs": [
    {
     "name": "stdout",
     "output_type": "stream",
     "text": [
      "n_normal: 0 -> 1713 with threshold 0.0 & 0.976\n",
      "Keep 0 Add 1287 Replace 1713\n",
      "Saved to results/tmp_debug/submission.csv\n"
     ]
    }
   ],
   "source": [
    "NORMAL = \"14 1 0 0 1 1\"\n",
    "\n",
    "pred_det_df = pd.read_csv(inputdir/\"vinbigdata-detectron2-prediction/results/20210125_all_alb_aug_512_cos/submission.csv\")  # You can load from another submission.csv here too.\n",
    "n_normal_before = len(pred_det_df.query(\"PredictionString == @NORMAL\"))\n",
    "merged_df = pd.merge(pred_det_df, pred_2class, on=\"image_id\", how=\"left\")\n",
    "\n",
    "# 1. p < low_threshold                   -> \"Keep\": Do nothing, Keep det prediction.\n",
    "# 2. low_threshold <= p < high_threshold -> \"Add\": Just \"Add\" Normal prediction\n",
    "# 3. high_threshold <= p                 -> \"Replace\": Replace with Normal prediction\n",
    "\n",
    "if \"target\" in merged_df.columns:\n",
    "    merged_df[\"class0\"] = 1 - merged_df[\"target\"]\n",
    "\n",
    "c0, c1, c2 = 0, 0, 0\n",
    "for i in range(len(merged_df)):\n",
    "    p0 = merged_df.loc[i, \"class0\"]\n",
    "    if p0 < low_threshold:\n",
    "        # Keep, do nothing.\n",
    "        c0 += 1\n",
    "    elif low_threshold <= p0 and p0 < high_threshold:\n",
    "        # Add, keep \"det\" preds and add normal pred.\n",
    "        merged_df.loc[i, \"PredictionString\"] += f\" 14 {p0} 0 0 1 1\"\n",
    "        c1 += 1\n",
    "    else:\n",
    "        # Replace, remove all \"det\" preds.\n",
    "        merged_df.loc[i, \"PredictionString\"] = NORMAL\n",
    "        c2 += 1\n",
    "\n",
    "n_normal_after = len(merged_df.query(\"PredictionString == @NORMAL\"))\n",
    "print(\n",
    "    f\"n_normal: {n_normal_before} -> {n_normal_after} with threshold {low_threshold} & {high_threshold}\"\n",
    ")\n",
    "print(f\"Keep {c0} Add {c1} Replace {c2}\")\n",
    "submission_filepath = str(outdir / \"submission.csv\")\n",
    "submission_df = merged_df[[\"image_id\", \"PredictionString\"]]\n",
    "submission_df.to_csv(submission_filepath, index=False)\n",
    "print(f\"Saved to {submission_filepath}\")"
   ]
  },
  {
   "cell_type": "markdown",
   "metadata": {
    "papermill": {
     "duration": 0.330672,
     "end_time": "2021-02-17T22:16:39.288624",
     "exception": false,
     "start_time": "2021-02-17T22:16:38.957952",
     "status": "completed"
    },
    "tags": []
   },
   "source": [
    "In my experiment:\n",
    " - The baseline submission: score 0.141\n",
    " - Just replace by threshold ([version3](https://www.kaggle.com/corochann/vinbigdata-detectron2-prediction?scriptVersionId=52412540) ): score 0.206\n",
    " - This post process (combine replace & add): **0.221**\n",
    "\n",
    "So the score improved by about **0.8, which is significant**!\n",
    "\n",
    "In more detail, I tried to change several `low_threshold` value and lower `low_threshold` achieved better results. So it may be okay to set `low_threshold=0.0` which means **always add \"No finding\" prediction with the predicted probability.**<br/>\n",
    "I also noticed that setting `high_threshold` value less than 1 is important, which means we have a benefit to **remove abnormality predictions** for the images which is highly likely to be normal.<br/>\n",
    "This may be because my [training kernel](https://www.kaggle.com/corochann/vinbigdata-detectron2-train) currently only uses abnormal image during training and model tend to produce more abnormal boxes. I'm now thinking that it's better to include normal images for training to learn where there is **no** abnormality.<br/>\n",
    "Also, I think it's nice to try **including \"No finding\" class during detection training** (by adding virtual \"No finding\" boxes, or by adding global classifier together with the detection)."
   ]
  },
  {
   "cell_type": "markdown",
   "metadata": {
    "papermill": {
     "duration": 0.304096,
     "end_time": "2021-02-17T22:16:40.047354",
     "exception": false,
     "start_time": "2021-02-17T22:16:39.743258",
     "status": "completed"
    },
    "tags": []
   },
   "source": [
    "That's all!\n",
    "\n",
    "<h3 style=\"color:red\">If this kernel helps you, please upvote to keep me motivated 😁<br>Thanks!</h3>"
   ]
  },
  {
   "cell_type": "markdown",
   "metadata": {
    "papermill": {
     "duration": 0.269808,
     "end_time": "2021-02-17T22:16:40.595416",
     "exception": false,
     "start_time": "2021-02-17T22:16:40.325608",
     "status": "completed"
    },
    "tags": []
   },
   "source": [
    "<a id=\"nextstep\"></a>\n",
    "# Next step\n",
    "\n",
    "I explained EDA - Training - Prediction pipeline for 2-class image classification in this kernel.<br/>\n",
    "You can try changing training configurations by just changing `Flags` (`flags_dict`) configuration.\n",
    "\n",
    "For example, you can change these paramters:\n",
    "\n",
    " - **Data**\n",
    "   - `imgdir_name`: You can use different preprocessed image introduced in [Multiple preprocessed datasets: 256/512/1024px, PNG and JPG, modified and original ratio](https://www.kaggle.com/c/vinbigdata-chest-xray-abnormalities-detection/discussion/207955) by @xhlulu.\n",
    " - **Model**\n",
    "   - `model_name`: You can try various kinds of models `timm` library support, by just changing model_name.\n",
    " - **Training**\n",
    "   - `epoch`, `batch_size`, `scheduler_type` etc: Try changing these hyperparamters, to see the difference!\n",
    "   - Augmentation: Please modify `Transform` class to add your augmentation, it's easy to support more augmentations with `albumentations` library.\n",
    "\n",
    "\n",
    "My basic strategy is as follows:\n",
    " - Check training loss/training accuracy: If it is almost same with validation loss/accuracy and it is not accurate enough, model's representation power may be not enough, or data augmentation is too strong. You can try more deeper models, decrease data augmentation or using more rich data (high-resolution image).\n",
    " - Check training loss/validation loss difference: If validation loss is very high compared to training loss, it is a sign of overfitting. Try using smaller models, increase data augmentation or apply regularization (dropout etc)."
   ]
  },
  {
   "attachments": {
    "image.png": {
     "image/png": "[encoded data removed]"
    }
   },
   "cell_type": "markdown",
   "metadata": {
    "papermill": {
     "duration": 0.270941,
     "end_time": "2021-02-17T22:16:41.140190",
     "exception": false,
     "start_time": "2021-02-17T22:16:40.869249",
     "status": "completed"
    },
    "tags": []
   },
   "source": [
    "## Using other datasets?\n",
    "\n",
    "There are several other X-ray images in this research field.<br/>\n",
    "The paper of this competition dataset [\"VinDr-CXR: An open dataset of chest X-rays with radiologist's annotations”.](https://arxiv.org/pdf/2012.15029.pdf)\n",
    "summarizes the existing public datasets.\n",
    "![image.png](attachment:image.png)\n",
    "\n",
    "\n",
    "[CheXpert](https://stanfordmlgroup.github.io/competitions/chexpert/) is one of the biggest dataset in this area. <br/>\n",
    "Even if local label (for detection) is not available, it helps to create more accurate model by combining to use this dataset.<br/>\n",
    "You can register your name and E-mail address to Download this Dataset!"
   ]
  },
  {
   "cell_type": "markdown",
   "metadata": {
    "papermill": {
     "duration": 0.272331,
     "end_time": "2021-02-17T22:16:41.684507",
     "exception": false,
     "start_time": "2021-02-17T22:16:41.412176",
     "status": "completed"
    },
    "tags": []
   },
   "source": [
    "# Next to read\n",
    "\n",
    "[📸VinBigData detectron2 train](https://www.kaggle.com/corochann/vinbigdata-detectron2-train) kernel explains how to run object detection training, using `detectron2` library.\n",
    "\n",
    "[📸VinBigData detectron2 prediction](https://www.kaggle.com/corochann/vinbigdata-detectron2-prediction) kernel explains how to use trained model for the prediction and submisssion for this competition."
   ]
  },
  {
   "cell_type": "code",
   "execution_count": null,
   "metadata": {
    "papermill": {
     "duration": 0.27057,
     "end_time": "2021-02-17T22:16:42.226166",
     "exception": false,
     "start_time": "2021-02-17T22:16:41.955596",
     "status": "completed"
    },
    "tags": []
   },
   "outputs": [],
   "source": []
  }
 ],
 "metadata": {
  "kernelspec": {
   "display_name": "Python 3",
   "language": "python",
   "name": "python3"
  },
  "language_info": {
   "codemirror_mode": {
    "name": "ipython",
    "version": 3
   },
   "file_extension": ".py",
   "mimetype": "text/x-python",
   "name": "python",
   "nbconvert_exporter": "python",
   "pygments_lexer": "ipython3",
   "version": "3.7.6"
  },
  "papermill": {
   "duration": 1850.8083,
   "end_time": "2021-02-17T22:16:43.977045",
   "environment_variables": {},
   "exception": null,
   "input_path": "__notebook__.ipynb",
   "output_path": "__notebook__.ipynb",
   "parameters": {},
   "start_time": "2021-02-17T21:45:53.168745",
   "version": "2.1.0"
  },
  "widgets": {
   "application/vnd.jupyter.widget-state+json": {
    "state": {
     "20f3e89bf2414618a9e672ce691d0536": {
      "model_module": "@jupyter-widgets/controls",
      "model_module_version": "1.5.0",
      "model_name": "DescriptionStyleModel",
      "state": {
       "_model_module": "@jupyter-widgets/controls",
       "_model_module_version": "1.5.0",
       "_model_name": "DescriptionStyleModel",
       "_view_count": null,
       "_view_module": "@jupyter-widgets/base",
       "_view_module_version": "1.2.0",
       "_view_name": "StyleView",
       "description_width": ""
      }
     },
     "24946589a6b04003970fb2771e7ebd06": {
      "model_module": "@jupyter-widgets/controls",
      "model_module_version": "1.5.0",
      "model_name": "HTMLModel",
      "state": {
       "_dom_classes": [],
       "_model_module": "@jupyter-widgets/controls",
       "_model_module_version": "1.5.0",
       "_model_name": "HTMLModel",
       "_view_count": null,
       "_view_module": "@jupyter-widgets/controls",
       "_view_module_version": "1.5.0",
       "_view_name": "HTMLView",
       "description": "",
       "description_tooltip": null,
       "layout": "IPY_MODEL_d752c5093ab441fdb41a198d5d2cfbc9",
       "placeholder": "​",
       "style": "IPY_MODEL_512105904da448d4bdf9d74ca2ea8c63",
       "value": " 0.00%"
      }
     },
     "2c22f486e8114148a1d0abbe11fc4a7d": {
      "model_module": "@jupyter-widgets/controls",
      "model_module_version": "1.5.0",
      "model_name": "DescriptionStyleModel",
      "state": {
       "_model_module": "@jupyter-widgets/controls",
       "_model_module_version": "1.5.0",
       "_model_name": "DescriptionStyleModel",
       "_view_count": null,
       "_view_module": "@jupyter-widgets/base",
       "_view_module_version": "1.2.0",
       "_view_name": "StyleView",
       "description_width": ""
      }
     },
     "2e3a8ff32212481a8fe00235c3ce057a": {
      "model_module": "@jupyter-widgets/base",
      "model_module_version": "1.2.0",
      "model_name": "LayoutModel",
      "state": {
       "_model_module": "@jupyter-widgets/base",
       "_model_module_version": "1.2.0",
       "_model_name": "LayoutModel",
       "_view_count": null,
       "_view_module": "@jupyter-widgets/base",
       "_view_module_version": "1.2.0",
       "_view_name": "LayoutView",
       "align_content": null,
       "align_items": null,
       "align_self": null,
       "border": null,
       "bottom": null,
       "display": null,
       "flex": null,
       "flex_flow": null,
       "grid_area": null,
       "grid_auto_columns": null,
       "grid_auto_flow": null,
       "grid_auto_rows": null,
       "grid_column": null,
       "grid_gap": null,
       "grid_row": null,
       "grid_template_areas": null,
       "grid_template_columns": null,
       "grid_template_rows": null,
       "height": null,
       "justify_content": null,
       "justify_items": null,
       "left": null,
       "margin": null,
       "max_height": null,
       "max_width": null,
       "min_height": null,
       "min_width": null,
       "object_fit": null,
       "object_position": null,
       "order": null,
       "overflow": null,
       "overflow_x": null,
       "overflow_y": null,
       "padding": null,
       "right": null,
       "top": null,
       "visibility": null,
       "width": null
      }
     },
     "3e8052c6a59b43dc8e817d6d3eb9887b": {
      "model_module": "@jupyter-widgets/controls",
      "model_module_version": "1.5.0",
      "model_name": "FloatProgressModel",
      "state": {
       "_dom_classes": [],
       "_model_module": "@jupyter-widgets/controls",
       "_model_module_version": "1.5.0",
       "_model_name": "FloatProgressModel",
       "_view_count": null,
       "_view_module": "@jupyter-widgets/controls",
       "_view_module_version": "1.5.0",
       "_view_name": "ProgressView",
       "bar_style": "success",
       "description": "this epoch",
       "description_tooltip": null,
       "layout": "IPY_MODEL_b3c2027d20ee40c7b3a7300f58a2b961",
       "max": 1.0,
       "min": 0.0,
       "orientation": "horizontal",
       "style": "IPY_MODEL_55ac66cad26c409d907e543bf9aeafcf",
       "value": 0.0
      }
     },
     "512105904da448d4bdf9d74ca2ea8c63": {
      "model_module": "@jupyter-widgets/controls",
      "model_module_version": "1.5.0",
      "model_name": "DescriptionStyleModel",
      "state": {
       "_model_module": "@jupyter-widgets/controls",
       "_model_module_version": "1.5.0",
       "_model_name": "DescriptionStyleModel",
       "_view_count": null,
       "_view_module": "@jupyter-widgets/base",
       "_view_module_version": "1.2.0",
       "_view_name": "StyleView",
       "description_width": ""
      }
     },
     "55ac66cad26c409d907e543bf9aeafcf": {
      "model_module": "@jupyter-widgets/controls",
      "model_module_version": "1.5.0",
      "model_name": "ProgressStyleModel",
      "state": {
       "_model_module": "@jupyter-widgets/controls",
       "_model_module_version": "1.5.0",
       "_model_name": "ProgressStyleModel",
       "_view_count": null,
       "_view_module": "@jupyter-widgets/base",
       "_view_module_version": "1.2.0",
       "_view_name": "StyleView",
       "bar_color": null,
       "description_width": ""
      }
     },
     "70755e57dd8c4fd49f23a7364af674d9": {
      "model_module": "@jupyter-widgets/controls",
      "model_module_version": "1.5.0",
      "model_name": "FloatProgressModel",
      "state": {
       "_dom_classes": [],
       "_model_module": "@jupyter-widgets/controls",
       "_model_module_version": "1.5.0",
       "_model_name": "FloatProgressModel",
       "_view_count": null,
       "_view_module": "@jupyter-widgets/controls",
       "_view_module_version": "1.5.0",
       "_view_name": "ProgressView",
       "bar_style": "success",
       "description": "total",
       "description_tooltip": null,
       "layout": "IPY_MODEL_85130668223c4de29765526cc5e42e50",
       "max": 1.0,
       "min": 0.0,
       "orientation": "horizontal",
       "style": "IPY_MODEL_8c3a8f450e7142699cdab692e7d9f2fe",
       "value": 1.0
      }
     },
     "85130668223c4de29765526cc5e42e50": {
      "model_module": "@jupyter-widgets/base",
      "model_module_version": "1.2.0",
      "model_name": "LayoutModel",
      "state": {
       "_model_module": "@jupyter-widgets/base",
       "_model_module_version": "1.2.0",
       "_model_name": "LayoutModel",
       "_view_count": null,
       "_view_module": "@jupyter-widgets/base",
       "_view_module_version": "1.2.0",
       "_view_name": "LayoutView",
       "align_content": null,
       "align_items": null,
       "align_self": null,
       "border": null,
       "bottom": null,
       "display": null,
       "flex": null,
       "flex_flow": null,
       "grid_area": null,
       "grid_auto_columns": null,
       "grid_auto_flow": null,
       "grid_auto_rows": null,
       "grid_column": null,
       "grid_gap": null,
       "grid_row": null,
       "grid_template_areas": null,
       "grid_template_columns": null,
       "grid_template_rows": null,
       "height": null,
       "justify_content": null,
       "justify_items": null,
       "left": null,
       "margin": null,
       "max_height": null,
       "max_width": null,
       "min_height": null,
       "min_width": null,
       "object_fit": null,
       "object_position": null,
       "order": null,
       "overflow": null,
       "overflow_x": null,
       "overflow_y": null,
       "padding": null,
       "right": null,
       "top": null,
       "visibility": null,
       "width": null
      }
     },
     "8c3a8f450e7142699cdab692e7d9f2fe": {
      "model_module": "@jupyter-widgets/controls",
      "model_module_version": "1.5.0",
      "model_name": "ProgressStyleModel",
      "state": {
       "_model_module": "@jupyter-widgets/controls",
       "_model_module_version": "1.5.0",
       "_model_name": "ProgressStyleModel",
       "_view_count": null,
       "_view_module": "@jupyter-widgets/base",
       "_view_module_version": "1.2.0",
       "_view_name": "StyleView",
       "bar_color": null,
       "description_width": ""
      }
     },
     "9eaba77a7d274a0cbcd1ce4717d6ff91": {
      "model_module": "@jupyter-widgets/base",
      "model_module_version": "1.2.0",
      "model_name": "LayoutModel",
      "state": {
       "_model_module": "@jupyter-widgets/base",
       "_model_module_version": "1.2.0",
       "_model_name": "LayoutModel",
       "_view_count": null,
       "_view_module": "@jupyter-widgets/base",
       "_view_module_version": "1.2.0",
       "_view_name": "LayoutView",
       "align_content": null,
       "align_items": null,
       "align_self": null,
       "border": null,
       "bottom": null,
       "display": null,
       "flex": null,
       "flex_flow": null,
       "grid_area": null,
       "grid_auto_columns": null,
       "grid_auto_flow": null,
       "grid_auto_rows": null,
       "grid_column": null,
       "grid_gap": null,
       "grid_row": null,
       "grid_template_areas": null,
       "grid_template_columns": null,
       "grid_template_rows": null,
       "height": null,
       "justify_content": null,
       "justify_items": null,
       "left": null,
       "margin": null,
       "max_height": null,
       "max_width": null,
       "min_height": null,
       "min_width": null,
       "object_fit": null,
       "object_position": null,
       "order": null,
       "overflow": null,
       "overflow_x": null,
       "overflow_y": null,
       "padding": null,
       "right": null,
       "top": null,
       "visibility": null,
       "width": null
      }
     },
     "a425b3caa8974932b3a3c79895915e2d": {
      "model_module": "@jupyter-widgets/base",
      "model_module_version": "1.2.0",
      "model_name": "LayoutModel",
      "state": {
       "_model_module": "@jupyter-widgets/base",
       "_model_module_version": "1.2.0",
       "_model_name": "LayoutModel",
       "_view_count": null,
       "_view_module": "@jupyter-widgets/base",
       "_view_module_version": "1.2.0",
       "_view_name": "LayoutView",
       "align_content": null,
       "align_items": null,
       "align_self": null,
       "border": null,
       "bottom": null,
       "display": null,
       "flex": null,
       "flex_flow": null,
       "grid_area": null,
       "grid_auto_columns": null,
       "grid_auto_flow": null,
       "grid_auto_rows": null,
       "grid_column": null,
       "grid_gap": null,
       "grid_row": null,
       "grid_template_areas": null,
       "grid_template_columns": null,
       "grid_template_rows": null,
       "height": null,
       "justify_content": null,
       "justify_items": null,
       "left": null,
       "margin": null,
       "max_height": null,
       "max_width": null,
       "min_height": null,
       "min_width": null,
       "object_fit": null,
       "object_position": null,
       "order": null,
       "overflow": null,
       "overflow_x": null,
       "overflow_y": null,
       "padding": null,
       "right": null,
       "top": null,
       "visibility": null,
       "width": null
      }
     },
     "a7a5121b4bf24cb09636d7577478c1aa": {
      "model_module": "@jupyter-widgets/controls",
      "model_module_version": "1.5.0",
      "model_name": "HBoxModel",
      "state": {
       "_dom_classes": [],
       "_model_module": "@jupyter-widgets/controls",
       "_model_module_version": "1.5.0",
       "_model_name": "HBoxModel",
       "_view_count": null,
       "_view_module": "@jupyter-widgets/controls",
       "_view_module_version": "1.5.0",
       "_view_name": "HBoxView",
       "box_style": "",
       "children": [
        "IPY_MODEL_70755e57dd8c4fd49f23a7364af674d9",
        "IPY_MODEL_af6893ab0ea54cb18d573455c6015750"
       ],
       "layout": "IPY_MODEL_2e3a8ff32212481a8fe00235c3ce057a"
      }
     },
     "af6893ab0ea54cb18d573455c6015750": {
      "model_module": "@jupyter-widgets/controls",
      "model_module_version": "1.5.0",
      "model_name": "HTMLModel",
      "state": {
       "_dom_classes": [],
       "_model_module": "@jupyter-widgets/controls",
       "_model_module_version": "1.5.0",
       "_model_name": "HTMLModel",
       "_view_count": null,
       "_view_module": "@jupyter-widgets/controls",
       "_view_module_version": "1.5.0",
       "_view_name": "HTMLView",
       "description": "",
       "description_tooltip": null,
       "layout": "IPY_MODEL_a425b3caa8974932b3a3c79895915e2d",
       "placeholder": "​",
       "style": "IPY_MODEL_2c22f486e8114148a1d0abbe11fc4a7d",
       "value": "100.00%"
      }
     },
     "afcc42d6e9c44758be576235fee4151a": {
      "model_module": "@jupyter-widgets/base",
      "model_module_version": "1.2.0",
      "model_name": "LayoutModel",
      "state": {
       "_model_module": "@jupyter-widgets/base",
       "_model_module_version": "1.2.0",
       "_model_name": "LayoutModel",
       "_view_count": null,
       "_view_module": "@jupyter-widgets/base",
       "_view_module_version": "1.2.0",
       "_view_name": "LayoutView",
       "align_content": null,
       "align_items": null,
       "align_self": null,
       "border": null,
       "bottom": null,
       "display": null,
       "flex": null,
       "flex_flow": null,
       "grid_area": null,
       "grid_auto_columns": null,
       "grid_auto_flow": null,
       "grid_auto_rows": null,
       "grid_column": null,
       "grid_gap": null,
       "grid_row": null,
       "grid_template_areas": null,
       "grid_template_columns": null,
       "grid_template_rows": null,
       "height": null,
       "justify_content": null,
       "justify_items": null,
       "left": null,
       "margin": null,
       "max_height": null,
       "max_width": null,
       "min_height": null,
       "min_width": null,
       "object_fit": null,
       "object_position": null,
       "order": null,
       "overflow": null,
       "overflow_x": null,
       "overflow_y": null,
       "padding": null,
       "right": null,
       "top": null,
       "visibility": null,
       "width": null
      }
     },
     "b3c2027d20ee40c7b3a7300f58a2b961": {
      "model_module": "@jupyter-widgets/base",
      "model_module_version": "1.2.0",
      "model_name": "LayoutModel",
      "state": {
       "_model_module": "@jupyter-widgets/base",
       "_model_module_version": "1.2.0",
       "_model_name": "LayoutModel",
       "_view_count": null,
       "_view_module": "@jupyter-widgets/base",
       "_view_module_version": "1.2.0",
       "_view_name": "LayoutView",
       "align_content": null,
       "align_items": null,
       "align_self": null,
       "border": null,
       "bottom": null,
       "display": null,
       "flex": null,
       "flex_flow": null,
       "grid_area": null,
       "grid_auto_columns": null,
       "grid_auto_flow": null,
       "grid_auto_rows": null,
       "grid_column": null,
       "grid_gap": null,
       "grid_row": null,
       "grid_template_areas": null,
       "grid_template_columns": null,
       "grid_template_rows": null,
       "height": null,
       "justify_content": null,
       "justify_items": null,
       "left": null,
       "margin": null,
       "max_height": null,
       "max_width": null,
       "min_height": null,
       "min_width": null,
       "object_fit": null,
       "object_position": null,
       "order": null,
       "overflow": null,
       "overflow_x": null,
       "overflow_y": null,
       "padding": null,
       "right": null,
       "top": null,
       "visibility": null,
       "width": null
      }
     },
     "b42a0f67514d46fba50d8c1025017f68": {
      "model_module": "@jupyter-widgets/controls",
      "model_module_version": "1.5.0",
      "model_name": "DescriptionStyleModel",
      "state": {
       "_model_module": "@jupyter-widgets/controls",
       "_model_module_version": "1.5.0",
       "_model_name": "DescriptionStyleModel",
       "_view_count": null,
       "_view_module": "@jupyter-widgets/base",
       "_view_module_version": "1.2.0",
       "_view_name": "StyleView",
       "description_width": ""
      }
     },
     "b5e05d8910b54bcfa23ab79267460e5e": {
      "model_module": "@jupyter-widgets/controls",
      "model_module_version": "1.5.0",
      "model_name": "HTMLModel",
      "state": {
       "_dom_classes": [],
       "_model_module": "@jupyter-widgets/controls",
       "_model_module_version": "1.5.0",
       "_model_name": "HTMLModel",
       "_view_count": null,
       "_view_module": "@jupyter-widgets/controls",
       "_view_module_version": "1.5.0",
       "_view_name": "HTMLView",
       "description": "",
       "description_tooltip": null,
       "layout": "IPY_MODEL_fa9e0d071c2a4b3db71ae662db8ce8f4",
       "placeholder": "​",
       "style": "IPY_MODEL_20f3e89bf2414618a9e672ce691d0536",
       "value": "     22500 iter, 15 epoch / 15 epochs<br />    13.326 iters/sec. Estimated time to finish: 0:00:00."
      }
     },
     "b9e953b087274f109d5276f819dee1d0": {
      "model_module": "@jupyter-widgets/controls",
      "model_module_version": "1.5.0",
      "model_name": "VBoxModel",
      "state": {
       "_dom_classes": [],
       "_model_module": "@jupyter-widgets/controls",
       "_model_module_version": "1.5.0",
       "_model_name": "VBoxModel",
       "_view_count": null,
       "_view_module": "@jupyter-widgets/controls",
       "_view_module_version": "1.5.0",
       "_view_name": "VBoxView",
       "box_style": "",
       "children": [
        "IPY_MODEL_a7a5121b4bf24cb09636d7577478c1aa",
        "IPY_MODEL_ffcd9196c58c424aa7f10873476a8bbb",
        "IPY_MODEL_b5e05d8910b54bcfa23ab79267460e5e"
       ],
       "layout": "IPY_MODEL_fe0b65ed9a174c338fe59c48a6aeeaae"
      }
     },
     "d752c5093ab441fdb41a198d5d2cfbc9": {
      "model_module": "@jupyter-widgets/base",
      "model_module_version": "1.2.0",
      "model_name": "LayoutModel",
      "state": {
       "_model_module": "@jupyter-widgets/base",
       "_model_module_version": "1.2.0",
       "_model_name": "LayoutModel",
       "_view_count": null,
       "_view_module": "@jupyter-widgets/base",
       "_view_module_version": "1.2.0",
       "_view_name": "LayoutView",
       "align_content": null,
       "align_items": null,
       "align_self": null,
       "border": null,
       "bottom": null,
       "display": null,
       "flex": null,
       "flex_flow": null,
       "grid_area": null,
       "grid_auto_columns": null,
       "grid_auto_flow": null,
       "grid_auto_rows": null,
       "grid_column": null,
       "grid_gap": null,
       "grid_row": null,
       "grid_template_areas": null,
       "grid_template_columns": null,
       "grid_template_rows": null,
       "height": null,
       "justify_content": null,
       "justify_items": null,
       "left": null,
       "margin": null,
       "max_height": null,
       "max_width": null,
       "min_height": null,
       "min_width": null,
       "object_fit": null,
       "object_position": null,
       "order": null,
       "overflow": null,
       "overflow_x": null,
       "overflow_y": null,
       "padding": null,
       "right": null,
       "top": null,
       "visibility": null,
       "width": null
      }
     },
     "f8e646b1cd0b49d4b8532ebb585ceccc": {
      "model_module": "@jupyter-widgets/controls",
      "model_module_version": "1.5.0",
      "model_name": "HTMLModel",
      "state": {
       "_dom_classes": [],
       "_model_module": "@jupyter-widgets/controls",
       "_model_module_version": "1.5.0",
       "_model_name": "HTMLModel",
       "_view_count": null,
       "_view_module": "@jupyter-widgets/controls",
       "_view_module_version": "1.5.0",
       "_view_name": "HTMLView",
       "description": "",
       "description_tooltip": null,
       "layout": "IPY_MODEL_9eaba77a7d274a0cbcd1ce4717d6ff91",
       "placeholder": "​",
       "style": "IPY_MODEL_b42a0f67514d46fba50d8c1025017f68",
       "value": "<table border=\"1\" class=\"dataframe\">\n  <thead>\n    <tr style=\"text-align: right;\">\n      <th>epoch</th>\n      <th>main/loss</th>\n      <th>main/acc</th>\n      <th>validation/main/loss</th>\n      <th>validation/main/acc</th>\n      <th>validation/main/ema_loss</th>\n      <th>validation/main/ema_acc</th>\n      <th>lr</th>\n      <th>elapsed_time</th>\n    </tr>\n  </thead>\n  <tbody>\n    <tr>\n      <td>1</td>\n      <td>0.565279</td>\n      <td>0.716583</td>\n      <td>0.526520</td>\n      <td>0.741024</td>\n      <td>0.576380</td>\n      <td>0.740027</td>\n      <td>0.000993</td>\n      <td>114.157948</td>\n    </tr>\n    <tr>\n      <td>2</td>\n      <td>0.440392</td>\n      <td>0.798417</td>\n      <td>0.371827</td>\n      <td>0.846077</td>\n      <td>0.759136</td>\n      <td>0.409242</td>\n      <td>0.000972</td>\n      <td>222.150948</td>\n    </tr>\n    <tr>\n      <td>3</td>\n      <td>0.396254</td>\n      <td>0.826750</td>\n      <td>0.284032</td>\n      <td>0.877660</td>\n      <td>0.576368</td>\n      <td>0.686835</td>\n      <td>0.000938</td>\n      <td>330.501614</td>\n    </tr>\n    <tr>\n      <td>4</td>\n      <td>0.370035</td>\n      <td>0.838417</td>\n      <td>0.269385</td>\n      <td>0.903590</td>\n      <td>0.295983</td>\n      <td>0.871011</td>\n      <td>0.000892</td>\n      <td>439.686884</td>\n    </tr>\n    <tr>\n      <td>5</td>\n      <td>0.337223</td>\n      <td>0.857083</td>\n      <td>0.265033</td>\n      <td>0.895612</td>\n      <td>0.300898</td>\n      <td>0.895612</td>\n      <td>0.000835</td>\n      <td>549.781976</td>\n    </tr>\n    <tr>\n      <td>6</td>\n      <td>0.317146</td>\n      <td>0.868500</td>\n      <td>0.243154</td>\n      <td>0.900598</td>\n      <td>0.375096</td>\n      <td>0.838763</td>\n      <td>0.000768</td>\n      <td>659.766492</td>\n    </tr>\n    <tr>\n      <td>7</td>\n      <td>0.298288</td>\n      <td>0.877167</td>\n      <td>0.218226</td>\n      <td>0.915559</td>\n      <td>0.238841</td>\n      <td>0.905918</td>\n      <td>0.000694</td>\n      <td>769.807405</td>\n    </tr>\n    <tr>\n      <td>8</td>\n      <td>0.276359</td>\n      <td>0.885833</td>\n      <td>0.226506</td>\n      <td>0.908577</td>\n      <td>0.285819</td>\n      <td>0.871676</td>\n      <td>0.000614</td>\n      <td>880.522941</td>\n    </tr>\n    <tr>\n      <td>9</td>\n      <td>0.257657</td>\n      <td>0.893750</td>\n      <td>0.196456</td>\n      <td>0.922872</td>\n      <td>0.209874</td>\n      <td>0.918218</td>\n      <td>0.000531</td>\n      <td>991.473602</td>\n    </tr>\n    <tr>\n      <td>10</td>\n      <td>0.239293</td>\n      <td>0.902250</td>\n      <td>0.197728</td>\n      <td>0.925532</td>\n      <td>0.207492</td>\n      <td>0.917886</td>\n      <td>0.000448</td>\n      <td>1103.328916</td>\n    </tr>\n    <tr>\n      <td>11</td>\n      <td>0.225066</td>\n      <td>0.909250</td>\n      <td>0.188287</td>\n      <td>0.927527</td>\n      <td>0.184218</td>\n      <td>0.932846</td>\n      <td>0.000366</td>\n      <td>1214.626799</td>\n    </tr>\n    <tr>\n      <td>12</td>\n      <td>0.216231</td>\n      <td>0.910667</td>\n      <td>0.180714</td>\n      <td>0.926862</td>\n      <td>0.193061</td>\n      <td>0.927194</td>\n      <td>0.000287</td>\n      <td>1327.175515</td>\n    </tr>\n    <tr>\n      <td>13</td>\n      <td>0.207916</td>\n      <td>0.917417</td>\n      <td>0.174853</td>\n      <td>0.929854</td>\n      <td>0.205479</td>\n      <td>0.920545</td>\n      <td>0.000215</td>\n      <td>1439.476595</td>\n    </tr>\n    <tr>\n      <td>14</td>\n      <td>0.194511</td>\n      <td>0.921083</td>\n      <td>0.179155</td>\n      <td>0.929521</td>\n      <td>0.173827</td>\n      <td>0.933511</td>\n      <td>0.000150</td>\n      <td>1551.908295</td>\n    </tr>\n    <tr>\n      <td>15</td>\n      <td>0.185735</td>\n      <td>0.927250</td>\n      <td>0.179265</td>\n      <td>0.929854</td>\n      <td>0.174517</td>\n      <td>0.934840</td>\n      <td>0.000096</td>\n      <td>1665.131041</td>\n    </tr>\n  </tbody>\n</table>"
      }
     },
     "fa9e0d071c2a4b3db71ae662db8ce8f4": {
      "model_module": "@jupyter-widgets/base",
      "model_module_version": "1.2.0",
      "model_name": "LayoutModel",
      "state": {
       "_model_module": "@jupyter-widgets/base",
       "_model_module_version": "1.2.0",
       "_model_name": "LayoutModel",
       "_view_count": null,
       "_view_module": "@jupyter-widgets/base",
       "_view_module_version": "1.2.0",
       "_view_name": "LayoutView",
       "align_content": null,
       "align_items": null,
       "align_self": null,
       "border": null,
       "bottom": null,
       "display": null,
       "flex": null,
       "flex_flow": null,
       "grid_area": null,
       "grid_auto_columns": null,
       "grid_auto_flow": null,
       "grid_auto_rows": null,
       "grid_column": null,
       "grid_gap": null,
       "grid_row": null,
       "grid_template_areas": null,
       "grid_template_columns": null,
       "grid_template_rows": null,
       "height": null,
       "justify_content": null,
       "justify_items": null,
       "left": null,
       "margin": null,
       "max_height": null,
       "max_width": null,
       "min_height": null,
       "min_width": null,
       "object_fit": null,
       "object_position": null,
       "order": null,
       "overflow": null,
       "overflow_x": null,
       "overflow_y": null,
       "padding": null,
       "right": null,
       "top": null,
       "visibility": null,
       "width": null
      }
     },
     "fe0b65ed9a174c338fe59c48a6aeeaae": {
      "model_module": "@jupyter-widgets/base",
      "model_module_version": "1.2.0",
      "model_name": "LayoutModel",
      "state": {
       "_model_module": "@jupyter-widgets/base",
       "_model_module_version": "1.2.0",
       "_model_name": "LayoutModel",
       "_view_count": null,
       "_view_module": "@jupyter-widgets/base",
       "_view_module_version": "1.2.0",
       "_view_name": "LayoutView",
       "align_content": null,
       "align_items": null,
       "align_self": null,
       "border": null,
       "bottom": null,
       "display": null,
       "flex": null,
       "flex_flow": null,
       "grid_area": null,
       "grid_auto_columns": null,
       "grid_auto_flow": null,
       "grid_auto_rows": null,
       "grid_column": null,
       "grid_gap": null,
       "grid_row": null,
       "grid_template_areas": null,
       "grid_template_columns": null,
       "grid_template_rows": null,
       "height": null,
       "justify_content": null,
       "justify_items": null,
       "left": null,
       "margin": null,
       "max_height": null,
       "max_width": null,
       "min_height": null,
       "min_width": null,
       "object_fit": null,
       "object_position": null,
       "order": null,
       "overflow": null,
       "overflow_x": null,
       "overflow_y": null,
       "padding": null,
       "right": null,
       "top": null,
       "visibility": null,
       "width": null
      }
     },
     "ffcd9196c58c424aa7f10873476a8bbb": {
      "model_module": "@jupyter-widgets/controls",
      "model_module_version": "1.5.0",
      "model_name": "HBoxModel",
      "state": {
       "_dom_classes": [],
       "_model_module": "@jupyter-widgets/controls",
       "_model_module_version": "1.5.0",
       "_model_name": "HBoxModel",
       "_view_count": null,
       "_view_module": "@jupyter-widgets/controls",
       "_view_module_version": "1.5.0",
       "_view_name": "HBoxView",
       "box_style": "",
       "children": [
        "IPY_MODEL_3e8052c6a59b43dc8e817d6d3eb9887b",
        "IPY_MODEL_24946589a6b04003970fb2771e7ebd06"
       ],
       "layout": "IPY_MODEL_afcc42d6e9c44758be576235fee4151a"
      }
     }
    },
    "version_major": 2,
    "version_minor": 0
   }
  }
 },
 "nbformat": 4,
 "nbformat_minor": 4
}
