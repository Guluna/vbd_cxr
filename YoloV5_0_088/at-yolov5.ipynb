{
 "cells": [
  {
   "cell_type": "code",
   "execution_count": 1,
   "metadata": {
    "_cell_guid": "b1076dfc-b9ad-4769-8c92-a6c4dae69d19",
    "_uuid": "8f2839f25d086af736a60e9eeb907d3b93b6e0e5",
    "execution": {
     "iopub.execute_input": "2021-03-16T19:16:22.938490Z",
     "iopub.status.busy": "2021-03-16T19:16:22.937824Z",
     "iopub.status.idle": "2021-03-16T19:16:23.836085Z",
     "shell.execute_reply": "2021-03-16T19:16:23.835468Z"
    },
    "papermill": {
     "duration": 0.918206,
     "end_time": "2021-03-16T19:16:23.836309",
     "exception": false,
     "start_time": "2021-03-16T19:16:22.918103",
     "status": "completed"
    },
    "tags": []
   },
   "outputs": [],
   "source": [
    "import pandas as pd\n",
    "import glob\n",
    "from PIL import Image\n",
    "import numpy as np\n",
    "import matplotlib.pyplot as plt\n",
    "from matplotlib import patches\n",
    "from sklearn import model_selection\n",
    "from tqdm import tqdm\n",
    "import shutil\n",
    "import os"
   ]
  },
  {
   "cell_type": "code",
   "execution_count": 2,
   "metadata": {
    "execution": {
     "iopub.execute_input": "2021-03-16T19:16:23.892398Z",
     "iopub.status.busy": "2021-03-16T19:16:23.891813Z",
     "iopub.status.idle": "2021-03-16T19:16:24.166538Z",
     "shell.execute_reply": "2021-03-16T19:16:24.166115Z"
    },
    "papermill": {
     "duration": 0.315612,
     "end_time": "2021-03-16T19:16:24.166668",
     "exception": false,
     "start_time": "2021-03-16T19:16:23.851056",
     "status": "completed"
    },
    "tags": []
   },
   "outputs": [
    {
     "data": {
      "text/html": [
       "<div>\n",
       "<style scoped>\n",
       "    .dataframe tbody tr th:only-of-type {\n",
       "        vertical-align: middle;\n",
       "    }\n",
       "\n",
       "    .dataframe tbody tr th {\n",
       "        vertical-align: top;\n",
       "    }\n",
       "\n",
       "    .dataframe thead th {\n",
       "        text-align: right;\n",
       "    }\n",
       "</style>\n",
       "<table border=\"1\" class=\"dataframe\">\n",
       "  <thead>\n",
       "    <tr style=\"text-align: right;\">\n",
       "      <th></th>\n",
       "      <th>image_id</th>\n",
       "      <th>x_min</th>\n",
       "      <th>y_min</th>\n",
       "      <th>x_max</th>\n",
       "      <th>y_max</th>\n",
       "      <th>class_id</th>\n",
       "      <th>class_name</th>\n",
       "      <th>rad_id</th>\n",
       "      <th>original_width</th>\n",
       "      <th>original_height</th>\n",
       "      <th>transformed_width</th>\n",
       "      <th>transformed_height</th>\n",
       "    </tr>\n",
       "  </thead>\n",
       "  <tbody>\n",
       "    <tr>\n",
       "      <th>0</th>\n",
       "      <td>50a418190bc3fb1ef1633bf9678929b3</td>\n",
       "      <td>0.0</td>\n",
       "      <td>0.0</td>\n",
       "      <td>0.219554</td>\n",
       "      <td>0.219380</td>\n",
       "      <td>14</td>\n",
       "      <td>No finding</td>\n",
       "      <td>R11</td>\n",
       "      <td>2580</td>\n",
       "      <td>2332</td>\n",
       "      <td>512</td>\n",
       "      <td>566</td>\n",
       "    </tr>\n",
       "    <tr>\n",
       "      <th>1</th>\n",
       "      <td>50a418190bc3fb1ef1633bf9678929b3</td>\n",
       "      <td>0.0</td>\n",
       "      <td>0.0</td>\n",
       "      <td>0.219554</td>\n",
       "      <td>0.219380</td>\n",
       "      <td>14</td>\n",
       "      <td>No finding</td>\n",
       "      <td>R15</td>\n",
       "      <td>2580</td>\n",
       "      <td>2332</td>\n",
       "      <td>512</td>\n",
       "      <td>566</td>\n",
       "    </tr>\n",
       "    <tr>\n",
       "      <th>2</th>\n",
       "      <td>50a418190bc3fb1ef1633bf9678929b3</td>\n",
       "      <td>0.0</td>\n",
       "      <td>0.0</td>\n",
       "      <td>0.219554</td>\n",
       "      <td>0.219380</td>\n",
       "      <td>14</td>\n",
       "      <td>No finding</td>\n",
       "      <td>R16</td>\n",
       "      <td>2580</td>\n",
       "      <td>2332</td>\n",
       "      <td>512</td>\n",
       "      <td>566</td>\n",
       "    </tr>\n",
       "    <tr>\n",
       "      <th>3</th>\n",
       "      <td>21a10246a5ec7af151081d0cd6d65dc9</td>\n",
       "      <td>0.0</td>\n",
       "      <td>0.0</td>\n",
       "      <td>0.173324</td>\n",
       "      <td>0.173473</td>\n",
       "      <td>14</td>\n",
       "      <td>No finding</td>\n",
       "      <td>R7</td>\n",
       "      <td>3159</td>\n",
       "      <td>2954</td>\n",
       "      <td>512</td>\n",
       "      <td>548</td>\n",
       "    </tr>\n",
       "    <tr>\n",
       "      <th>4</th>\n",
       "      <td>21a10246a5ec7af151081d0cd6d65dc9</td>\n",
       "      <td>0.0</td>\n",
       "      <td>0.0</td>\n",
       "      <td>0.173324</td>\n",
       "      <td>0.173473</td>\n",
       "      <td>14</td>\n",
       "      <td>No finding</td>\n",
       "      <td>R13</td>\n",
       "      <td>3159</td>\n",
       "      <td>2954</td>\n",
       "      <td>512</td>\n",
       "      <td>548</td>\n",
       "    </tr>\n",
       "  </tbody>\n",
       "</table>\n",
       "</div>"
      ],
      "text/plain": [
       "                           image_id  x_min  y_min     x_max     y_max  \\\n",
       "0  50a418190bc3fb1ef1633bf9678929b3    0.0    0.0  0.219554  0.219380   \n",
       "1  50a418190bc3fb1ef1633bf9678929b3    0.0    0.0  0.219554  0.219380   \n",
       "2  50a418190bc3fb1ef1633bf9678929b3    0.0    0.0  0.219554  0.219380   \n",
       "3  21a10246a5ec7af151081d0cd6d65dc9    0.0    0.0  0.173324  0.173473   \n",
       "4  21a10246a5ec7af151081d0cd6d65dc9    0.0    0.0  0.173324  0.173473   \n",
       "\n",
       "   class_id  class_name rad_id  original_width  original_height  \\\n",
       "0        14  No finding    R11            2580             2332   \n",
       "1        14  No finding    R15            2580             2332   \n",
       "2        14  No finding    R16            2580             2332   \n",
       "3        14  No finding     R7            3159             2954   \n",
       "4        14  No finding    R13            3159             2954   \n",
       "\n",
       "   transformed_width  transformed_height  \n",
       "0                512                 566  \n",
       "1                512                 566  \n",
       "2                512                 566  \n",
       "3                512                 548  \n",
       "4                512                 548  "
      ]
     },
     "execution_count": 2,
     "metadata": {},
     "output_type": "execute_result"
    }
   ],
   "source": [
    "# loading train images & csv file\n",
    "path_train_images = '/kaggle/input/cxr-512-grayimages/transformed_data/train'\n",
    "\n",
    "train_df = pd.read_csv('/kaggle/input/cxr-512-grayimages/transformed_data/train/transformed_train.csv')\n",
    "train_df.head()\n",
    "\n",
    "# RENAME/SWAP ORIGINAL WIDTH & HEIGHT COLS"
   ]
  },
  {
   "cell_type": "code",
   "execution_count": 3,
   "metadata": {
    "execution": {
     "iopub.execute_input": "2021-03-16T19:16:24.207898Z",
     "iopub.status.busy": "2021-03-16T19:16:24.207193Z",
     "iopub.status.idle": "2021-03-16T19:16:25.777561Z",
     "shell.execute_reply": "2021-03-16T19:16:25.778016Z"
    },
    "papermill": {
     "duration": 1.594996,
     "end_time": "2021-03-16T19:16:25.778174",
     "exception": false,
     "start_time": "2021-03-16T19:16:24.183178",
     "status": "completed"
    },
    "tags": []
   },
   "outputs": [
    {
     "name": "stdout",
     "output_type": "stream",
     "text": [
      "Total number of unique image ids in csv: 15000\n",
      "Total number of jpeg image in dataset folder: 15000\n"
     ]
    }
   ],
   "source": [
    "# Checking unique image ids in csv & image folder\n",
    "unique_img_ids = train_df['image_id'].unique()\n",
    "print(f\"Total number of unique image ids in csv: {len(unique_img_ids)}\")\n",
    "\n",
    "\n",
    "jpegCounter = len(glob.glob1(path_train_images,\"*.jpeg\"))\n",
    "print(f\"Total number of jpeg image in dataset folder: {jpegCounter}\")"
   ]
  },
  {
   "cell_type": "code",
   "execution_count": 4,
   "metadata": {
    "execution": {
     "iopub.execute_input": "2021-03-16T19:16:25.822377Z",
     "iopub.status.busy": "2021-03-16T19:16:25.821830Z",
     "iopub.status.idle": "2021-03-16T19:16:25.840062Z",
     "shell.execute_reply": "2021-03-16T19:16:25.839562Z"
    },
    "papermill": {
     "duration": 0.044987,
     "end_time": "2021-03-16T19:16:25.840178",
     "exception": false,
     "start_time": "2021-03-16T19:16:25.795191",
     "status": "completed"
    },
    "tags": []
   },
   "outputs": [
    {
     "data": {
      "text/html": [
       "<div>\n",
       "<style scoped>\n",
       "    .dataframe tbody tr th:only-of-type {\n",
       "        vertical-align: middle;\n",
       "    }\n",
       "\n",
       "    .dataframe tbody tr th {\n",
       "        vertical-align: top;\n",
       "    }\n",
       "\n",
       "    .dataframe thead th {\n",
       "        text-align: right;\n",
       "    }\n",
       "</style>\n",
       "<table border=\"1\" class=\"dataframe\">\n",
       "  <thead>\n",
       "    <tr style=\"text-align: right;\">\n",
       "      <th></th>\n",
       "      <th>image_id</th>\n",
       "      <th>x_min</th>\n",
       "      <th>y_min</th>\n",
       "      <th>x_max</th>\n",
       "      <th>y_max</th>\n",
       "      <th>class_id</th>\n",
       "      <th>class_name</th>\n",
       "      <th>rad_id</th>\n",
       "      <th>original_width</th>\n",
       "      <th>original_height</th>\n",
       "      <th>transformed_width</th>\n",
       "      <th>transformed_height</th>\n",
       "    </tr>\n",
       "  </thead>\n",
       "  <tbody>\n",
       "    <tr>\n",
       "      <th>6</th>\n",
       "      <td>9a5094b2563a1ef3ff50dc5c7ff71345</td>\n",
       "      <td>170.092308</td>\n",
       "      <td>338.452483</td>\n",
       "      <td>406.892308</td>\n",
       "      <td>450.695634</td>\n",
       "      <td>3</td>\n",
       "      <td>Cardiomegaly</td>\n",
       "      <td>R10</td>\n",
       "      <td>2336</td>\n",
       "      <td>2080</td>\n",
       "      <td>512</td>\n",
       "      <td>575</td>\n",
       "    </tr>\n",
       "    <tr>\n",
       "      <th>7</th>\n",
       "      <td>9a5094b2563a1ef3ff50dc5c7ff71345</td>\n",
       "      <td>440.369231</td>\n",
       "      <td>425.588613</td>\n",
       "      <td>461.538462</td>\n",
       "      <td>490.325342</td>\n",
       "      <td>10</td>\n",
       "      <td>Pleural effusion</td>\n",
       "      <td>R9</td>\n",
       "      <td>2336</td>\n",
       "      <td>2080</td>\n",
       "      <td>512</td>\n",
       "      <td>575</td>\n",
       "    </tr>\n",
       "    <tr>\n",
       "      <th>8</th>\n",
       "      <td>9a5094b2563a1ef3ff50dc5c7ff71345</td>\n",
       "      <td>440.369231</td>\n",
       "      <td>425.588613</td>\n",
       "      <td>461.538462</td>\n",
       "      <td>490.325342</td>\n",
       "      <td>11</td>\n",
       "      <td>Pleural thickening</td>\n",
       "      <td>R9</td>\n",
       "      <td>2336</td>\n",
       "      <td>2080</td>\n",
       "      <td>512</td>\n",
       "      <td>575</td>\n",
       "    </tr>\n",
       "    <tr>\n",
       "      <th>9</th>\n",
       "      <td>9a5094b2563a1ef3ff50dc5c7ff71345</td>\n",
       "      <td>170.338462</td>\n",
       "      <td>338.452483</td>\n",
       "      <td>407.876923</td>\n",
       "      <td>442.818921</td>\n",
       "      <td>3</td>\n",
       "      <td>Cardiomegaly</td>\n",
       "      <td>R9</td>\n",
       "      <td>2336</td>\n",
       "      <td>2080</td>\n",
       "      <td>512</td>\n",
       "      <td>575</td>\n",
       "    </tr>\n",
       "    <tr>\n",
       "      <th>10</th>\n",
       "      <td>9a5094b2563a1ef3ff50dc5c7ff71345</td>\n",
       "      <td>169.600000</td>\n",
       "      <td>323.191353</td>\n",
       "      <td>410.092308</td>\n",
       "      <td>433.957620</td>\n",
       "      <td>3</td>\n",
       "      <td>Cardiomegaly</td>\n",
       "      <td>R8</td>\n",
       "      <td>2336</td>\n",
       "      <td>2080</td>\n",
       "      <td>512</td>\n",
       "      <td>575</td>\n",
       "    </tr>\n",
       "  </tbody>\n",
       "</table>\n",
       "</div>"
      ],
      "text/plain": [
       "                            image_id       x_min       y_min       x_max  \\\n",
       "6   9a5094b2563a1ef3ff50dc5c7ff71345  170.092308  338.452483  406.892308   \n",
       "7   9a5094b2563a1ef3ff50dc5c7ff71345  440.369231  425.588613  461.538462   \n",
       "8   9a5094b2563a1ef3ff50dc5c7ff71345  440.369231  425.588613  461.538462   \n",
       "9   9a5094b2563a1ef3ff50dc5c7ff71345  170.338462  338.452483  407.876923   \n",
       "10  9a5094b2563a1ef3ff50dc5c7ff71345  169.600000  323.191353  410.092308   \n",
       "\n",
       "         y_max  class_id          class_name rad_id  original_width  \\\n",
       "6   450.695634         3        Cardiomegaly    R10            2336   \n",
       "7   490.325342        10    Pleural effusion     R9            2336   \n",
       "8   490.325342        11  Pleural thickening     R9            2336   \n",
       "9   442.818921         3        Cardiomegaly     R9            2336   \n",
       "10  433.957620         3        Cardiomegaly     R8            2336   \n",
       "\n",
       "    original_height  transformed_width  transformed_height  \n",
       "6              2080                512                 575  \n",
       "7              2080                512                 575  \n",
       "8              2080                512                 575  \n",
       "9              2080                512                 575  \n",
       "10             2080                512                 575  "
      ]
     },
     "execution_count": 4,
     "metadata": {},
     "output_type": "execute_result"
    }
   ],
   "source": [
    "# select only those rows which have bounding boxes\n",
    "finding_df = train_df[train_df['class_name'] != 'No finding']\n",
    "finding_df.head()"
   ]
  },
  {
   "cell_type": "code",
   "execution_count": 5,
   "metadata": {
    "execution": {
     "iopub.execute_input": "2021-03-16T19:16:25.881140Z",
     "iopub.status.busy": "2021-03-16T19:16:25.880366Z",
     "iopub.status.idle": "2021-03-16T19:16:25.887136Z",
     "shell.execute_reply": "2021-03-16T19:16:25.886690Z"
    },
    "papermill": {
     "duration": 0.029549,
     "end_time": "2021-03-16T19:16:25.887247",
     "exception": false,
     "start_time": "2021-03-16T19:16:25.857698",
     "status": "completed"
    },
    "tags": []
   },
   "outputs": [
    {
     "data": {
      "text/plain": [
       "4394"
      ]
     },
     "execution_count": 5,
     "metadata": {},
     "output_type": "execute_result"
    }
   ],
   "source": [
    "finding_df_img_ids = finding_df['image_id'].unique()\n",
    "len(finding_df_img_ids)"
   ]
  },
  {
   "cell_type": "code",
   "execution_count": 6,
   "metadata": {
    "execution": {
     "iopub.execute_input": "2021-03-16T19:16:25.922387Z",
     "iopub.status.busy": "2021-03-16T19:16:25.921857Z",
     "iopub.status.idle": "2021-03-16T19:16:25.942505Z",
     "shell.execute_reply": "2021-03-16T19:16:25.942063Z"
    },
    "papermill": {
     "duration": 0.039478,
     "end_time": "2021-03-16T19:16:25.942612",
     "exception": false,
     "start_time": "2021-03-16T19:16:25.903134",
     "status": "completed"
    },
    "tags": []
   },
   "outputs": [
    {
     "name": "stdout",
     "output_type": "stream",
     "text": [
      "Width = 512 and hieght = 575 of image 9a5094b2563a1ef3ff50dc5c7ff71345.jpeg\n"
     ]
    }
   ],
   "source": [
    "# checking size of 1st image in df\n",
    "image = Image.open(f\"{path_train_images}/9a5094b2563a1ef3ff50dc5c7ff71345.jpeg\")\n",
    "\n",
    "width, height = image.size\n",
    "\n",
    "print(f\"Width = {width} and hieght = {height} of image 9a5094b2563a1ef3ff50dc5c7ff71345.jpeg\")"
   ]
  },
  {
   "cell_type": "code",
   "execution_count": 7,
   "metadata": {
    "execution": {
     "iopub.execute_input": "2021-03-16T19:16:25.978426Z",
     "iopub.status.busy": "2021-03-16T19:16:25.977772Z",
     "iopub.status.idle": "2021-03-16T19:16:25.980628Z",
     "shell.execute_reply": "2021-03-16T19:16:25.980195Z"
    },
    "papermill": {
     "duration": 0.021737,
     "end_time": "2021-03-16T19:16:25.980729",
     "exception": false,
     "start_time": "2021-03-16T19:16:25.958992",
     "status": "completed"
    },
    "tags": []
   },
   "outputs": [],
   "source": [
    "# # creating a toy df containing 100 BBs\n",
    "# small_df = finding_df.head(100)\n",
    "\n",
    "# print(small_df['image_id'].unique())     # unique images = 11\n",
    "# small_df.head()"
   ]
  },
  {
   "cell_type": "code",
   "execution_count": 8,
   "metadata": {
    "execution": {
     "iopub.execute_input": "2021-03-16T19:16:26.018287Z",
     "iopub.status.busy": "2021-03-16T19:16:26.017528Z",
     "iopub.status.idle": "2021-03-16T19:16:26.020767Z",
     "shell.execute_reply": "2021-03-16T19:16:26.021165Z"
    },
    "papermill": {
     "duration": 0.023545,
     "end_time": "2021-03-16T19:16:26.021286",
     "exception": false,
     "start_time": "2021-03-16T19:16:25.997741",
     "status": "completed"
    },
    "tags": []
   },
   "outputs": [
    {
     "data": {
      "text/plain": [
       "36096"
      ]
     },
     "execution_count": 8,
     "metadata": {},
     "output_type": "execute_result"
    }
   ],
   "source": [
    "small_df = finding_df\n",
    "small_df.head()\n",
    "len(small_df)"
   ]
  },
  {
   "cell_type": "markdown",
   "metadata": {
    "papermill": {
     "duration": 0.016338,
     "end_time": "2021-03-16T19:16:26.054208",
     "exception": false,
     "start_time": "2021-03-16T19:16:26.037870",
     "status": "completed"
    },
    "tags": []
   },
   "source": [
    "# Plotting before & after"
   ]
  },
  {
   "cell_type": "code",
   "execution_count": 9,
   "metadata": {
    "execution": {
     "iopub.execute_input": "2021-03-16T19:16:26.093606Z",
     "iopub.status.busy": "2021-03-16T19:16:26.092932Z",
     "iopub.status.idle": "2021-03-16T19:16:26.095729Z",
     "shell.execute_reply": "2021-03-16T19:16:26.095260Z"
    },
    "papermill": {
     "duration": 0.024793,
     "end_time": "2021-03-16T19:16:26.095830",
     "exception": false,
     "start_time": "2021-03-16T19:16:26.071037",
     "status": "completed"
    },
    "tags": []
   },
   "outputs": [],
   "source": [
    "label2color = { 0:(\"Aortic enlargement\",\"#2a52be\"),\n",
    "                1:(\"Atelectasis\",\"#ffa812\"),\n",
    "                2:(\"Calcification\",\"#ff8243\"),\n",
    "                3:(\"Cardiomegaly\",\"#4682b4\"),\n",
    "                4:(\"Consolidation\",\"#ddadaf\"),\n",
    "                5:(\"ILD\",\"#a3c1ad\"),\n",
    "                6:(\"Infiltration\",\"#008000\"),\n",
    "                7:(\"Lung Opacity\",\"#004953\"),\n",
    "                8:(\"Nodule/Mass\",\"#e3a857\"),\n",
    "                9:(\"Other lesion\",\"#dda0dd\"),\n",
    "               10:(\"Pleural effusion\",\"#e6e8fa\"),\n",
    "               11:(\"Pleural thickening\",\"#800020\"),\n",
    "               12:(\"Pneumothorax\",\"#918151\"),\n",
    "               13:(\"Pulmonary fibrosis\",\"#e75480\"),\n",
    "               14:(\"No finding\", \"#ffffff\")\n",
    "              }"
   ]
  },
  {
   "cell_type": "code",
   "execution_count": 10,
   "metadata": {
    "execution": {
     "iopub.execute_input": "2021-03-16T19:16:26.138145Z",
     "iopub.status.busy": "2021-03-16T19:16:26.137523Z",
     "iopub.status.idle": "2021-03-16T19:16:26.140412Z",
     "shell.execute_reply": "2021-03-16T19:16:26.140020Z"
    },
    "papermill": {
     "duration": 0.027853,
     "end_time": "2021-03-16T19:16:26.140515",
     "exception": false,
     "start_time": "2021-03-16T19:16:26.112662",
     "status": "completed"
    },
    "tags": []
   },
   "outputs": [],
   "source": [
    "# code to plot image with bounding boxes for fusion comparison\n",
    "\n",
    "def bounding_box_plotter_before_after(img_as_arr, img_id, bounding_boxes_before, bounding_boxes_after):\n",
    "        \n",
    "    fig, (ax1, ax2) = plt.subplots(1, 2)\n",
    "    \n",
    "    for bb, img, ax, title in zip([bounding_boxes_before, bounding_boxes_after], \n",
    "                                  [img_as_arr, img_as_arr], [ax1, ax2], [\"Before\", \"After\"]):\n",
    "        \n",
    "        # add the bounding boxes\n",
    "        for row in bb:\n",
    "            # each row contains 'x_min', 'y_min', 'x_max', 'y_max', \"class_id\"\n",
    "            xmin = row[0]\n",
    "            xmax = row[2]\n",
    "            ymin = row[1]\n",
    "            ymax = row[3]\n",
    "\n",
    "            width = xmax - xmin\n",
    "            height = ymax - ymin\n",
    "\n",
    "            # assign different color to different classes of objects\n",
    "            edgecolor = label2color[row[4]][1]\n",
    "            ax.annotate(label2color[row[4]][0], xy=(xmax - 40, ymin + 20))\n",
    "            \n",
    "            # add radiologist if Before\n",
    "            label_bb = str(label2color[row[4]][0])+\"::\"+str(row[5]) if title==\"Before\" else str(label2color[row[4]][0])\n",
    "            \n",
    "            # add bounding boxes to the image\n",
    "            rect = patches.Rectangle((xmin, ymin), width, height, edgecolor=edgecolor, facecolor='none', label=label_bb)\n",
    "            \n",
    "            ax.add_patch(rect)\n",
    "            ax.legend()\n",
    "        \n",
    "        # plot the image\n",
    "        ax.imshow(img_as_arr, cmap=\"gray\")\n",
    "        ax.set_title(title+\"::\"+img_id)\n",
    "    \n",
    "    fig.set_size_inches(33,24)\n",
    "    plt.show()"
   ]
  },
  {
   "cell_type": "code",
   "execution_count": 11,
   "metadata": {
    "execution": {
     "iopub.execute_input": "2021-03-16T19:16:26.178507Z",
     "iopub.status.busy": "2021-03-16T19:16:26.177938Z",
     "iopub.status.idle": "2021-03-16T19:16:26.180918Z",
     "shell.execute_reply": "2021-03-16T19:16:26.180465Z"
    },
    "papermill": {
     "duration": 0.023567,
     "end_time": "2021-03-16T19:16:26.181025",
     "exception": false,
     "start_time": "2021-03-16T19:16:26.157458",
     "status": "completed"
    },
    "tags": []
   },
   "outputs": [],
   "source": [
    "def get_bb_info(df, img_id, columns):\n",
    "    bounding_boxes_info = df.loc[df[\"image_id\"]==img_id, columns]\n",
    "\n",
    "    bboxes = []\n",
    "    for _, row in bounding_boxes_info.iterrows():\n",
    "        bboxes.append(list(row))\n",
    "    \n",
    "    return bboxes"
   ]
  },
  {
   "cell_type": "code",
   "execution_count": 12,
   "metadata": {
    "execution": {
     "iopub.execute_input": "2021-03-16T19:16:26.218273Z",
     "iopub.status.busy": "2021-03-16T19:16:26.217616Z",
     "iopub.status.idle": "2021-03-16T19:16:26.220066Z",
     "shell.execute_reply": "2021-03-16T19:16:26.220501Z"
    },
    "papermill": {
     "duration": 0.022504,
     "end_time": "2021-03-16T19:16:26.220617",
     "exception": false,
     "start_time": "2021-03-16T19:16:26.198113",
     "status": "completed"
    },
    "tags": []
   },
   "outputs": [],
   "source": [
    "# for img_id in small_df['image_id'].unique():    \n",
    "\n",
    "#     bounding_boxes_info_before = get_bb_info(small_df, img_id, ['x_min', 'y_min', 'x_max', 'y_max', \"class_id\", \"rad_id\"])\n",
    "#     bounding_boxes_info_after = get_bb_info(small_df, img_id, ['x_min', 'y_min', 'x_max', 'y_max', \"class_id\"])\n",
    "\n",
    "#     # read image as array\n",
    "#     im = Image.open(path_train_images+f\"/{img_id}.jpeg\")\n",
    "#     bounding_box_plotter_before_after(im, img_id, bounding_boxes_info_before, bounding_boxes_info_after)"
   ]
  },
  {
   "cell_type": "markdown",
   "metadata": {
    "papermill": {
     "duration": 0.016725,
     "end_time": "2021-03-16T19:16:26.254242",
     "exception": false,
     "start_time": "2021-03-16T19:16:26.237517",
     "status": "completed"
    },
    "tags": []
   },
   "source": [
    "# Cloning Yolov5 repo"
   ]
  },
  {
   "cell_type": "code",
   "execution_count": 13,
   "metadata": {
    "execution": {
     "iopub.execute_input": "2021-03-16T19:16:26.292088Z",
     "iopub.status.busy": "2021-03-16T19:16:26.291462Z",
     "iopub.status.idle": "2021-03-16T19:16:26.919991Z",
     "shell.execute_reply": "2021-03-16T19:16:26.918751Z"
    },
    "papermill": {
     "duration": 0.648748,
     "end_time": "2021-03-16T19:16:26.920136",
     "exception": false,
     "start_time": "2021-03-16T19:16:26.271388",
     "status": "completed"
    },
    "tags": []
   },
   "outputs": [
    {
     "name": "stdout",
     "output_type": "stream",
     "text": [
      "/kaggle/working\r\n"
     ]
    }
   ],
   "source": [
    "!pwd"
   ]
  },
  {
   "cell_type": "code",
   "execution_count": 14,
   "metadata": {
    "execution": {
     "iopub.execute_input": "2021-03-16T19:16:26.963144Z",
     "iopub.status.busy": "2021-03-16T19:16:26.962365Z",
     "iopub.status.idle": "2021-03-16T19:16:29.082420Z",
     "shell.execute_reply": "2021-03-16T19:16:29.081566Z"
    },
    "papermill": {
     "duration": 2.144581,
     "end_time": "2021-03-16T19:16:29.082554",
     "exception": false,
     "start_time": "2021-03-16T19:16:26.937973",
     "status": "completed"
    },
    "tags": []
   },
   "outputs": [
    {
     "name": "stdout",
     "output_type": "stream",
     "text": [
      "Cloning into 'yolov5'...\r\n",
      "remote: Enumerating objects: 5437, done.\u001b[K\r\n",
      "remote: Total 5437 (delta 0), reused 0 (delta 0), pack-reused 5437\u001b[K\r\n",
      "Receiving objects: 100% (5437/5437), 8.05 MiB | 17.22 MiB/s, done.\r\n",
      "Resolving deltas: 100% (3718/3718), done.\r\n"
     ]
    }
   ],
   "source": [
    "!git clone https://github.com/ultralytics/yolov5.git"
   ]
  },
  {
   "cell_type": "markdown",
   "metadata": {
    "papermill": {
     "duration": 0.021474,
     "end_time": "2021-03-16T19:16:29.126022",
     "exception": false,
     "start_time": "2021-03-16T19:16:29.104548",
     "status": "completed"
    },
    "tags": []
   },
   "source": [
    "# Creating dir structure for YOLOv5"
   ]
  },
  {
   "cell_type": "code",
   "execution_count": 15,
   "metadata": {
    "execution": {
     "iopub.execute_input": "2021-03-16T19:16:29.178879Z",
     "iopub.status.busy": "2021-03-16T19:16:29.178055Z",
     "iopub.status.idle": "2021-03-16T19:17:23.854831Z",
     "shell.execute_reply": "2021-03-16T19:17:23.853730Z"
    },
    "papermill": {
     "duration": 54.707097,
     "end_time": "2021-03-16T19:17:23.855056",
     "exception": false,
     "start_time": "2021-03-16T19:16:29.147959",
     "status": "completed"
    },
    "tags": []
   },
   "outputs": [
    {
     "name": "stderr",
     "output_type": "stream",
     "text": [
      "/opt/conda/lib/python3.7/site-packages/ipykernel_launcher.py:2: SettingWithCopyWarning: \n",
      "A value is trying to be set on a copy of a slice from a DataFrame.\n",
      "Try using .loc[row_indexer,col_indexer] = value instead\n",
      "\n",
      "See the caveats in the documentation: https://pandas.pydata.org/pandas-docs/stable/user_guide/indexing.html#returning-a-view-versus-a-copy\n",
      "  \n",
      "/opt/conda/lib/python3.7/site-packages/ipykernel_launcher.py:3: SettingWithCopyWarning: \n",
      "A value is trying to be set on a copy of a slice from a DataFrame.\n",
      "Try using .loc[row_indexer,col_indexer] = value instead\n",
      "\n",
      "See the caveats in the documentation: https://pandas.pydata.org/pandas-docs/stable/user_guide/indexing.html#returning-a-view-versus-a-copy\n",
      "  This is separate from the ipykernel package so we can avoid doing imports until\n",
      "/opt/conda/lib/python3.7/site-packages/ipykernel_launcher.py:7: SettingWithCopyWarning: \n",
      "A value is trying to be set on a copy of a slice from a DataFrame.\n",
      "Try using .loc[row_indexer,col_indexer] = value instead\n",
      "\n",
      "See the caveats in the documentation: https://pandas.pydata.org/pandas-docs/stable/user_guide/indexing.html#returning-a-view-versus-a-copy\n",
      "  import sys\n"
     ]
    }
   ],
   "source": [
    "# adding BB width & height columns to small_df\n",
    "small_df['bb_width'] = small_df['x_max'] - small_df['x_min']\n",
    "small_df['bb_height'] = small_df['y_max'] - small_df['y_min']\n",
    "\n",
    "\n",
    "# adding a column that contains BB info in list format\n",
    "small_df['bbox_list']= small_df[['class_id', 'x_min', 'y_min', 'bb_width', 'bb_height']].values.tolist()\n",
    "\n",
    "\n",
    "# creating a list of lists for all BB per image\n",
    "small_df_2cols = small_df.groupby('image_id')['bbox_list'].apply(list).reset_index()\n",
    "\n",
    "\n",
    "# giving col names to newly created df\n",
    "small_df_2cols.columns =['image_id', 'bboxes']\n",
    "\n",
    "\n",
    "# adding 2 new cols to df\n",
    "small_df_2cols[\"image_width\"] = np.nan\n",
    "small_df_2cols[\"image_height\"] = np.nan\n",
    "\n",
    "# adding values to image_width & image_height cols from original df\n",
    "for image_id in small_df_2cols['image_id']:\n",
    "    small_df_2cols.loc[small_df_2cols.image_id==image_id,[\"image_width\", \"image_height\"]] \\\n",
    "        =finding_df[finding_df.image_id==image_id].iloc[0]['transformed_width'], finding_df[finding_df.image_id==image_id].iloc[0]['transformed_height']\n",
    "\n",
    "\n",
    "# splitting data into train & val\n",
    "df_train, df_valid = model_selection.train_test_split(\n",
    "    small_df_2cols,\n",
    "    test_size = 0.1,        # 10% for validation\n",
    "    random_state = 42,\n",
    "    shuffle = True\n",
    ")\n",
    "\n",
    "\n",
    "# resetting index values in df\n",
    "df_train = df_train.reset_index(drop=True)\n",
    "df_valid = df_valid.reset_index(drop=True)"
   ]
  },
  {
   "cell_type": "code",
   "execution_count": 16,
   "metadata": {
    "execution": {
     "iopub.execute_input": "2021-03-16T19:17:23.932256Z",
     "iopub.status.busy": "2021-03-16T19:17:23.931570Z",
     "iopub.status.idle": "2021-03-16T19:17:23.935436Z",
     "shell.execute_reply": "2021-03-16T19:17:23.935925Z"
    },
    "papermill": {
     "duration": 0.057743,
     "end_time": "2021-03-16T19:17:23.936078",
     "exception": false,
     "start_time": "2021-03-16T19:17:23.878335",
     "status": "completed"
    },
    "tags": []
   },
   "outputs": [
    {
     "data": {
      "text/html": [
       "<div>\n",
       "<style scoped>\n",
       "    .dataframe tbody tr th:only-of-type {\n",
       "        vertical-align: middle;\n",
       "    }\n",
       "\n",
       "    .dataframe tbody tr th {\n",
       "        vertical-align: top;\n",
       "    }\n",
       "\n",
       "    .dataframe thead th {\n",
       "        text-align: right;\n",
       "    }\n",
       "</style>\n",
       "<table border=\"1\" class=\"dataframe\">\n",
       "  <thead>\n",
       "    <tr style=\"text-align: right;\">\n",
       "      <th></th>\n",
       "      <th>image_id</th>\n",
       "      <th>bboxes</th>\n",
       "      <th>image_width</th>\n",
       "      <th>image_height</th>\n",
       "    </tr>\n",
       "  </thead>\n",
       "  <tbody>\n",
       "    <tr>\n",
       "      <th>0</th>\n",
       "      <td>0005e8e3701dfb1dd93d53e2ff537b6e</td>\n",
       "      <td>[[7.0, 150.0, 97.83333333333331, 50.8333333333...</td>\n",
       "      <td>512.0</td>\n",
       "      <td>512.0</td>\n",
       "    </tr>\n",
       "    <tr>\n",
       "      <th>1</th>\n",
       "      <td>0007d316f756b3fa0baea2ff514ce945</td>\n",
       "      <td>[[13.0, 309.3333333333333, 156.0, 28.0, 19.555...</td>\n",
       "      <td>512.0</td>\n",
       "      <td>640.0</td>\n",
       "    </tr>\n",
       "    <tr>\n",
       "      <th>2</th>\n",
       "      <td>000d68e42b71d3eac10ccc077aba07c1</td>\n",
       "      <td>[[9.0, 9.555555555555557, 0.0, 186.44444444444...</td>\n",
       "      <td>512.0</td>\n",
       "      <td>640.0</td>\n",
       "    </tr>\n",
       "    <tr>\n",
       "      <th>3</th>\n",
       "      <td>00150343289f317a0ad5629d5b7d9ef9</td>\n",
       "      <td>[[11.0, 51.80594059405941, 257.4290271132376, ...</td>\n",
       "      <td>515.0</td>\n",
       "      <td>512.0</td>\n",
       "    </tr>\n",
       "    <tr>\n",
       "      <th>4</th>\n",
       "      <td>001d127bad87592efe45a5c7678f8b8d</td>\n",
       "      <td>[[13.0, 340.3333333333333, 105.16666666666669,...</td>\n",
       "      <td>512.0</td>\n",
       "      <td>512.0</td>\n",
       "    </tr>\n",
       "  </tbody>\n",
       "</table>\n",
       "</div>"
      ],
      "text/plain": [
       "                           image_id  \\\n",
       "0  0005e8e3701dfb1dd93d53e2ff537b6e   \n",
       "1  0007d316f756b3fa0baea2ff514ce945   \n",
       "2  000d68e42b71d3eac10ccc077aba07c1   \n",
       "3  00150343289f317a0ad5629d5b7d9ef9   \n",
       "4  001d127bad87592efe45a5c7678f8b8d   \n",
       "\n",
       "                                              bboxes  image_width  \\\n",
       "0  [[7.0, 150.0, 97.83333333333331, 50.8333333333...        512.0   \n",
       "1  [[13.0, 309.3333333333333, 156.0, 28.0, 19.555...        512.0   \n",
       "2  [[9.0, 9.555555555555557, 0.0, 186.44444444444...        512.0   \n",
       "3  [[11.0, 51.80594059405941, 257.4290271132376, ...        515.0   \n",
       "4  [[13.0, 340.3333333333333, 105.16666666666669,...        512.0   \n",
       "\n",
       "   image_height  \n",
       "0         512.0  \n",
       "1         640.0  \n",
       "2         640.0  \n",
       "3         512.0  \n",
       "4         512.0  "
      ]
     },
     "execution_count": 16,
     "metadata": {},
     "output_type": "execute_result"
    }
   ],
   "source": [
    "small_df_2cols.head()"
   ]
  },
  {
   "cell_type": "code",
   "execution_count": 17,
   "metadata": {
    "execution": {
     "iopub.execute_input": "2021-03-16T19:17:23.999350Z",
     "iopub.status.busy": "2021-03-16T19:17:23.995236Z",
     "iopub.status.idle": "2021-03-16T19:17:28.420791Z",
     "shell.execute_reply": "2021-03-16T19:17:28.420309Z"
    },
    "papermill": {
     "duration": 4.45929,
     "end_time": "2021-03-16T19:17:28.420942",
     "exception": false,
     "start_time": "2021-03-16T19:17:23.961652",
     "status": "completed"
    },
    "tags": []
   },
   "outputs": [],
   "source": [
    "!mkdir CXR_data\n",
    "\n",
    "!mkdir CXR_data/images\n",
    "!mkdir CXR_data/images/train\n",
    "!mkdir CXR_data/images/validation\n",
    "\n",
    "!mkdir CXR_data/labels\n",
    "!mkdir CXR_data/labels/train\n",
    "!mkdir CXR_data/labels/validation\n"
   ]
  },
  {
   "cell_type": "code",
   "execution_count": 18,
   "metadata": {
    "execution": {
     "iopub.execute_input": "2021-03-16T19:17:28.475458Z",
     "iopub.status.busy": "2021-03-16T19:17:28.474705Z",
     "iopub.status.idle": "2021-03-16T19:18:10.859907Z",
     "shell.execute_reply": "2021-03-16T19:18:10.859372Z"
    },
    "papermill": {
     "duration": 42.416209,
     "end_time": "2021-03-16T19:18:10.860064",
     "exception": false,
     "start_time": "2021-03-16T19:17:28.443855",
     "status": "completed"
    },
    "tags": []
   },
   "outputs": [
    {
     "name": "stderr",
     "output_type": "stream",
     "text": [
      "100%|██████████| 3954/3954 [00:37<00:00, 104.52it/s]\n",
      "100%|██████████| 440/440 [00:04<00:00, 96.81it/s] \n"
     ]
    }
   ],
   "source": [
    "# Creating dir structure that is required for YOLO model\n",
    "OUTPUT_PATH = '/kaggle/working/CXR_data'\n",
    "\n",
    "def process_data(data, data_type = 'train'):\n",
    "    for _, row in tqdm(data.iterrows(), total=len(data)):\n",
    "        image_name = row['image_id']\n",
    "        bounding_boxes = row['bboxes']\n",
    "        image_width = row['image_width']\n",
    "        image_height = row['image_height']\n",
    "\n",
    "        yolo_data = []\n",
    "        for bbox in bounding_boxes:\n",
    "            class_id = bbox[0]\n",
    "            x = bbox[1]\n",
    "            y = bbox[2]\n",
    "            w = bbox[3]\n",
    "            h = bbox[4]\n",
    "\n",
    "            x_center = x+w/2\n",
    "            y_center = y+h/2\n",
    "\n",
    "            # yolo required all coordinates to lie between 0-1\n",
    "            x_center /= image_width\n",
    "            y_center /= image_height\n",
    "            w /= image_width        # dividing bb width by image width\n",
    "            h /= image_height\n",
    "\n",
    "            # add BB info to list\n",
    "            yolo_data.append([class_id, x_center, y_center, w, h])\n",
    "\n",
    "        # converting list to np array\n",
    "        yolo_data = np.array(yolo_data)\n",
    "        np.savetxt(\n",
    "            f\"{OUTPUT_PATH}/labels/{data_type}/{image_name}.txt\",\n",
    "            yolo_data,\n",
    "            fmt=[\"%d\", \"%f\", \"%f\", \"%f\", \"%f\"]      # formatting for class_id, x_center, y_center, width & height of BB\n",
    "                )\n",
    "\n",
    "        # copying image files from source to dest\n",
    "        shutil.copyfile(\n",
    "            f\"{path_train_images}/{image_name}.jpeg\",\n",
    "            f\"{OUTPUT_PATH}/images/{data_type}/{image_name}.jpeg\"\n",
    "        )\n",
    "\n",
    "\n",
    "\n",
    "# ------------------------------------------\n",
    "process_data(df_train, data_type = 'train')\n",
    "process_data(df_valid, data_type = 'validation')\n",
    "\n",
    "# ------------------------------------------\n",
    "# Once cxr.yaml file is created, we proceed to training the model\n"
   ]
  },
  {
   "cell_type": "markdown",
   "metadata": {
    "papermill": {
     "duration": 0.11883,
     "end_time": "2021-03-16T19:18:11.097262",
     "exception": false,
     "start_time": "2021-03-16T19:18:10.978432",
     "status": "completed"
    },
    "tags": []
   },
   "source": [
    "# Requirements for yolov5"
   ]
  },
  {
   "cell_type": "code",
   "execution_count": 19,
   "metadata": {
    "execution": {
     "iopub.execute_input": "2021-03-16T19:18:11.342809Z",
     "iopub.status.busy": "2021-03-16T19:18:11.337494Z",
     "iopub.status.idle": "2021-03-16T19:18:25.747467Z",
     "shell.execute_reply": "2021-03-16T19:18:25.746602Z"
    },
    "papermill": {
     "duration": 14.532618,
     "end_time": "2021-03-16T19:18:25.747624",
     "exception": false,
     "start_time": "2021-03-16T19:18:11.215006",
     "status": "completed"
    },
    "tags": []
   },
   "outputs": [
    {
     "name": "stdout",
     "output_type": "stream",
     "text": [
      "Requirement already satisfied: Cython in /opt/conda/lib/python3.7/site-packages (from -r /kaggle/working/yolov5/requirements.txt (line 4)) (0.29.21)\r\n",
      "Requirement already satisfied: matplotlib>=3.2.2 in /opt/conda/lib/python3.7/site-packages (from -r /kaggle/working/yolov5/requirements.txt (line 5)) (3.3.3)\r\n",
      "Requirement already satisfied: numpy>=1.18.5 in /opt/conda/lib/python3.7/site-packages (from -r /kaggle/working/yolov5/requirements.txt (line 6)) (1.19.5)\r\n",
      "Requirement already satisfied: opencv-python>=4.1.2 in /opt/conda/lib/python3.7/site-packages (from -r /kaggle/working/yolov5/requirements.txt (line 7)) (4.5.1.48)\r\n",
      "Requirement already satisfied: Pillow in /opt/conda/lib/python3.7/site-packages (from -r /kaggle/working/yolov5/requirements.txt (line 8)) (7.2.0)\r\n",
      "Requirement already satisfied: PyYAML>=5.3.1 in /opt/conda/lib/python3.7/site-packages (from -r /kaggle/working/yolov5/requirements.txt (line 9)) (5.3.1)\r\n",
      "Requirement already satisfied: scipy>=1.4.1 in /opt/conda/lib/python3.7/site-packages (from -r /kaggle/working/yolov5/requirements.txt (line 10)) (1.5.4)\r\n",
      "Requirement already satisfied: tensorboard>=2.2 in /opt/conda/lib/python3.7/site-packages (from -r /kaggle/working/yolov5/requirements.txt (line 11)) (2.4.1)\r\n",
      "Requirement already satisfied: torch>=1.7.0 in /opt/conda/lib/python3.7/site-packages (from -r /kaggle/working/yolov5/requirements.txt (line 12)) (1.7.0)\r\n",
      "Requirement already satisfied: torchvision>=0.8.1 in /opt/conda/lib/python3.7/site-packages (from -r /kaggle/working/yolov5/requirements.txt (line 13)) (0.8.1)\r\n",
      "Requirement already satisfied: tqdm>=4.41.0 in /opt/conda/lib/python3.7/site-packages (from -r /kaggle/working/yolov5/requirements.txt (line 14)) (4.55.1)\r\n",
      "Requirement already satisfied: seaborn>=0.11.0 in /opt/conda/lib/python3.7/site-packages (from -r /kaggle/working/yolov5/requirements.txt (line 20)) (0.11.1)\r\n",
      "Requirement already satisfied: pandas in /opt/conda/lib/python3.7/site-packages (from -r /kaggle/working/yolov5/requirements.txt (line 21)) (1.1.5)\r\n",
      "Collecting thop\r\n",
      "  Downloading thop-0.0.31.post2005241907-py3-none-any.whl (8.7 kB)\r\n",
      "Collecting pycocotools>=2.0\r\n",
      "  Downloading pycocotools-2.0.2.tar.gz (23 kB)\r\n",
      "Requirement already satisfied: python-dateutil>=2.1 in /opt/conda/lib/python3.7/site-packages (from matplotlib>=3.2.2->-r /kaggle/working/yolov5/requirements.txt (line 5)) (2.8.1)\r\n",
      "Requirement already satisfied: cycler>=0.10 in /opt/conda/lib/python3.7/site-packages (from matplotlib>=3.2.2->-r /kaggle/working/yolov5/requirements.txt (line 5)) (0.10.0)\r\n",
      "Requirement already satisfied: pyparsing!=2.0.4,!=2.1.2,!=2.1.6,>=2.0.3 in /opt/conda/lib/python3.7/site-packages (from matplotlib>=3.2.2->-r /kaggle/working/yolov5/requirements.txt (line 5)) (2.4.7)\r\n",
      "Requirement already satisfied: kiwisolver>=1.0.1 in /opt/conda/lib/python3.7/site-packages (from matplotlib>=3.2.2->-r /kaggle/working/yolov5/requirements.txt (line 5)) (1.3.1)\r\n",
      "Requirement already satisfied: setuptools>=18.0 in /opt/conda/lib/python3.7/site-packages (from pycocotools>=2.0->-r /kaggle/working/yolov5/requirements.txt (line 30)) (49.6.0.post20201009)\r\n",
      "Requirement already satisfied: pytz>=2017.2 in /opt/conda/lib/python3.7/site-packages (from pandas->-r /kaggle/working/yolov5/requirements.txt (line 21)) (2020.5)\r\n",
      "Requirement already satisfied: markdown>=2.6.8 in /opt/conda/lib/python3.7/site-packages (from tensorboard>=2.2->-r /kaggle/working/yolov5/requirements.txt (line 11)) (3.3.3)\r\n",
      "Requirement already satisfied: six>=1.10.0 in /opt/conda/lib/python3.7/site-packages (from tensorboard>=2.2->-r /kaggle/working/yolov5/requirements.txt (line 11)) (1.15.0)\r\n",
      "Requirement already satisfied: google-auth-oauthlib<0.5,>=0.4.1 in /opt/conda/lib/python3.7/site-packages (from tensorboard>=2.2->-r /kaggle/working/yolov5/requirements.txt (line 11)) (0.4.2)\r\n",
      "Requirement already satisfied: werkzeug>=0.11.15 in /opt/conda/lib/python3.7/site-packages (from tensorboard>=2.2->-r /kaggle/working/yolov5/requirements.txt (line 11)) (1.0.1)\r\n",
      "Requirement already satisfied: protobuf>=3.6.0 in /opt/conda/lib/python3.7/site-packages (from tensorboard>=2.2->-r /kaggle/working/yolov5/requirements.txt (line 11)) (3.14.0)\r\n",
      "Requirement already satisfied: requests<3,>=2.21.0 in /opt/conda/lib/python3.7/site-packages (from tensorboard>=2.2->-r /kaggle/working/yolov5/requirements.txt (line 11)) (2.25.1)\r\n",
      "Requirement already satisfied: wheel>=0.26 in /opt/conda/lib/python3.7/site-packages (from tensorboard>=2.2->-r /kaggle/working/yolov5/requirements.txt (line 11)) (0.36.2)\r\n",
      "Requirement already satisfied: tensorboard-plugin-wit>=1.6.0 in /opt/conda/lib/python3.7/site-packages (from tensorboard>=2.2->-r /kaggle/working/yolov5/requirements.txt (line 11)) (1.8.0)\r\n",
      "Requirement already satisfied: grpcio>=1.24.3 in /opt/conda/lib/python3.7/site-packages (from tensorboard>=2.2->-r /kaggle/working/yolov5/requirements.txt (line 11)) (1.32.0)\r\n",
      "Requirement already satisfied: absl-py>=0.4 in /opt/conda/lib/python3.7/site-packages (from tensorboard>=2.2->-r /kaggle/working/yolov5/requirements.txt (line 11)) (0.10.0)\r\n",
      "Requirement already satisfied: google-auth<2,>=1.6.3 in /opt/conda/lib/python3.7/site-packages (from tensorboard>=2.2->-r /kaggle/working/yolov5/requirements.txt (line 11)) (1.24.0)\r\n",
      "Requirement already satisfied: future in /opt/conda/lib/python3.7/site-packages (from torch>=1.7.0->-r /kaggle/working/yolov5/requirements.txt (line 12)) (0.18.2)\r\n",
      "Requirement already satisfied: typing_extensions in /opt/conda/lib/python3.7/site-packages (from torch>=1.7.0->-r /kaggle/working/yolov5/requirements.txt (line 12)) (3.7.4.3)\r\n",
      "Requirement already satisfied: dataclasses in /opt/conda/lib/python3.7/site-packages (from torch>=1.7.0->-r /kaggle/working/yolov5/requirements.txt (line 12)) (0.6)\r\n",
      "Requirement already satisfied: pyasn1-modules>=0.2.1 in /opt/conda/lib/python3.7/site-packages (from google-auth<2,>=1.6.3->tensorboard>=2.2->-r /kaggle/working/yolov5/requirements.txt (line 11)) (0.2.7)\r\n",
      "Requirement already satisfied: rsa<5,>=3.1.4 in /opt/conda/lib/python3.7/site-packages (from google-auth<2,>=1.6.3->tensorboard>=2.2->-r /kaggle/working/yolov5/requirements.txt (line 11)) (4.6)\r\n",
      "Requirement already satisfied: cachetools<5.0,>=2.0.0 in /opt/conda/lib/python3.7/site-packages (from google-auth<2,>=1.6.3->tensorboard>=2.2->-r /kaggle/working/yolov5/requirements.txt (line 11)) (4.1.1)\r\n",
      "Requirement already satisfied: requests-oauthlib>=0.7.0 in /opt/conda/lib/python3.7/site-packages (from google-auth-oauthlib<0.5,>=0.4.1->tensorboard>=2.2->-r /kaggle/working/yolov5/requirements.txt (line 11)) (1.3.0)\r\n",
      "Requirement already satisfied: importlib-metadata in /opt/conda/lib/python3.7/site-packages (from markdown>=2.6.8->tensorboard>=2.2->-r /kaggle/working/yolov5/requirements.txt (line 11)) (3.3.0)\r\n",
      "Requirement already satisfied: pyasn1<0.5.0,>=0.4.6 in /opt/conda/lib/python3.7/site-packages (from pyasn1-modules>=0.2.1->google-auth<2,>=1.6.3->tensorboard>=2.2->-r /kaggle/working/yolov5/requirements.txt (line 11)) (0.4.8)\r\n",
      "Requirement already satisfied: chardet<5,>=3.0.2 in /opt/conda/lib/python3.7/site-packages (from requests<3,>=2.21.0->tensorboard>=2.2->-r /kaggle/working/yolov5/requirements.txt (line 11)) (3.0.4)\r\n",
      "Requirement already satisfied: urllib3<1.27,>=1.21.1 in /opt/conda/lib/python3.7/site-packages (from requests<3,>=2.21.0->tensorboard>=2.2->-r /kaggle/working/yolov5/requirements.txt (line 11)) (1.26.2)\r\n",
      "Requirement already satisfied: certifi>=2017.4.17 in /opt/conda/lib/python3.7/site-packages (from requests<3,>=2.21.0->tensorboard>=2.2->-r /kaggle/working/yolov5/requirements.txt (line 11)) (2020.12.5)\r\n",
      "Requirement already satisfied: idna<3,>=2.5 in /opt/conda/lib/python3.7/site-packages (from requests<3,>=2.21.0->tensorboard>=2.2->-r /kaggle/working/yolov5/requirements.txt (line 11)) (2.10)\r\n",
      "Requirement already satisfied: oauthlib>=3.0.0 in /opt/conda/lib/python3.7/site-packages (from requests-oauthlib>=0.7.0->google-auth-oauthlib<0.5,>=0.4.1->tensorboard>=2.2->-r /kaggle/working/yolov5/requirements.txt (line 11)) (3.0.1)\r\n",
      "Requirement already satisfied: zipp>=0.5 in /opt/conda/lib/python3.7/site-packages (from importlib-metadata->markdown>=2.6.8->tensorboard>=2.2->-r /kaggle/working/yolov5/requirements.txt (line 11)) (3.4.0)\r\n",
      "Building wheels for collected packages: pycocotools\r\n",
      "  Building wheel for pycocotools (setup.py) ... \u001b[?25l-\b \b\\\b \b|\b \b/\b \b-\b \b\\\b \b|\b \b/\b \bdone\r\n",
      "\u001b[?25h  Created wheel for pycocotools: filename=pycocotools-2.0.2-cp37-cp37m-linux_x86_64.whl size=272653 sha256=0e85d707f2f13c7f96faac646c05a4f452157a15c3c62821499882ba83800e2e\r\n",
      "  Stored in directory: /root/.cache/pip/wheels/bc/cf/1b/e95c99c5f9d1648be3f500ca55e7ce55f24818b0f48336adaf\r\n",
      "Successfully built pycocotools\r\n",
      "Installing collected packages: thop, pycocotools\r\n",
      "Successfully installed pycocotools-2.0.2 thop-0.0.31.post2005241907\r\n"
     ]
    }
   ],
   "source": [
    "!pip install -r /kaggle/working/yolov5/requirements.txt"
   ]
  },
  {
   "cell_type": "code",
   "execution_count": 20,
   "metadata": {
    "execution": {
     "iopub.execute_input": "2021-03-16T19:18:26.006182Z",
     "iopub.status.busy": "2021-03-16T19:18:26.000946Z",
     "iopub.status.idle": "2021-03-16T19:18:27.254953Z",
     "shell.execute_reply": "2021-03-16T19:18:27.255401Z"
    },
    "papermill": {
     "duration": 1.38301,
     "end_time": "2021-03-16T19:18:27.255566",
     "exception": false,
     "start_time": "2021-03-16T19:18:25.872556",
     "status": "completed"
    },
    "tags": []
   },
   "outputs": [
    {
     "name": "stdout",
     "output_type": "stream",
     "text": [
      "/kaggle/working\r\n",
      "/kaggle/working/yolov5\r\n"
     ]
    }
   ],
   "source": [
    "!pwd\n",
    "os.chdir('/kaggle/working/yolov5')\n",
    "!pwd"
   ]
  },
  {
   "cell_type": "code",
   "execution_count": 21,
   "metadata": {
    "execution": {
     "iopub.execute_input": "2021-03-16T19:18:27.526471Z",
     "iopub.status.busy": "2021-03-16T19:18:27.525924Z",
     "iopub.status.idle": "2021-03-16T19:18:27.539743Z",
     "shell.execute_reply": "2021-03-16T19:18:27.538864Z"
    },
    "papermill": {
     "duration": 0.144045,
     "end_time": "2021-03-16T19:18:27.539881",
     "exception": false,
     "start_time": "2021-03-16T19:18:27.395836",
     "status": "completed"
    },
    "tags": []
   },
   "outputs": [
    {
     "data": {
      "text/plain": [
       "'/kaggle/working/yolov5/cxr_kaggle.yaml'"
      ]
     },
     "execution_count": 21,
     "metadata": {},
     "output_type": "execute_result"
    }
   ],
   "source": [
    "# copying yaml file to yolov5 folder\n",
    "shutil.copyfile('/kaggle/input/yaml-file/cxr_kaggle.yaml', '/kaggle/working/yolov5/cxr_kaggle.yaml')"
   ]
  },
  {
   "cell_type": "markdown",
   "metadata": {
    "papermill": {
     "duration": 0.126803,
     "end_time": "2021-03-16T19:18:27.799741",
     "exception": false,
     "start_time": "2021-03-16T19:18:27.672938",
     "status": "completed"
    },
    "tags": []
   },
   "source": [
    "###  \n"
   ]
  },
  {
   "cell_type": "code",
   "execution_count": 22,
   "metadata": {
    "execution": {
     "iopub.execute_input": "2021-03-16T19:18:28.058637Z",
     "iopub.status.busy": "2021-03-16T19:18:28.053479Z",
     "iopub.status.idle": "2021-03-16T19:57:53.671025Z",
     "shell.execute_reply": "2021-03-16T19:57:53.671556Z"
    },
    "papermill": {
     "duration": 2365.747302,
     "end_time": "2021-03-16T19:57:53.671728",
     "exception": false,
     "start_time": "2021-03-16T19:18:27.924426",
     "status": "completed"
    },
    "tags": []
   },
   "outputs": [
    {
     "name": "stdout",
     "output_type": "stream",
     "text": [
      "\u001b[34m\u001b[1mgithub: \u001b[0mup to date with https://github.com/ultralytics/yolov5 ✅\r\n",
      "2021-03-16 19:18:34.578292: I tensorflow/stream_executor/platform/default/dso_loader.cc:49] Successfully opened dynamic library libcudart.so.10.2\r\n",
      "2021-03-16 19:18:45.494549: I tensorflow/stream_executor/platform/default/dso_loader.cc:49] Successfully opened dynamic library libcudart.so.10.2\r\n",
      "2021-03-16 19:18:45.497058: I tensorflow/stream_executor/platform/default/dso_loader.cc:49] Successfully opened dynamic library libcudart.so.10.2\r\n",
      "\u001b[34m\u001b[1mwandb\u001b[0m: Offline run mode, not syncing to the cloud.\r\n",
      "\u001b[34m\u001b[1mwandb\u001b[0m: W&B syncing is set to `offline` in this directory.  Run `wandb online` to enable cloud syncing.\r\n",
      "\u001b[34m\u001b[1mtrain: \u001b[0mScanning '/kaggle/working/CXR_data/labels/train' images and labels... 3954 found, 0 missing, 0 empty, 0 corrupted: 100%|██████████| 3954/3954 [00:01<00:00, 2856.00it/s]\r\n",
      "\u001b[34m\u001b[1mval: \u001b[0mScanning '/kaggle/working/CXR_data/labels/validation' images and labels... 440 found, 0 missing, 0 empty, 0 corrupted: 100%|██████████| 440/440 [00:00<00:00, 1709.97it/s]\r\n",
      "Plotting labels... \r\n",
      "\r\n",
      "\u001b[34m\u001b[1mautoanchor: \u001b[0mAnalyzing anchors... anchors/target = 5.09, Best Possible Recall (BPR) = 0.9999\r\n",
      "       0/9    0.841G   0.09185   0.07185   0.06542    0.2291        43       640: 100%|██████████| 1977/1977 [03:50<00:00,  8.56it/s]\r\n",
      "               Class      Images      Labels           P           R      mAP@.5  mAP@.5:.95: 100%|██████████| 110/110 [00:10<00:00, 10.39it/s]\r\n",
      "                 all         440        3716        0.86      0.0123      0.0018    0.000313\r\n",
      "       1/9    0.843G   0.08492   0.07318    0.0554    0.2135        56       640: 100%|██████████| 1977/1977 [03:38<00:00,  9.06it/s]\r\n",
      "               Class      Images      Labels           P           R      mAP@.5  mAP@.5:.95: 100%|██████████| 110/110 [00:06<00:00, 16.16it/s]\r\n",
      "                 all         440        3716        0.88      0.0546      0.0217     0.00511\r\n",
      "       2/9    0.843G   0.07818   0.06696   0.04111    0.1863        12       640: 100%|██████████| 1977/1977 [03:37<00:00,  9.08it/s]\r\n",
      "               Class      Images      Labels           P           R      mAP@.5  mAP@.5:.95: 100%|██████████| 110/110 [00:08<00:00, 12.35it/s]\r\n",
      "                 all         440        3716       0.774       0.106      0.0735      0.0241\r\n",
      "       3/9    0.843G   0.07135   0.06262    0.0339    0.1679        26       640: 100%|██████████| 1977/1977 [03:39<00:00,  9.00it/s]\r\n",
      "               Class      Images      Labels           P           R      mAP@.5  mAP@.5:.95: 100%|██████████| 110/110 [00:07<00:00, 14.59it/s]\r\n",
      "                 all         440        3716       0.418       0.181       0.113       0.043\r\n",
      "       4/9    0.843G   0.06669   0.06014   0.03142    0.1583        32       640: 100%|██████████| 1977/1977 [03:44<00:00,  8.80it/s]\r\n",
      "               Class      Images      Labels           P           R      mAP@.5  mAP@.5:.95: 100%|██████████| 110/110 [00:07<00:00, 14.79it/s]\r\n",
      "                 all         440        3716       0.426       0.238       0.134      0.0498\r\n",
      "       5/9    0.843G   0.06343   0.06028   0.03028     0.154        10       640: 100%|██████████| 1977/1977 [03:47<00:00,  8.69it/s]\r\n",
      "               Class      Images      Labels           P           R      mAP@.5  mAP@.5:.95: 100%|██████████| 110/110 [00:07<00:00, 14.59it/s]\r\n",
      "                 all         440        3716       0.348       0.235       0.157      0.0588\r\n",
      "       6/9    0.843G   0.06097   0.05773   0.02898    0.1477         6       640: 100%|██████████| 1977/1977 [03:41<00:00,  8.93it/s]\r\n",
      "               Class      Images      Labels           P           R      mAP@.5  mAP@.5:.95: 100%|██████████| 110/110 [00:07<00:00, 15.27it/s]\r\n",
      "                 all         440        3716       0.342       0.204       0.151      0.0546\r\n",
      "       7/9    0.843G    0.0596   0.05692   0.02831    0.1448        13       640: 100%|██████████| 1977/1977 [03:43<00:00,  8.83it/s]\r\n",
      "               Class      Images      Labels           P           R      mAP@.5  mAP@.5:.95: 100%|██████████| 110/110 [00:09<00:00, 12.07it/s]\r\n",
      "                 all         440        3716       0.372       0.247       0.198      0.0763\r\n",
      "       8/9    0.843G   0.05819   0.05682   0.02761    0.1426         7       640: 100%|██████████| 1977/1977 [03:47<00:00,  8.68it/s]\r\n",
      "               Class      Images      Labels           P           R      mAP@.5  mAP@.5:.95: 100%|██████████| 110/110 [00:07<00:00, 14.43it/s]\r\n",
      "                 all         440        3716       0.479       0.213       0.189      0.0724\r\n",
      "       9/9    0.843G   0.05767    0.0574   0.02796     0.143        52       640: 100%|██████████| 1977/1977 [03:50<00:00,  8.59it/s]\r\n",
      "               Class      Images      Labels           P           R      mAP@.5  mAP@.5:.95: 100%|██████████| 110/110 [00:11<00:00,  9.96it/s]\r\n",
      "                 all         440        3716       0.395        0.25       0.214      0.0821\r\n",
      "  Aortic enlargement         440         709       0.621       0.597       0.655       0.328\r\n",
      "         Atelectasis         440          26           1           0       0.101      0.0235\r\n",
      "       Calcification         440          70       0.192      0.0429      0.0296     0.00803\r\n",
      "        Cardiomegaly         440         539       0.668        0.43       0.568       0.312\r\n",
      "       Consolidation         440          58       0.369       0.259       0.227      0.0613\r\n",
      "                 ILD         440         109       0.315       0.303       0.265      0.0855\r\n",
      "        Infiltration         440         142       0.297       0.325       0.209      0.0627\r\n",
      "        Lung Opacity         440         282       0.268       0.262       0.179      0.0454\r\n",
      "         Nodule/Mass         440         206       0.246       0.177       0.102      0.0328\r\n",
      "        Other lesion         440         193           0           0      0.0172     0.00487\r\n",
      "    Pleural effusion         440         295       0.205       0.539       0.316         0.1\r\n",
      "  Pleural thickening         440         517       0.198       0.269       0.164      0.0409\r\n",
      "        Pneumothorax         440          35           1           0    0.000244    4.88e-05\r\n",
      "  Pulmonary fibrosis         440         535       0.152       0.293       0.157      0.0432\r\n",
      "Optimizer stripped from runs/train/cxr_model/weights/last.pt, 14.5MB\r\n",
      "Optimizer stripped from runs/train/cxr_model/weights/best.pt, 14.5MB\r\n",
      "\r\n",
      "\u001b[34m\u001b[1mwandb\u001b[0m: Waiting for W&B process to finish, PID 181\r\n",
      "\u001b[34m\u001b[1mwandb\u001b[0m: Program ended successfully.\r\n",
      "\u001b[34m\u001b[1mwandb\u001b[0m: Find user logs for this run at: /kaggle/working/yolov5/wandb/offline-run-20210316_191844-2460q9p3/logs/debug.log\r\n",
      "\u001b[34m\u001b[1mwandb\u001b[0m: Find internal logs for this run at: /kaggle/working/yolov5/wandb/offline-run-20210316_191844-2460q9p3/logs/debug-internal.log\r\n",
      "\u001b[34m\u001b[1mwandb\u001b[0m: Run summary:\r\n",
      "\u001b[34m\u001b[1mwandb\u001b[0m:         train/box_loss 0.05767\r\n",
      "\u001b[34m\u001b[1mwandb\u001b[0m:         train/obj_loss 0.0574\r\n",
      "\u001b[34m\u001b[1mwandb\u001b[0m:         train/cls_loss 0.02796\r\n",
      "\u001b[34m\u001b[1mwandb\u001b[0m:      metrics/precision 0.39519\r\n",
      "\u001b[34m\u001b[1mwandb\u001b[0m:         metrics/recall 0.24984\r\n",
      "\u001b[34m\u001b[1mwandb\u001b[0m:        metrics/mAP_0.5 0.21359\r\n",
      "\u001b[34m\u001b[1mwandb\u001b[0m:   metrics/mAP_0.5:0.95 0.08208\r\n",
      "\u001b[34m\u001b[1mwandb\u001b[0m:           val/box_loss 0.05526\r\n",
      "\u001b[34m\u001b[1mwandb\u001b[0m:           val/obj_loss 0.03928\r\n",
      "\u001b[34m\u001b[1mwandb\u001b[0m:           val/cls_loss 0.02651\r\n",
      "\u001b[34m\u001b[1mwandb\u001b[0m:                  x/lr0 0.00276\r\n",
      "\u001b[34m\u001b[1mwandb\u001b[0m:                  x/lr1 0.00276\r\n",
      "\u001b[34m\u001b[1mwandb\u001b[0m:                  x/lr2 0.00276\r\n",
      "\u001b[34m\u001b[1mwandb\u001b[0m:               _runtime 2343\r\n",
      "\u001b[34m\u001b[1mwandb\u001b[0m:             _timestamp 1615924668\r\n",
      "\u001b[34m\u001b[1mwandb\u001b[0m:                  _step 10\r\n",
      "\u001b[34m\u001b[1mwandb\u001b[0m: Run history:\r\n",
      "\u001b[34m\u001b[1mwandb\u001b[0m:         train/box_loss █▇▅▄▃▂▂▁▁▁\r\n",
      "\u001b[34m\u001b[1mwandb\u001b[0m:         train/obj_loss ▇█▅▃▂▂▁▁▁▁\r\n",
      "\u001b[34m\u001b[1mwandb\u001b[0m:         train/cls_loss █▆▄▂▂▁▁▁▁▁\r\n",
      "\u001b[34m\u001b[1mwandb\u001b[0m:      metrics/precision ██▇▂▂▁▁▁▃▂\r\n",
      "\u001b[34m\u001b[1mwandb\u001b[0m:         metrics/recall ▁▂▄▆██▇█▇█\r\n",
      "\u001b[34m\u001b[1mwandb\u001b[0m:        metrics/mAP_0.5 ▁▂▃▅▅▆▆▇▇█\r\n",
      "\u001b[34m\u001b[1mwandb\u001b[0m:   metrics/mAP_0.5:0.95 ▁▁▃▅▅▆▆█▇█\r\n",
      "\u001b[34m\u001b[1mwandb\u001b[0m:           val/box_loss █▇▅▃▃▂▃▁▁▁\r\n",
      "\u001b[34m\u001b[1mwandb\u001b[0m:           val/obj_loss █▇▅▃▂▂▂▁▁▁\r\n",
      "\u001b[34m\u001b[1mwandb\u001b[0m:           val/cls_loss █▅▃▂▂▁▂▁▁▁\r\n",
      "\u001b[34m\u001b[1mwandb\u001b[0m:                  x/lr0 ▂▅█▇▇▆▅▃▂▁\r\n",
      "\u001b[34m\u001b[1mwandb\u001b[0m:                  x/lr1 ▂▅█▇▇▆▅▃▂▁\r\n",
      "\u001b[34m\u001b[1mwandb\u001b[0m:                  x/lr2 █▅▂▂▂▁▁▁▁▁\r\n",
      "\u001b[34m\u001b[1mwandb\u001b[0m:               _runtime ▁▂▃▃▄▅▆▆▇██\r\n",
      "\u001b[34m\u001b[1mwandb\u001b[0m:             _timestamp ▁▂▃▃▄▅▆▆▇██\r\n",
      "\u001b[34m\u001b[1mwandb\u001b[0m:                  _step ▁▂▂▃▄▅▅▆▇▇█\r\n",
      "\u001b[34m\u001b[1mwandb\u001b[0m: \r\n",
      "\u001b[34m\u001b[1mwandb\u001b[0m: You can sync this run to the cloud by running:\r\n",
      "\u001b[34m\u001b[1mwandb\u001b[0m: \u001b[33mwandb sync /kaggle/working/yolov5/wandb/offline-run-20210316_191844-2460q9p3\u001b[0m\r\n"
     ]
    }
   ],
   "source": [
    "# weights & = dryrun saves the metrics locally so no syncing with cloud required\n",
    "# no pretrained model used so randomly initialized weights used\n",
    "!WANDB_MODE=\"dryrun\" python train.py --batch 2 --epochs 10 --data cxr_kaggle.yaml --cfg models/yolov5s.yaml --name cxr_model --weights ''"
   ]
  },
  {
   "cell_type": "code",
   "execution_count": 23,
   "metadata": {
    "execution": {
     "iopub.execute_input": "2021-03-16T19:58:07.036430Z",
     "iopub.status.busy": "2021-03-16T19:58:07.035569Z",
     "iopub.status.idle": "2021-03-16T19:58:07.038572Z",
     "shell.execute_reply": "2021-03-16T19:58:07.038105Z"
    },
    "papermill": {
     "duration": 6.521705,
     "end_time": "2021-03-16T19:58:07.038706",
     "exception": false,
     "start_time": "2021-03-16T19:58:00.517001",
     "status": "completed"
    },
    "tags": []
   },
   "outputs": [],
   "source": [
    "# !python detect.py --weights best.pt --source /kaggle/working/CXR_data/images/validation"
   ]
  },
  {
   "cell_type": "code",
   "execution_count": null,
   "metadata": {
    "papermill": {
     "duration": 6.357,
     "end_time": "2021-03-16T19:58:19.283873",
     "exception": false,
     "start_time": "2021-03-16T19:58:12.926873",
     "status": "completed"
    },
    "tags": []
   },
   "outputs": [],
   "source": []
  }
 ],
 "metadata": {
  "kernelspec": {
   "display_name": "Python 3",
   "language": "python",
   "name": "python3"
  },
  "language_info": {
   "codemirror_mode": {
    "name": "ipython",
    "version": 3
   },
   "file_extension": ".py",
   "mimetype": "text/x-python",
   "name": "python",
   "nbconvert_exporter": "python",
   "pygments_lexer": "ipython3",
   "version": "3.7.9"
  },
  "papermill": {
   "default_parameters": {},
   "duration": 2527.869918,
   "end_time": "2021-03-16T19:58:25.921803",
   "environment_variables": {},
   "exception": null,
   "input_path": "__notebook__.ipynb",
   "output_path": "__notebook__.ipynb",
   "parameters": {},
   "start_time": "2021-03-16T19:16:18.051885",
   "version": "2.2.2"
  }
 },
 "nbformat": 4,
 "nbformat_minor": 4
}
